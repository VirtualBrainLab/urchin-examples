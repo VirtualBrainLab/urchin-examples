{
 "cells": [
  {
   "cell_type": "code",
   "execution_count": 6,
   "metadata": {},
   "outputs": [],
   "source": [
    "import numpy as np\n",
    "import oursin as urchin\n",
    "from iblatlas.atlas import AllenAtlas\n",
    "import matplotlib.pyplot as plt\n",
    "import matplotlib\n",
    "\n",
    "ba = AllenAtlas()"
   ]
  },
  {
   "cell_type": "code",
   "execution_count": 7,
   "metadata": {},
   "outputs": [],
   "source": [
    "data = np.load('wavemap_xyz.npz')\n",
    "all_xyz = data['all_xyz']\n",
    "wavemap_clu = data['wavemap_clu']\n",
    "ccf = ba.xyz2ccf(all_xyz)\n",
    "\n",
    "wavemap_clu_uniq = np.unique(wavemap_clu)\n",
    "\n",
    "order = np.array([9, 1, 5, 3, 0, 7, 4, 2, 6, 8])\n",
    "order_idx = np.argsort(order)\n",
    "\n",
    "cmap = plt.get_cmap(\"turbo\")\n",
    "colors = cmap(np.linspace(0, 1, len(wavemap_clu_uniq)))\n",
    "cluster_color = [colors[i] for i in order_idx]\n",
    "hex_colors = [matplotlib.colors.to_hex(col) for col in cluster_color]"
   ]
  },
  {
   "cell_type": "code",
   "execution_count": 8,
   "metadata": {},
   "outputs": [
    {
     "name": "stdout",
     "output_type": "stream",
     "text": [
      "(URN) connected to server\n",
      "Login sent with ID: 19ae8e06, copy this ID into the renderer to connect.\n"
     ]
    }
   ],
   "source": [
    "urchin.setup()"
   ]
  },
  {
   "cell_type": "code",
   "execution_count": 29,
   "metadata": {},
   "outputs": [],
   "source": [
    "urchin.ccf.set_visibility({'grey':True})\n",
    "urchin.ccf.set_material({'grey':'transparent-unlit'})\n",
    "urchin.ccf.set_alpha({'grey':0.5})"
   ]
  },
  {
   "cell_type": "code",
   "execution_count": 30,
   "metadata": {},
   "outputs": [
    {
     "name": "stdout",
     "output_type": "stream",
     "text": [
      "11938\n"
     ]
    },
    {
     "name": "stderr",
     "output_type": "stream",
     "text": [
      "packet queue is empty, aborting\n"
     ]
    },
    {
     "name": "stdout",
     "output_type": "stream",
     "text": [
      "(URN) disconnected from server\n",
      "(URN) connected to server\n",
      "Login sent with ID: 19ae8e06, copy this ID into the renderer to connect.\n"
     ]
    }
   ],
   "source": [
    "small_n = int(ccf.shape[0]/3)\n",
    "print(small_n)\n",
    "neurons = urchin.neurons.create(small_n)\n",
    "colors = []\n",
    "for i, pos in enumerate(ccf):\n",
    "    if i < small_n:\n",
    "        neurons[i].set_position([pos[0],pos[1],pos[2]])\n",
    "        neurons[i].set_size(0.04)\n",
    "        colors.append(hex_colors[wavemap_clu[i][0]])\n",
    "\n",
    "# urchin.neurons.set_sizes(neurons,0.04)\n",
    "urchin.neurons.set_colors(neurons,colors)"
   ]
  },
  {
   "cell_type": "code",
   "execution_count": 26,
   "metadata": {},
   "outputs": [
    {
     "data": {
      "text/plain": [
       "35814"
      ]
     },
     "execution_count": 26,
     "metadata": {},
     "output_type": "execute_result"
    }
   ],
   "source": [
    "ccf.shape[0]"
   ]
  },
  {
   "cell_type": "code",
   "execution_count": 17,
   "metadata": {},
   "outputs": [
    {
     "data": {
      "text/plain": [
       "3581"
      ]
     },
     "execution_count": 17,
     "metadata": {},
     "output_type": "execute_result"
    }
   ],
   "source": [
    "i"
   ]
  },
  {
   "cell_type": "code",
   "execution_count": 21,
   "metadata": {},
   "outputs": [
    {
     "data": {
      "text/plain": [
       "3581.4"
      ]
     },
     "execution_count": 21,
     "metadata": {},
     "output_type": "execute_result"
    }
   ],
   "source": [
    "ccf.shape[0]/10"
   ]
  },
  {
   "cell_type": "code",
   "execution_count": 22,
   "metadata": {},
   "outputs": [
    {
     "data": {
      "text/plain": [
       "3581"
      ]
     },
     "execution_count": 22,
     "metadata": {},
     "output_type": "execute_result"
    }
   ],
   "source": [
    "i"
   ]
  },
  {
   "cell_type": "code",
   "execution_count": null,
   "metadata": {},
   "outputs": [],
   "source": []
  }
 ],
 "metadata": {
  "kernelspec": {
   "display_name": "iblenv",
   "language": "python",
   "name": "python3"
  },
  "language_info": {
   "codemirror_mode": {
    "name": "ipython",
    "version": 3
   },
   "file_extension": ".py",
   "mimetype": "text/x-python",
   "name": "python",
   "nbconvert_exporter": "python",
   "pygments_lexer": "ipython3",
   "version": "3.9.0"
  },
  "orig_nbformat": 4
 },
 "nbformat": 4,
 "nbformat_minor": 2
}
