{
 "cells": [
  {
   "cell_type": "markdown",
   "metadata": {},
   "source": [
    "# Steinmetz et al. 2019 (Nature) data demonstration\n",
    "This example walks hrough the code to generate graphics using the data shown in the paper listed above.\n",
    "\n",
    "<a target=\"_blank\" href=\"https://colab.research.google.com/github/VirtualBrainLab/urchin-examples/tree/colab/steinmetz_2019\">\n",
    "  <img src=\"https://colab.research.google.com/assets/colab-badge.svg\" alt=\"Open In Colab\"/>\n",
    "</a>\n",
    "\n"
   ]
  },
  {
   "attachments": {},
   "cell_type": "markdown",
   "metadata": {},
   "source": [
    "## Run the following blocks if using the notebook for the first time:"
   ]
  },
  {
   "cell_type": "code",
   "execution_count": null,
   "metadata": {},
   "outputs": [],
   "source": [
    "#Installing Urchin\n",
    "!pip install oursin -U"
   ]
  },
  {
   "cell_type": "markdown",
   "metadata": {},
   "source": [
    "## Set up the Unity Renderer for Neuroscience and open the renderer webpage \n",
    "Ensure that popups are enabled before running the following code."
   ]
  },
  {
   "cell_type": "code",
   "execution_count": null,
   "metadata": {},
   "outputs": [],
   "source": [
    "#Importing necessary libraries:\n",
    "import pandas as pd\n",
    "import oursin as urchin\n",
    "urchin.setup()"
   ]
  },
  {
   "cell_type": "code",
   "execution_count": null,
   "metadata": {},
   "outputs": [],
   "source": [
    "#Function for easily pulling in data:\n",
    "#url = link to google sheet (on editing mode) as a string\n",
    "def get_data(url):\n",
    "    data = url.replace(\"/edit#gid=\", \"/export?format=csv&gid=\")\n",
    "    df = pd.read_csv(data)\n",
    "    return df"
   ]
  },
  {
   "cell_type": "code",
   "execution_count": null,
   "metadata": {},
   "outputs": [],
   "source": [
    "import oursin as urchin\n",
    "urchin.setup()\n",
    "import pandas as pd"
   ]
  },
  {
   "attachments": {},
   "cell_type": "markdown",
   "metadata": {},
   "source": [
    "## Loading Brain Regions:"
   ]
  },
  {
   "cell_type": "code",
   "execution_count": null,
   "metadata": {},
   "outputs": [],
   "source": [
    "#Pulling in regions data:\n",
    "regions = get_data('https://docs.google.com/spreadsheets/d/1w1GtL6DDyrGL26i8W3s3Ha9x-_dDe7L9V9gXmhQgHjA/edit#gid=1205574143')\n",
    "regions.head()"
   ]
  },
  {
   "cell_type": "code",
   "execution_count": null,
   "metadata": {},
   "outputs": [],
   "source": [
    "#Generating overall brain image:\n",
    "areas = regions.loc[:,\"Areas\"]\n",
    "colors = regions.loc[:,\"Color\"]\n",
    "urchin.ccf.set_visibility({'grey':True})\n",
    "urchin.ccf.set_material({'grey':'transparent-unlit'})\n",
    "urchin.ccf.set_alpha({'grey':0.1})"
   ]
  },
  {
   "cell_type": "code",
   "execution_count": null,
   "metadata": {},
   "outputs": [],
   "source": [
    "#To set just one region to be visible:\n",
    "urchin.ccf.set_visibility({'VISpm':True})"
   ]
  },
  {
   "cell_type": "code",
   "execution_count": null,
   "metadata": {},
   "outputs": [],
   "source": [
    "#Run this to clear screen, NECESSARY IF YOU WANT TO PULL APART REGIONS\n",
    "urchin.clear()"
   ]
  },
  {
   "cell_type": "code",
   "execution_count": null,
   "metadata": {},
   "outputs": [],
   "source": [
    "#Generating specific RIGHT HEMISPHERE regions (from Nick's paper):\n",
    "#To pull apart regions, clear Urchin before running. (background must be blank)\n",
    "area_colors = {}\n",
    "area_vis = {}\n",
    "area_material = {}\n",
    "for i in range(len(areas)):\n",
    "  area = areas[i] + \"-rh\"\n",
    "  area_vis[area] = True\n",
    "  area_material = 'opaque-unlit'\n",
    "  area_colors[area] = (colors[i])\n",
    "urchin.ccf.set_visibility(area_vis)\n",
    "urchin.ccf.set_material(area_material) \n",
    "urchin.ccf.set_color(area_colors)\n"
   ]
  },
  {
   "cell_type": "code",
   "execution_count": null,
   "metadata": {},
   "outputs": [],
   "source": [
    "#Generating specific LEFT HEMISPHERE regions (from Nick's paper):\n",
    "#To pull apart regions, clear Urchin before running. (background must be blank)\n",
    "area_colors = {}\n",
    "area_vis = {}\n",
    "area_material = {}\n",
    "for i in range(len(areas)):\n",
    "  area = areas[i] + \"-lh\"\n",
    "  area_vis[area] = True\n",
    "  area_material = 'opaque-unlit'\n",
    "  area_colors[area] = (colors[i])\n",
    "urchin.ccf.set_visibility(area_vis)\n",
    "urchin.ccf.set_material(area_material) \n",
    "urchin.ccf.set_color(area_colors)"
   ]
  },
  {
   "attachments": {},
   "cell_type": "markdown",
   "metadata": {},
   "source": [
    "## Loading probes:"
   ]
  },
  {
   "cell_type": "code",
   "execution_count": null,
   "metadata": {},
   "outputs": [],
   "source": [
    "#Run this to clear screen, reccomend if running directly after regions code\n",
    "urchin.clear()"
   ]
  },
  {
   "cell_type": "code",
   "execution_count": null,
   "metadata": {},
   "outputs": [],
   "source": [
    "#Pulling full dataset\n",
    "probe_total = get_data('https://docs.google.com/spreadsheets/d/1T-RG3d_MIBXZKmrGmLnsU-O7GmwY09Z0FY6yqbYyZXI/edit#gid=1457359713')\n",
    "probe_total.head()\n",
    "probe_data = pd.DataFrame([\"session\",\"ml\", \"ap\", \"dv\", \"phi\", \"theta\", \"color\"])"
   ]
  },
  {
   "cell_type": "code",
   "execution_count": null,
   "metadata": {},
   "outputs": [],
   "source": [
    "#Generating overall brain image:\n",
    "urchin.ccf.set_visibility({'grey':True})\n",
    "urchin.ccf.set_material({'grey':'transparent-unlit'})\n",
    "urchin.ccf.set_alpha({'grey':0.1})\n"
   ]
  },
  {
   "cell_type": "code",
   "execution_count": null,
   "metadata": {},
   "outputs": [],
   "source": [
    "#Using data from a specific session:\n",
    "\"\"\"SET SESSION ID BELOW\"\"\"\n",
    "session_id = 3\n",
    "\n",
    "probe_data= probe_total.loc[probe_total['session'] == session_id]\n",
    "probe_data.head()"
   ]
  },
  {
   "cell_type": "code",
   "execution_count": null,
   "metadata": {},
   "outputs": [],
   "source": [
    "\"\"\"UNCOMMENT IF YOU WANT TO DISPLAY ALL PROBES\"\"\"\n",
    "#probe_data = probe_total"
   ]
  },
  {
   "cell_type": "code",
   "execution_count": null,
   "metadata": {},
   "outputs": [],
   "source": [
    "#Creating probes\n",
    "probes = []\n",
    "for i in range(len(probe_data)):\n",
    "    probes.append(str(probe_data.index[i]))\n",
    "urchin.probes.create(probes)\n",
    "#Setting probe colors\n",
    "probe_colors = {}\n",
    "for probe in probes:\n",
    "  probe_colors[probe] = probe_data.loc[int(probe),\"color\"]\n",
    "urchin.probes.set_color(probe_colors)\n",
    "#Setting probe positions\n",
    "probe_positions = {}\n",
    "for probe in probes:\n",
    "    probe_positions[probe] = [probe_data.loc[int(probe), \"ml\"], probe_data.loc[int(probe), \"ap\"], probe_data.loc[int(probe), \"dv\"]]\n",
    "urchin.probes.set_position(probe_positions)\n",
    "#Setting probe angles\n",
    "probe_angles = {}\n",
    "for probe in probes:\n",
    "    probe_angles[probe] = [probe_data.loc[int(probe), \"phi\"], probe_data.loc[int(probe), \"theta\"], 0]\n",
    "urchin.probes.set_angle(probe_angles)\n"
   ]
  }
 ],
 "metadata": {
  "kernelspec": {
   "display_name": "urchin-venv",
   "language": "python",
   "name": "python3"
  },
  "language_info": {
   "codemirror_mode": {
    "name": "ipython",
    "version": 3
   },
   "file_extension": ".py",
   "mimetype": "text/x-python",
   "name": "python",
   "nbconvert_exporter": "python",
   "pygments_lexer": "ipython3",
   "version": "3.9.7"
  },
  "orig_nbformat": 4
 },
 "nbformat": 4,
 "nbformat_minor": 2
}
