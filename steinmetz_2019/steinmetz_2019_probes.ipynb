{
 "cells": [
  {
   "cell_type": "markdown",
   "metadata": {},
   "source": [
    "# Steinmetz et al. 2019 (Nature) data demonstration\n",
    "This example walks through the code to generate graphics using the data shown in the paper listed above.\n",
    "\n",
    "<a target=\"_blank\" href=\"https://colab.research.google.com/github/VirtualBrainLab/urchin-examples/blob/colab/steinmetz_2019/steinmetz_2019_probes.ipynb\">\n",
    "  <img src=\"https://colab.research.google.com/assets/colab-badge.svg\" alt=\"Open In Colab\"/>\n",
    "</a>\n",
    "\n",
    "\n"
   ]
  },
  {
   "attachments": {},
   "cell_type": "markdown",
   "metadata": {},
   "source": [
    "## Run the following blocks if using the notebook for the first time:"
   ]
  },
  {
   "cell_type": "code",
   "execution_count": null,
   "metadata": {},
   "outputs": [],
   "source": [
    "#Installing Urchin\n",
    "!pip install oursin -U"
   ]
  },
  {
   "cell_type": "markdown",
   "metadata": {},
   "source": [
    "## Set up the Unity Renderer for Neuroscience and open the renderer webpage \n",
    "Ensure that popups are enabled before running the following code."
   ]
  },
  {
   "cell_type": "code",
   "execution_count": 130,
   "metadata": {},
   "outputs": [
    {
     "name": "stdout",
     "output_type": "stream",
     "text": [
      "(urchin) Client is already connected. Use ID: ebb8ac9e\n"
     ]
    }
   ],
   "source": [
    "#Importing necessary libraries:\n",
    "import pandas as pd\n",
    "import oursin as urchin\n",
    "urchin.setup(localhost= True, standalone=True)"
   ]
  },
  {
   "cell_type": "code",
   "execution_count": null,
   "metadata": {},
   "outputs": [],
   "source": [
    "urchin.clear()"
   ]
  },
  {
   "cell_type": "code",
   "execution_count": 131,
   "metadata": {},
   "outputs": [],
   "source": [
    "#Function for easily pulling in data:\n",
    "#url = link to google sheet (on editing mode) as a string\n",
    "def get_data(url):\n",
    "    data = url.replace(\"/edit#gid=\", \"/export?format=csv&gid=\")\n",
    "    df = pd.read_csv(data)\n",
    "    return df"
   ]
  },
  {
   "cell_type": "code",
   "execution_count": 132,
   "metadata": {},
   "outputs": [],
   "source": [
    "#all_probes = pd.read_csv(\"C:/Users/jasmineschoch/Downloads/all_probes.csv\")"
   ]
  },
  {
   "cell_type": "code",
   "execution_count": 133,
   "metadata": {},
   "outputs": [],
   "source": [
    "#all_probes.head()"
   ]
  },
  {
   "cell_type": "code",
   "execution_count": 237,
   "metadata": {},
   "outputs": [
    {
     "data": {
      "text/html": [
       "<div>\n",
       "<style scoped>\n",
       "    .dataframe tbody tr th:only-of-type {\n",
       "        vertical-align: middle;\n",
       "    }\n",
       "\n",
       "    .dataframe tbody tr th {\n",
       "        vertical-align: top;\n",
       "    }\n",
       "\n",
       "    .dataframe thead th {\n",
       "        text-align: right;\n",
       "    }\n",
       "</style>\n",
       "<table border=\"1\" class=\"dataframe\">\n",
       "  <thead>\n",
       "    <tr style=\"text-align: right;\">\n",
       "      <th></th>\n",
       "      <th>session</th>\n",
       "      <th>ml</th>\n",
       "      <th>ap</th>\n",
       "      <th>dv</th>\n",
       "      <th>phi</th>\n",
       "      <th>theta</th>\n",
       "      <th>color</th>\n",
       "    </tr>\n",
       "  </thead>\n",
       "  <tbody>\n",
       "    <tr>\n",
       "      <th>0</th>\n",
       "      <td>1</td>\n",
       "      <td>4990.354988</td>\n",
       "      <td>4463.941496</td>\n",
       "      <td>4907.275550</td>\n",
       "      <td>367.040203</td>\n",
       "      <td>98.599869</td>\n",
       "      <td>#EE204D</td>\n",
       "    </tr>\n",
       "    <tr>\n",
       "      <th>1</th>\n",
       "      <td>1</td>\n",
       "      <td>3170.782413</td>\n",
       "      <td>8732.329581</td>\n",
       "      <td>4900.724878</td>\n",
       "      <td>217.514548</td>\n",
       "      <td>105.903551</td>\n",
       "      <td>#EE204D</td>\n",
       "    </tr>\n",
       "    <tr>\n",
       "      <th>2</th>\n",
       "      <td>2</td>\n",
       "      <td>2562.465091</td>\n",
       "      <td>7686.413000</td>\n",
       "      <td>4851.170969</td>\n",
       "      <td>215.946819</td>\n",
       "      <td>107.513591</td>\n",
       "      <td>#EE204D</td>\n",
       "    </tr>\n",
       "    <tr>\n",
       "      <th>3</th>\n",
       "      <td>2</td>\n",
       "      <td>3707.683990</td>\n",
       "      <td>9400.993675</td>\n",
       "      <td>4086.404032</td>\n",
       "      <td>381.000255</td>\n",
       "      <td>98.227467</td>\n",
       "      <td>#EE204D</td>\n",
       "    </tr>\n",
       "    <tr>\n",
       "      <th>4</th>\n",
       "      <td>3</td>\n",
       "      <td>3312.941208</td>\n",
       "      <td>8478.681979</td>\n",
       "      <td>4061.106429</td>\n",
       "      <td>387.548431</td>\n",
       "      <td>104.063265</td>\n",
       "      <td>#EE204D</td>\n",
       "    </tr>\n",
       "  </tbody>\n",
       "</table>\n",
       "</div>"
      ],
      "text/plain": [
       "   session           ml           ap           dv         phi       theta  \\\n",
       "0        1  4990.354988  4463.941496  4907.275550  367.040203   98.599869   \n",
       "1        1  3170.782413  8732.329581  4900.724878  217.514548  105.903551   \n",
       "2        2  2562.465091  7686.413000  4851.170969  215.946819  107.513591   \n",
       "3        2  3707.683990  9400.993675  4086.404032  381.000255   98.227467   \n",
       "4        3  3312.941208  8478.681979  4061.106429  387.548431  104.063265   \n",
       "\n",
       "     color  \n",
       "0  #EE204D  \n",
       "1  #EE204D  \n",
       "2  #EE204D  \n",
       "3  #EE204D  \n",
       "4  #EE204D  "
      ]
     },
     "execution_count": 237,
     "metadata": {},
     "output_type": "execute_result"
    }
   ],
   "source": [
    "#Pulling full probe dataset\n",
    "probe_total = get_data('https://docs.google.com/spreadsheets/d/1T-RG3d_MIBXZKmrGmLnsU-O7GmwY09Z0FY6yqbYyZXI/edit#gid=1457359713')\n",
    "probe_total[\"theta\"] = -probe_total[\"theta\"] +90\n",
    "probe_total[\"phi\"] = -probe_total[\"phi\"] +270 \n",
    "probe_data = pd.DataFrame([\"session\",\"ml\", \"ap\", \"dv\", \"phi\", \"theta\", \"color\"])\n",
    "probe_total.head()"
   ]
  },
  {
   "cell_type": "code",
   "execution_count": 230,
   "metadata": {},
   "outputs": [],
   "source": [
    "\n",
    "\n",
    "#coronal view: -270 both (phi -367, theta -278)\n",
    "#there seems to be a 90 degree difference along the north south axis if you compare the images\n",
    "#so should add 90 to second angle?\n"
   ]
  },
  {
   "cell_type": "code",
   "execution_count": 231,
   "metadata": {},
   "outputs": [
    {
     "data": {
      "text/html": [
       "<div>\n",
       "<style scoped>\n",
       "    .dataframe tbody tr th:only-of-type {\n",
       "        vertical-align: middle;\n",
       "    }\n",
       "\n",
       "    .dataframe tbody tr th {\n",
       "        vertical-align: top;\n",
       "    }\n",
       "\n",
       "    .dataframe thead th {\n",
       "        text-align: right;\n",
       "    }\n",
       "</style>\n",
       "<table border=\"1\" class=\"dataframe\">\n",
       "  <thead>\n",
       "    <tr style=\"text-align: right;\">\n",
       "      <th></th>\n",
       "      <th>session</th>\n",
       "      <th>ml</th>\n",
       "      <th>ap</th>\n",
       "      <th>dv</th>\n",
       "      <th>phi</th>\n",
       "      <th>theta</th>\n",
       "      <th>color</th>\n",
       "    </tr>\n",
       "  </thead>\n",
       "  <tbody>\n",
       "    <tr>\n",
       "      <th>0</th>\n",
       "      <td>1</td>\n",
       "      <td>4990.354988</td>\n",
       "      <td>4463.941496</td>\n",
       "      <td>4907.275550</td>\n",
       "      <td>367.040203</td>\n",
       "      <td>98.599869</td>\n",
       "      <td>#EE204D</td>\n",
       "    </tr>\n",
       "    <tr>\n",
       "      <th>1</th>\n",
       "      <td>1</td>\n",
       "      <td>3170.782413</td>\n",
       "      <td>8732.329581</td>\n",
       "      <td>4900.724878</td>\n",
       "      <td>217.514548</td>\n",
       "      <td>105.903551</td>\n",
       "      <td>#EE204D</td>\n",
       "    </tr>\n",
       "    <tr>\n",
       "      <th>2</th>\n",
       "      <td>2</td>\n",
       "      <td>2562.465091</td>\n",
       "      <td>7686.413000</td>\n",
       "      <td>4851.170969</td>\n",
       "      <td>215.946819</td>\n",
       "      <td>107.513591</td>\n",
       "      <td>#EE204D</td>\n",
       "    </tr>\n",
       "    <tr>\n",
       "      <th>3</th>\n",
       "      <td>2</td>\n",
       "      <td>3707.683990</td>\n",
       "      <td>9400.993675</td>\n",
       "      <td>4086.404032</td>\n",
       "      <td>381.000255</td>\n",
       "      <td>98.227467</td>\n",
       "      <td>#EE204D</td>\n",
       "    </tr>\n",
       "    <tr>\n",
       "      <th>4</th>\n",
       "      <td>3</td>\n",
       "      <td>3312.941208</td>\n",
       "      <td>8478.681979</td>\n",
       "      <td>4061.106429</td>\n",
       "      <td>387.548431</td>\n",
       "      <td>104.063265</td>\n",
       "      <td>#EE204D</td>\n",
       "    </tr>\n",
       "  </tbody>\n",
       "</table>\n",
       "</div>"
      ],
      "text/plain": [
       "   session           ml           ap           dv         phi       theta  \\\n",
       "0        1  4990.354988  4463.941496  4907.275550  367.040203   98.599869   \n",
       "1        1  3170.782413  8732.329581  4900.724878  217.514548  105.903551   \n",
       "2        2  2562.465091  7686.413000  4851.170969  215.946819  107.513591   \n",
       "3        2  3707.683990  9400.993675  4086.404032  381.000255   98.227467   \n",
       "4        3  3312.941208  8478.681979  4061.106429  387.548431  104.063265   \n",
       "\n",
       "     color  \n",
       "0  #EE204D  \n",
       "1  #EE204D  \n",
       "2  #EE204D  \n",
       "3  #EE204D  \n",
       "4  #EE204D  "
      ]
     },
     "execution_count": 231,
     "metadata": {},
     "output_type": "execute_result"
    }
   ],
   "source": [
    "probe_total.head()"
   ]
  },
  {
   "cell_type": "code",
   "execution_count": 238,
   "metadata": {},
   "outputs": [
    {
     "name": "stdout",
     "output_type": "stream",
     "text": [
      "(Warning) Atlas was already loaded, the renderer can have issues if you try to load an atlas twice.\n"
     ]
    }
   ],
   "source": [
    "urchin.ccf25.load()"
   ]
  },
  {
   "cell_type": "code",
   "execution_count": 239,
   "metadata": {},
   "outputs": [],
   "source": [
    "#Generating overall brain image:\n",
    "urchin.ccf25.grey.set_visibility(True)\n",
    "urchin.ccf25.grey.set_material('transparent-unlit')\n",
    "urchin.ccf25.grey.set_alpha(0.2)"
   ]
  },
  {
   "cell_type": "code",
   "execution_count": 240,
   "metadata": {},
   "outputs": [],
   "source": [
    "# #Using data from a specific session:\n",
    "# \"\"\"SET SESSION ID BELOW\"\"\"\n",
    "# session_id = 3\n",
    "\n",
    "# probe_data= probe_total.loc[probe_total['session'] == session_id]\n",
    "# probe_data = probe_data.reset_index()\n",
    "\n",
    "# probe_data.head()"
   ]
  },
  {
   "cell_type": "code",
   "execution_count": 241,
   "metadata": {},
   "outputs": [],
   "source": [
    "\"\"\"UNCOMMENT IF YOU WANT TO DISPLAY ALL PROBES\"\"\"\n",
    "probe_data = probe_total\n"
   ]
  },
  {
   "cell_type": "code",
   "execution_count": 242,
   "metadata": {},
   "outputs": [],
   "source": [
    "#Creating probes\n",
    "num_probes = len(probe_data)\n",
    "probes = urchin.probes.create(num_probes)\n",
    "\n",
    "#Setting probe colors\n",
    "urchin.probes.set_colors(probes,list(probe_data.loc[:,\"color\"]))\n",
    "\n",
    "#Setting probe positions\n",
    "#putting in proper formating:\n",
    "probe_positions = []\n",
    "for probe in range(num_probes):\n",
    "    probe_pos = [probe_data.loc[probe, \"ap\"],probe_data.loc[probe, \"ml\"], probe_data.loc[probe, \"dv\"]]\n",
    "    probe_positions.append(probe_pos)\n",
    "urchin.probes.set_positions(probes, probe_positions)\n",
    "\n",
    "#Setting probe angles\n",
    "probe_angles = []\n",
    "for probe in range(num_probes):\n",
    "    probe_ang = [probe_data.loc[probe, \"phi\"],probe_data.loc[probe, \"theta\"], 0]\n",
    "    probe_angles.append(probe_ang)\n",
    "urchin.probes.set_angles(probes, probe_angles)"
   ]
  },
  {
   "cell_type": "code",
   "execution_count": 244,
   "metadata": {},
   "outputs": [],
   "source": [
    "urchin.probes.delete(probes)"
   ]
  },
  {
   "cell_type": "code",
   "execution_count": null,
   "metadata": {},
   "outputs": [],
   "source": []
  }
 ],
 "metadata": {
  "kernelspec": {
   "display_name": "urchin-venv",
   "language": "python",
   "name": "python3"
  },
  "language_info": {
   "codemirror_mode": {
    "name": "ipython",
    "version": 3
   },
   "file_extension": ".py",
   "mimetype": "text/x-python",
   "name": "python",
   "nbconvert_exporter": "python",
   "pygments_lexer": "ipython3",
   "version": "3.8.10"
  },
  "orig_nbformat": 4
 },
 "nbformat": 4,
 "nbformat_minor": 2
}
