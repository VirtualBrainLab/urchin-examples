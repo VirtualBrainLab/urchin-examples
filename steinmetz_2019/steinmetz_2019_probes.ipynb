{
 "cells": [
  {
   "cell_type": "markdown",
   "metadata": {},
   "source": [
    "# Steinmetz et al. 2019 (Nature) data demonstration\n",
    "This example walks through the code to generate graphics using the data shown in the paper listed above.\n",
    "\n",
    "<a target=\"_blank\" href=\"https://colab.research.google.com/github/VirtualBrainLab/urchin-examples/blob/colab/steinmetz_2019/steinmetz_2019_probes.ipynb\">\n",
    "  <img src=\"https://colab.research.google.com/assets/colab-badge.svg\" alt=\"Open In Colab\"/>\n",
    "</a>\n",
    "\n",
    "\n"
   ]
  },
  {
   "attachments": {},
   "cell_type": "markdown",
   "metadata": {},
   "source": [
    "## Run the following blocks if using the notebook for the first time:"
   ]
  },
  {
   "cell_type": "code",
   "execution_count": null,
   "metadata": {},
   "outputs": [],
   "source": [
    "#Installing Urchin\n",
    "!pip install oursin -U"
   ]
  },
  {
   "cell_type": "markdown",
   "metadata": {},
   "source": [
    "## Set up the Unity Renderer for Neuroscience and open the renderer webpage \n",
    "Ensure that popups are enabled before running the following code."
   ]
  },
  {
   "cell_type": "code",
   "execution_count": 1,
   "metadata": {},
   "outputs": [
    {
     "name": "stdout",
     "output_type": "stream",
     "text": [
      "(URN) connected to server\n",
      "Login sent with ID: 3a27e2c3, copy this ID into the renderer to connect.\n"
     ]
    }
   ],
   "source": [
    "#Importing necessary libraries:\n",
    "import pandas as pd\n",
    "import oursin as urchin\n",
    "urchin.setup(localhost= True, standalone=True)"
   ]
  },
  {
   "cell_type": "code",
   "execution_count": 2,
   "metadata": {},
   "outputs": [],
   "source": [
    "urchin.clear()"
   ]
  },
  {
   "cell_type": "code",
   "execution_count": 5,
   "metadata": {},
   "outputs": [],
   "source": [
    "#Function for easily pulling in data:\n",
    "#url = link to google sheet (on editing mode) as a string\n",
    "def get_data(url):\n",
    "    data = url.replace(\"/edit#gid=\", \"/export?format=csv&gid=\")\n",
    "    df = pd.read_csv(data)\n",
    "    return df"
   ]
  },
  {
   "attachments": {},
   "cell_type": "markdown",
   "metadata": {},
   "source": [
    "## Loading Brain Regions:"
   ]
  },
  {
   "cell_type": "code",
   "execution_count": null,
   "metadata": {},
   "outputs": [],
   "source": [
    "#Pulling in regions data:\n",
    "regions = get_data('https://docs.google.com/spreadsheets/d/1w1GtL6DDyrGL26i8W3s3Ha9x-_dDe7L9V9gXmhQgHjA/edit#gid=1205574143')\n",
    "regions.head()"
   ]
  },
  {
   "cell_type": "code",
   "execution_count": null,
   "metadata": {},
   "outputs": [],
   "source": [
    "#Generating overall brain image:\n",
    "areas = regions.loc[:,\"Areas\"]\n",
    "colors = regions.loc[:,\"Color\"]\n",
    "urchin.ccf.set_visibility({'grey':True})\n",
    "urchin.ccf.set_material({'grey':'transparent-unlit'})\n",
    "urchin.ccf.set_alpha({'grey':0.1})"
   ]
  },
  {
   "cell_type": "code",
   "execution_count": null,
   "metadata": {},
   "outputs": [],
   "source": [
    "#To set just one region to be visible:\n",
    "urchin.ccf.set_visibility({'VISpm':True})"
   ]
  },
  {
   "cell_type": "code",
   "execution_count": null,
   "metadata": {},
   "outputs": [],
   "source": [
    "#Run this to clear screen, NECESSARY IF YOU WANT TO PULL APART REGIONS\n",
    "urchin.clear()"
   ]
  },
  {
   "cell_type": "code",
   "execution_count": null,
   "metadata": {},
   "outputs": [],
   "source": [
    "#Generating overall brain image:\n",
    "areas = regions.loc[:,\"Areas\"]\n",
    "colors = regions.loc[:,\"Color\"]\n",
    "urchin.ccf.set_visibility({'grey':True})\n",
    "urchin.ccf.set_material({'grey':'transparent-unlit'})\n",
    "urchin.ccf.set_alpha({'grey':0.1})"
   ]
  },
  {
   "cell_type": "code",
   "execution_count": null,
   "metadata": {},
   "outputs": [],
   "source": [
    "#Generating specific RIGHT HEMISPHERE regions (from Nick's paper):\n",
    "#To pull apart regions, clear Urchin before running. (background must be blank)\n",
    "area_colors = {}\n",
    "area_vis = {}\n",
    "area_material = {}\n",
    "for i in range(len(areas)):\n",
    "  area = areas[i] + \"-rh\"\n",
    "  area_vis[area] = True\n",
    "  area_material = 'opaque-unlit'\n",
    "  area_colors[area] = (colors[i])\n",
    "urchin.ccf.set_visibility(area_vis)\n",
    "urchin.ccf.set_material(area_material) \n",
    "urchin.ccf.set_color(area_colors)\n"
   ]
  },
  {
   "cell_type": "code",
   "execution_count": null,
   "metadata": {},
   "outputs": [],
   "source": [
    "#Generating specific LEFT HEMISPHERE regions (from Nick's paper):\n",
    "#To pull apart regions, clear Urchin before running. (background must be blank)\n",
    "area_colors = {}\n",
    "area_vis = {}\n",
    "area_material = {}\n",
    "for i in range(len(areas)):\n",
    "  area = areas[i] + \"-lh\"\n",
    "  area_vis[area] = True\n",
    "  area_material = 'opaque-unlit'\n",
    "  area_colors[area] = (colors[i])\n",
    "urchin.ccf.set_visibility(area_vis)\n",
    "urchin.ccf.set_material(area_material) \n",
    "urchin.ccf.set_color(area_colors)"
   ]
  },
  {
   "cell_type": "markdown",
   "metadata": {},
   "source": [
    "Be sure to move the brain around, as well as explode (slider in top right corner) to gain visibility of all listed regions!"
   ]
  },
  {
   "attachments": {},
   "cell_type": "markdown",
   "metadata": {},
   "source": [
    "## Loading probes:"
   ]
  },
  {
   "cell_type": "code",
   "execution_count": 19,
   "metadata": {},
   "outputs": [
    {
     "ename": "AttributeError",
     "evalue": "module 'oursin.probes' has no attribute 'clear'",
     "output_type": "error",
     "traceback": [
      "\u001b[1;31m---------------------------------------------------------------------------\u001b[0m",
      "\u001b[1;31mAttributeError\u001b[0m                            Traceback (most recent call last)",
      "\u001b[1;32mc:\\Users\\jasmineschoch\\Documents\\proj\\urchin-examples\\steinmetz_2019\\steinmetz_2019_probes.ipynb Cell 18\u001b[0m line \u001b[0;36m2\n\u001b[0;32m      <a href='vscode-notebook-cell:/c%3A/Users/jasmineschoch/Documents/proj/urchin-examples/steinmetz_2019/steinmetz_2019_probes.ipynb#X22sZmlsZQ%3D%3D?line=0'>1</a>\u001b[0m \u001b[39m#Run this to clear screen, reccomend if running directly after regions code\u001b[39;00m\n\u001b[1;32m----> <a href='vscode-notebook-cell:/c%3A/Users/jasmineschoch/Documents/proj/urchin-examples/steinmetz_2019/steinmetz_2019_probes.ipynb#X22sZmlsZQ%3D%3D?line=1'>2</a>\u001b[0m urchin\u001b[39m.\u001b[39;49mprobes\u001b[39m.\u001b[39;49mclear()\n",
      "\u001b[1;31mAttributeError\u001b[0m: module 'oursin.probes' has no attribute 'clear'"
     ]
    }
   ],
   "source": [
    "#Run this to clear screen, reccomend if running directly after regions code\n",
    "urchin.clear()"
   ]
  },
  {
   "cell_type": "code",
   "execution_count": 17,
   "metadata": {},
   "outputs": [],
   "source": [
    "#Pulling full probe dataset\n",
    "probe_total = get_data('https://docs.google.com/spreadsheets/d/1T-RG3d_MIBXZKmrGmLnsU-O7GmwY09Z0FY6yqbYyZXI/edit#gid=1457359713')\n",
    "probe_total.head()\n",
    "probe_data = pd.DataFrame([\"session\",\"ml\", \"ap\", \"dv\", \"phi\", \"theta\", \"color\"])"
   ]
  },
  {
   "cell_type": "code",
   "execution_count": 18,
   "metadata": {},
   "outputs": [],
   "source": [
    "probe_total[\"ml\"] = probe_total[\"ml\"] /1000\n",
    "probe_total[\"ap\"] = probe_total[\"ap\"] /1000\n",
    "probe_total[\"dv\"] = probe_total[\"dv\"] /1000\n"
   ]
  },
  {
   "cell_type": "code",
   "execution_count": 24,
   "metadata": {},
   "outputs": [
    {
     "data": {
      "text/html": [
       "<div>\n",
       "<style scoped>\n",
       "    .dataframe tbody tr th:only-of-type {\n",
       "        vertical-align: middle;\n",
       "    }\n",
       "\n",
       "    .dataframe tbody tr th {\n",
       "        vertical-align: top;\n",
       "    }\n",
       "\n",
       "    .dataframe thead th {\n",
       "        text-align: right;\n",
       "    }\n",
       "</style>\n",
       "<table border=\"1\" class=\"dataframe\">\n",
       "  <thead>\n",
       "    <tr style=\"text-align: right;\">\n",
       "      <th></th>\n",
       "      <th>session</th>\n",
       "      <th>ml</th>\n",
       "      <th>ap</th>\n",
       "      <th>dv</th>\n",
       "      <th>phi</th>\n",
       "      <th>theta</th>\n",
       "      <th>color</th>\n",
       "    </tr>\n",
       "  </thead>\n",
       "  <tbody>\n",
       "    <tr>\n",
       "      <th>0</th>\n",
       "      <td>1</td>\n",
       "      <td>4.990355</td>\n",
       "      <td>4.463941</td>\n",
       "      <td>4.907276</td>\n",
       "      <td>-97.040203</td>\n",
       "      <td>-8.599869</td>\n",
       "      <td>#EE204D</td>\n",
       "    </tr>\n",
       "    <tr>\n",
       "      <th>1</th>\n",
       "      <td>1</td>\n",
       "      <td>3.170782</td>\n",
       "      <td>8.732330</td>\n",
       "      <td>4.900725</td>\n",
       "      <td>52.485452</td>\n",
       "      <td>-15.903551</td>\n",
       "      <td>#EE204D</td>\n",
       "    </tr>\n",
       "    <tr>\n",
       "      <th>2</th>\n",
       "      <td>2</td>\n",
       "      <td>2.562465</td>\n",
       "      <td>7.686413</td>\n",
       "      <td>4.851171</td>\n",
       "      <td>54.053181</td>\n",
       "      <td>-17.513591</td>\n",
       "      <td>#EE204D</td>\n",
       "    </tr>\n",
       "    <tr>\n",
       "      <th>3</th>\n",
       "      <td>2</td>\n",
       "      <td>3.707684</td>\n",
       "      <td>9.400994</td>\n",
       "      <td>4.086404</td>\n",
       "      <td>-111.000255</td>\n",
       "      <td>-8.227467</td>\n",
       "      <td>#EE204D</td>\n",
       "    </tr>\n",
       "    <tr>\n",
       "      <th>4</th>\n",
       "      <td>3</td>\n",
       "      <td>3.312941</td>\n",
       "      <td>8.478682</td>\n",
       "      <td>4.061106</td>\n",
       "      <td>-117.548431</td>\n",
       "      <td>-14.063265</td>\n",
       "      <td>#EE204D</td>\n",
       "    </tr>\n",
       "  </tbody>\n",
       "</table>\n",
       "</div>"
      ],
      "text/plain": [
       "   session        ml        ap        dv         phi      theta    color\n",
       "0        1  4.990355  4.463941  4.907276  -97.040203  -8.599869  #EE204D\n",
       "1        1  3.170782  8.732330  4.900725   52.485452 -15.903551  #EE204D\n",
       "2        2  2.562465  7.686413  4.851171   54.053181 -17.513591  #EE204D\n",
       "3        2  3.707684  9.400994  4.086404 -111.000255  -8.227467  #EE204D\n",
       "4        3  3.312941  8.478682  4.061106 -117.548431 -14.063265  #EE204D"
      ]
     },
     "execution_count": 24,
     "metadata": {},
     "output_type": "execute_result"
    }
   ],
   "source": [
    "probe_total.head()"
   ]
  },
  {
   "cell_type": "code",
   "execution_count": 21,
   "metadata": {},
   "outputs": [
    {
     "name": "stdout",
     "output_type": "stream",
     "text": [
      "(Warning) Atlas was already loaded, the renderer can have issues if you try to load an atlas twice.\n"
     ]
    }
   ],
   "source": [
    "urchin.ccf25.load()"
   ]
  },
  {
   "cell_type": "code",
   "execution_count": 22,
   "metadata": {},
   "outputs": [],
   "source": [
    "urchin.ccf25.grey.set_visibility(True)\n",
    "urchin.ccf25.grey.set_material('transparent-unlit')\n",
    "urchin.ccf25.grey.set_alpha(0.1)"
   ]
  },
  {
   "cell_type": "code",
   "execution_count": null,
   "metadata": {},
   "outputs": [],
   "source": [
    "#Generating overall brain image:\n",
    "urchin.ccf.set_visibility({'grey':True})\n",
    "urchin.ccf.set_material({'grey':'transparent-unlit'})\n",
    "urchin.ccf.set_alpha({'grey':0.1})\n"
   ]
  },
  {
   "cell_type": "code",
   "execution_count": 8,
   "metadata": {},
   "outputs": [
    {
     "data": {
      "text/html": [
       "<div>\n",
       "<style scoped>\n",
       "    .dataframe tbody tr th:only-of-type {\n",
       "        vertical-align: middle;\n",
       "    }\n",
       "\n",
       "    .dataframe tbody tr th {\n",
       "        vertical-align: top;\n",
       "    }\n",
       "\n",
       "    .dataframe thead th {\n",
       "        text-align: right;\n",
       "    }\n",
       "</style>\n",
       "<table border=\"1\" class=\"dataframe\">\n",
       "  <thead>\n",
       "    <tr style=\"text-align: right;\">\n",
       "      <th></th>\n",
       "      <th>index</th>\n",
       "      <th>session</th>\n",
       "      <th>ml</th>\n",
       "      <th>ap</th>\n",
       "      <th>dv</th>\n",
       "      <th>phi</th>\n",
       "      <th>theta</th>\n",
       "      <th>color</th>\n",
       "    </tr>\n",
       "  </thead>\n",
       "  <tbody>\n",
       "    <tr>\n",
       "      <th>0</th>\n",
       "      <td>4</td>\n",
       "      <td>3</td>\n",
       "      <td>3.312941</td>\n",
       "      <td>8.478682</td>\n",
       "      <td>4.061106</td>\n",
       "      <td>-117.548431</td>\n",
       "      <td>-14.063265</td>\n",
       "      <td>#EE204D</td>\n",
       "    </tr>\n",
       "    <tr>\n",
       "      <th>1</th>\n",
       "      <td>5</td>\n",
       "      <td>3</td>\n",
       "      <td>3.881572</td>\n",
       "      <td>8.585833</td>\n",
       "      <td>4.414572</td>\n",
       "      <td>54.663791</td>\n",
       "      <td>-20.274174</td>\n",
       "      <td>#EE204D</td>\n",
       "    </tr>\n",
       "  </tbody>\n",
       "</table>\n",
       "</div>"
      ],
      "text/plain": [
       "   index  session        ml        ap        dv         phi      theta  \\\n",
       "0      4        3  3.312941  8.478682  4.061106 -117.548431 -14.063265   \n",
       "1      5        3  3.881572  8.585833  4.414572   54.663791 -20.274174   \n",
       "\n",
       "     color  \n",
       "0  #EE204D  \n",
       "1  #EE204D  "
      ]
     },
     "execution_count": 8,
     "metadata": {},
     "output_type": "execute_result"
    }
   ],
   "source": [
    "#Using data from a specific session:\n",
    "\"\"\"SET SESSION ID BELOW\"\"\"\n",
    "session_id = 3\n",
    "\n",
    "probe_data= probe_total.loc[probe_total['session'] == session_id]\n",
    "probe_data = probe_data.reset_index()\n",
    "\n",
    "probe_data.head()"
   ]
  },
  {
   "cell_type": "code",
   "execution_count": 23,
   "metadata": {},
   "outputs": [],
   "source": [
    "\"\"\"UNCOMMENT IF YOU WANT TO DISPLAY ALL PROBES\"\"\"\n",
    "probe_data = probe_total"
   ]
  },
  {
   "cell_type": "code",
   "execution_count": 25,
   "metadata": {},
   "outputs": [],
   "source": [
    "#Creating probes\n",
    "num_probes = len(probe_data)\n",
    "probes = urchin.probes.create(num_probes)\n",
    "\n",
    "#Setting probe colors\n",
    "urchin.probes.set_colors(probes,list(probe_data.loc[:,\"color\"]))\n",
    "\n",
    "#Setting probe positions\n",
    "#putting in proper formating:\n",
    "probe_positions = []\n",
    "for probe in range(num_probes):\n",
    "    probe_pos = [probe_data.loc[probe, \"ml\"],probe_data.loc[probe, \"ap\"], probe_data.loc[probe, \"dv\"]]\n",
    "    probe_positions.append(probe_pos)\n",
    "urchin.probes.set_positions(probes, probe_positions)\n",
    "\n",
    "#Setting probe angles\n",
    "probe_angles = []\n",
    "for probe in range(num_probes):\n",
    "    probe_ang = [probe_data.loc[probe, \"phi\"],probe_data.loc[probe, \"theta\"], 0]\n",
    "    probe_angles.append(probe_ang)\n",
    "urchin.probes.set_angles(probes, probe_angles)"
   ]
  },
  {
   "cell_type": "code",
   "execution_count": null,
   "metadata": {},
   "outputs": [],
   "source": []
  }
 ],
 "metadata": {
  "kernelspec": {
   "display_name": "urchin-venv",
   "language": "python",
   "name": "python3"
  },
  "language_info": {
   "codemirror_mode": {
    "name": "ipython",
    "version": 3
   },
   "file_extension": ".py",
   "mimetype": "text/x-python",
   "name": "python",
   "nbconvert_exporter": "python",
   "pygments_lexer": "ipython3",
   "version": "3.8.10"
  },
  "orig_nbformat": 4
 },
 "nbformat": 4,
 "nbformat_minor": 2
}
