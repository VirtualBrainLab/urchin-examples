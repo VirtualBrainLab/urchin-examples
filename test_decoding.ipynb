{
 "cells": [
  {
   "cell_type": "code",
   "execution_count": 8,
   "id": "eca1bdc9-bb77-47f8-91c4-8a3a7c3337c3",
   "metadata": {},
   "outputs": [],
   "source": [
    "import numpy as np\n",
    "import matplotlib.pyplot as plt\n",
    "\n",
    "# have to do this because the Examples folder is below the unitymouse folder\n",
    "import sys\n",
    "sys.path.append(\"..\") \n",
    "import unitymouse.render as umr"
   ]
  },
  {
   "cell_type": "code",
   "execution_count": 9,
   "id": "1f3213d0-8867-4643-b3fb-b0aa38c68544",
   "metadata": {},
   "outputs": [],
   "source": [
    "import os"
   ]
  },
  {
   "cell_type": "code",
   "execution_count": 10,
   "id": "1efc5f98-2f05-4197-b9d2-44a8f4e17a8f",
   "metadata": {},
   "outputs": [
    {
     "data": {
      "text/plain": [
       "'Dan'"
      ]
     },
     "execution_count": 10,
     "metadata": {},
     "output_type": "execute_result"
    }
   ],
   "source": [
    "os.getlogin()"
   ]
  },
  {
   "cell_type": "code",
   "execution_count": 11,
   "id": "ae8142dd-9670-4a11-81c4-8ff8e15213e3",
   "metadata": {},
   "outputs": [
    {
     "ename": "ConnectionError",
     "evalue": "Already connected",
     "output_type": "error",
     "traceback": [
      "\u001b[1;31m---------------------------------------------------------------------------\u001b[0m",
      "\u001b[1;31mConnectionError\u001b[0m                           Traceback (most recent call last)",
      "Input \u001b[1;32mIn [11]\u001b[0m, in \u001b[0;36m<module>\u001b[1;34m\u001b[0m\n\u001b[1;32m----> 1\u001b[0m \u001b[43mumr\u001b[49m\u001b[38;5;241;43m.\u001b[39;49m\u001b[43msetup\u001b[49m\u001b[43m(\u001b[49m\u001b[43m)\u001b[49m\n",
      "File \u001b[1;32mC:\\proj\\VBL\\UMRenderer\\Examples\\..\\unitymouse\\render.py:21\u001b[0m, in \u001b[0;36msetup\u001b[1;34m(localhost)\u001b[0m\n\u001b[0;32m     19\u001b[0m \tsio\u001b[38;5;241m.\u001b[39mconnect(\u001b[38;5;124m'\u001b[39m\u001b[38;5;124mhttp://localhost:5000\u001b[39m\u001b[38;5;124m'\u001b[39m)\n\u001b[0;32m     20\u001b[0m \u001b[38;5;28;01melse\u001b[39;00m:\n\u001b[1;32m---> 21\u001b[0m \t\u001b[43msio\u001b[49m\u001b[38;5;241;43m.\u001b[39;49m\u001b[43mconnect\u001b[49m\u001b[43m(\u001b[49m\u001b[38;5;124;43m'\u001b[39;49m\u001b[38;5;124;43mhttps://um-commserver.herokuapp.com/\u001b[39;49m\u001b[38;5;124;43m'\u001b[39;49m\u001b[43m)\u001b[49m\n",
      "File \u001b[1;32m~\\anaconda3\\envs\\iblenv\\lib\\site-packages\\socketio\\client.py:306\u001b[0m, in \u001b[0;36mClient.connect\u001b[1;34m(self, url, headers, auth, transports, namespaces, socketio_path, wait, wait_timeout)\u001b[0m\n\u001b[0;32m    264\u001b[0m \u001b[38;5;124;03m\"\"\"Connect to a Socket.IO server.\u001b[39;00m\n\u001b[0;32m    265\u001b[0m \n\u001b[0;32m    266\u001b[0m \u001b[38;5;124;03m:param url: The URL of the Socket.IO server. It can include custom\u001b[39;00m\n\u001b[1;32m   (...)\u001b[0m\n\u001b[0;32m    303\u001b[0m \u001b[38;5;124;03m    sio.connect('http://localhost:5000')\u001b[39;00m\n\u001b[0;32m    304\u001b[0m \u001b[38;5;124;03m\"\"\"\u001b[39;00m\n\u001b[0;32m    305\u001b[0m \u001b[38;5;28;01mif\u001b[39;00m \u001b[38;5;28mself\u001b[39m\u001b[38;5;241m.\u001b[39mconnected:\n\u001b[1;32m--> 306\u001b[0m     \u001b[38;5;28;01mraise\u001b[39;00m exceptions\u001b[38;5;241m.\u001b[39mConnectionError(\u001b[38;5;124m'\u001b[39m\u001b[38;5;124mAlready connected\u001b[39m\u001b[38;5;124m'\u001b[39m)\n\u001b[0;32m    308\u001b[0m \u001b[38;5;28mself\u001b[39m\u001b[38;5;241m.\u001b[39mconnection_url \u001b[38;5;241m=\u001b[39m url\n\u001b[0;32m    309\u001b[0m \u001b[38;5;28mself\u001b[39m\u001b[38;5;241m.\u001b[39mconnection_headers \u001b[38;5;241m=\u001b[39m headers\n",
      "\u001b[1;31mConnectionError\u001b[0m: Already connected"
     ]
    }
   ],
   "source": [
    "umr.setup()"
   ]
  },
  {
   "cell_type": "code",
   "execution_count": 12,
   "id": "a1d95492-de64-48ce-b0c0-8a0d6e7de7e4",
   "metadata": {},
   "outputs": [],
   "source": [
    "block = np.load('./data/yanliang/block_brain_area.npy')\n",
    "choice = np.load('./data/yanliang/choice_brain_area.npy')\n",
    "visual = np.load('./data/yanliang/visual_brain_area.npy')\n",
    "id = np.load('./data/yanliang/id_brain_area.npy')"
   ]
  },
  {
   "cell_type": "code",
   "execution_count": 13,
   "id": "b94d65b2-2c81-4823-b307-1e2b67939504",
   "metadata": {},
   "outputs": [],
   "source": [
    "umr.clear()\n"
   ]
  },
  {
   "cell_type": "code",
   "execution_count": 14,
   "id": "5be054f5-05f6-422c-adfe-54ee12f234d8",
   "metadata": {},
   "outputs": [
    {
     "name": "stderr",
     "output_type": "stream",
     "text": [
      "packet queue is empty, aborting\n"
     ]
    },
    {
     "name": "stdout",
     "output_type": "stream",
     "text": [
      "UnityMouse Renderer disconnected from server\n",
      "UnityMouse Renderer connected to server\n",
      "Login sent with ID: Dan\n"
     ]
    }
   ],
   "source": [
    "umr.clear()\n",
    "\n",
    "visData = {}\n",
    "shaderData = {}\n",
    "intensityData = {}\n",
    "\n",
    "maxVal = np.max(visual)\n",
    "\n",
    "for i,v in enumerate(id):\n",
    "    sv = str(v[0])\n",
    "    visData[sv] = True\n",
    "    shaderData[sv] = 'default'\n",
    "    intensityData[sv] = np.sqrt(visual[i][0]) / np.sqrt(maxVal)\n",
    "\n",
    "umr.set_volume_visibility(visData)\n",
    "# umr.set_volume_style(sideData)\n",
    "umr.set_volume_shader(shaderData)\n",
    "umr.set_volume_intensity(intensityData)\n",
    "#umr.set_volume_alpha(alphaData)\n",
    "# vdata = {'VISa': 'transparent', 'CA1': 'transparent', 'DG': 'transparent', 'LP': 'transparent', 'PO': 'transparent'}\n",
    "# umr.set_volume_shader(vdata)\n",
    "# vdata = {'VISa': 0.4, 'CA1': 0.4, 'DG': 0.4, 'LP': 0.4, 'PO': 0.4}\n",
    "# umr.set_volume_alpha(vdata)"
   ]
  },
  {
   "cell_type": "code",
   "execution_count": 15,
   "id": "e858897b-e642-49a0-924f-b891dd7cb682",
   "metadata": {},
   "outputs": [
    {
     "name": "stdout",
     "output_type": "stream",
     "text": [
      "UnityMouse Renderer disconnected from server\n"
     ]
    }
   ],
   "source": [
    "umr.close()"
   ]
  },
  {
   "cell_type": "code",
   "execution_count": null,
   "id": "201a85cd-5b48-4a12-a3e8-cca76916d07e",
   "metadata": {},
   "outputs": [],
   "source": []
  },
  {
   "cell_type": "code",
   "execution_count": null,
   "id": "03934d27-d985-4c67-95c1-d5b35f8995af",
   "metadata": {},
   "outputs": [],
   "source": []
  }
 ],
 "metadata": {
  "kernelspec": {
   "display_name": "Python 3 (ipykernel)",
   "language": "python",
   "name": "python3"
  },
  "language_info": {
   "codemirror_mode": {
    "name": "ipython",
    "version": 3
   },
   "file_extension": ".py",
   "mimetype": "text/x-python",
   "name": "python",
   "nbconvert_exporter": "python",
   "pygments_lexer": "ipython3",
   "version": "3.9.9"
  }
 },
 "nbformat": 4,
 "nbformat_minor": 5
}
