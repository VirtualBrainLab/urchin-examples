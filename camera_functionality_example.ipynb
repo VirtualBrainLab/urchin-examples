{
 "cells": [
  {
   "cell_type": "markdown",
   "metadata": {},
   "source": [
    "# Multiple Camera functionality Example\n",
    "In this example we will walk through a dataset and demonstrate multiple camera functionality, including displaying additional cameras, changing their focus/view."
   ]
  },
  {
   "cell_type": "markdown",
   "metadata": {},
   "source": [
    "## Set up the Unity Renderer for Neuroscience and open the renderer webpage"
   ]
  },
  {
   "cell_type": "code",
   "execution_count": 1,
   "metadata": {},
   "outputs": [
    {
     "name": "stdout",
     "output_type": "stream",
     "text": [
      "(URN) connected to server\n",
      "Login sent with ID: jasmineschoch\n"
     ]
    }
   ],
   "source": [
    "import pandas as pd\n",
    "import oursin as urchin\n",
    "urchin.setup()\n"
   ]
  },
  {
   "cell_type": "markdown",
   "metadata": {},
   "source": [
    "## Finding the correct datafile\n",
    "Download link: https://drive.google.com/file/d/137lHWAIz3C7Zl_AxLBGZsaYp57vpLIkv/view?usp=sharing"
   ]
  },
  {
   "cell_type": "code",
   "execution_count": 7,
   "metadata": {},
   "outputs": [],
   "source": [
    "path = '/Users/jasmineschoch/Documents/UW/VBL/urchin-examples/data/' #REPLACE PATHNAME WITH YOUR OWN\n",
    "data = pd.read_csv(path +'shaker2023_demo.csv')"
   ]
  },
  {
   "cell_type": "markdown",
   "metadata": {},
   "source": [
    "## Displaying overall brain + corresponding brain regions"
   ]
  },
  {
   "cell_type": "code",
   "execution_count": 3,
   "metadata": {},
   "outputs": [],
   "source": [
    "#Generating overall brain image:\n",
    "urchin.ccf.set_visibility({'grey':True})\n",
    "urchin.ccf.set_material({'grey':'transparent-unlit'})\n",
    "urchin.ccf.set_alpha({'grey':0.1})"
   ]
  },
  {
   "cell_type": "code",
   "execution_count": 4,
   "metadata": {},
   "outputs": [],
   "source": [
    "#Establishing the brain regions we'll be using specifically\n",
    "brain_areas = [\"MRN\", \"SCs\", \"SCm\", \"APN\", \"RN\"]\n",
    "#Generating brain area images:\n",
    "for area in brain_areas:\n",
    "    urchin.ccf.set_visibility({area:True})\n",
    "    urchin.ccf.set_material({area:'transparent-unlit'})\n",
    "    urchin.ccf.set_alpha({area:0.2})"
   ]
  },
  {
   "cell_type": "markdown",
   "metadata": {},
   "source": [
    "## Displaying neuron data in default display"
   ]
  },
  {
   "cell_type": "code",
   "execution_count": 8,
   "metadata": {},
   "outputs": [
    {
     "name": "stderr",
     "output_type": "stream",
     "text": [
      "packet queue is empty, aborting\n"
     ]
    },
    {
     "name": "stdout",
     "output_type": "stream",
     "text": [
      "(URN) disconnected from server\n",
      "(URN) connected to server\n",
      "Login sent with ID: jasmineschoch\n"
     ]
    }
   ],
   "source": [
    "#Creating neurons\n",
    "neurons = []\n",
    "for i in range(len(data)):\n",
    "    neurons.append(str(i))\n",
    "urchin.neurons.create(neurons)\n",
    "#Setting neuron colors\n",
    "neuron_colors = {}\n",
    "for neuron in neurons:\n",
    "  neuron_colors[neuron] = data.loc[int(neuron),\"color\"]\n",
    "urchin.neurons.set_color(neuron_colors)\n",
    "#Setting neuron positions\n",
    "neuron_positions = {}\n",
    "for neuron in neurons:\n",
    "    neuron_positions[neuron] = [data.loc[int(neuron), \"x\"], data.loc[int(neuron), \"y\"], data.loc[int(neuron), \"z\"]]\n",
    "urchin.neurons.set_position(neuron_positions)"
   ]
  },
  {
   "cell_type": "markdown",
   "metadata": {},
   "source": [
    "## Displaying additional views"
   ]
  },
  {
   "cell_type": "code",
   "execution_count": null,
   "metadata": {},
   "outputs": [],
   "source": [
    "#Creating cameras c1, c2 and c3\n",
    "c1 = urchin.camera.Camera()\n",
    "c2 = urchin.camera.Camera()\n",
    "c3 = urchin.camera.Camera()"
   ]
  },
  {
   "cell_type": "markdown",
   "metadata": {},
   "source": [
    "### Changing rotation of cameras\n",
    "\n",
    "ADD AXIS DESCRIPTION"
   ]
  },
  {
   "cell_type": "code",
   "execution_count": null,
   "metadata": {},
   "outputs": [],
   "source": [
    "c1.set_rotation([45,0,0])"
   ]
  },
  {
   "cell_type": "code",
   "execution_count": null,
   "metadata": {},
   "outputs": [],
   "source": [
    "c2.set_rotation([0,90,0])"
   ]
  },
  {
   "cell_type": "code",
   "execution_count": null,
   "metadata": {},
   "outputs": [],
   "source": [
    "c3.set_rotation([0,0,45])"
   ]
  },
  {
   "cell_type": "markdown",
   "metadata": {},
   "source": [
    "### Changing zoom or pan"
   ]
  },
  {
   "cell_type": "code",
   "execution_count": null,
   "metadata": {},
   "outputs": [],
   "source": [
    "c1.set_zoom(9.0)"
   ]
  },
  {
   "cell_type": "code",
   "execution_count": null,
   "metadata": {},
   "outputs": [],
   "source": [
    "c1.set_pan(3.0, 4.0)"
   ]
  },
  {
   "cell_type": "markdown",
   "metadata": {},
   "source": [
    "### Targetting specific areas\n",
    "This can be done by either using target brain regions or target coordinates.\n",
    "\n",
    "Highlighted brain areas: \"MRN\", \"SCs\", \"SCm\", \"APN\", \"RN\""
   ]
  },
  {
   "cell_type": "code",
   "execution_count": null,
   "metadata": {},
   "outputs": [],
   "source": [
    "c1.set_target_area(\"grey-lh\") "
   ]
  },
  {
   "cell_type": "code",
   "execution_count": null,
   "metadata": {},
   "outputs": [],
   "source": [
    "c1.set_target_coordinate([500,1500,1000])"
   ]
  },
  {
   "cell_type": "markdown",
   "metadata": {},
   "source": [
    "## Changing Camera settings"
   ]
  },
  {
   "cell_type": "markdown",
   "metadata": {},
   "source": [
    "### Making camera mouse controllable\n",
    "Disables mouse functionality for main camera"
   ]
  },
  {
   "cell_type": "code",
   "execution_count": null,
   "metadata": {},
   "outputs": [],
   "source": [
    "c1.set_controllable() #check how to send controllability back to main?"
   ]
  },
  {
   "cell_type": "markdown",
   "metadata": {},
   "source": [
    "### Changing camera mode\n",
    "To toggle between perspective and orthographic"
   ]
  },
  {
   "cell_type": "code",
   "execution_count": null,
   "metadata": {},
   "outputs": [],
   "source": [
    "c1.set_mode('perspective')"
   ]
  },
  {
   "cell_type": "code",
   "execution_count": null,
   "metadata": {},
   "outputs": [],
   "source": [
    "c1.set_mode('orthographic')"
   ]
  }
 ],
 "metadata": {
  "kernelspec": {
   "display_name": "Python 3",
   "language": "python",
   "name": "python3"
  },
  "language_info": {
   "codemirror_mode": {
    "name": "ipython",
    "version": 3
   },
   "file_extension": ".py",
   "mimetype": "text/x-python",
   "name": "python",
   "nbconvert_exporter": "python",
   "pygments_lexer": "ipython3",
   "version": "3.9.7"
  },
  "orig_nbformat": 4
 },
 "nbformat": 4,
 "nbformat_minor": 2
}
