{
 "cells": [
  {
   "cell_type": "markdown",
   "metadata": {},
   "source": [
    "# Multiple Camera functionality Example\n",
    "In this example we will walk through a dataset and demonstrate multiple camera functionality, including displaying additional cameras, changing their focus/view."
   ]
  },
  {
   "cell_type": "markdown",
   "metadata": {},
   "source": [
    "## Set up the Unity Renderer for Neuroscience and open the renderer webpage"
   ]
  },
  {
   "cell_type": "code",
   "execution_count": 1,
   "metadata": {},
   "outputs": [
    {
     "ename": "AttributeError",
     "evalue": "partially initialized module 'oursin.client' has no attribute 'sio' (most likely due to a circular import)",
     "output_type": "error",
     "traceback": [
      "\u001b[1;31m---------------------------------------------------------------------------\u001b[0m",
      "\u001b[1;31mAttributeError\u001b[0m                            Traceback (most recent call last)",
      "Cell \u001b[1;32mIn[1], line 2\u001b[0m\n\u001b[0;32m      1\u001b[0m \u001b[39mimport\u001b[39;00m \u001b[39mpandas\u001b[39;00m \u001b[39mas\u001b[39;00m \u001b[39mpd\u001b[39;00m\n\u001b[1;32m----> 2\u001b[0m \u001b[39mimport\u001b[39;00m \u001b[39moursin\u001b[39;00m \u001b[39mas\u001b[39;00m \u001b[39murchin\u001b[39;00m\n\u001b[0;32m      3\u001b[0m urchin\u001b[39m.\u001b[39msetup()\n",
      "File \u001b[1;32mc:\\users\\jasmineschoch\\documents\\proj\\urchin\\api\\oursin\\__init__.py:10\u001b[0m\n\u001b[0;32m      7\u001b[0m __version__ \u001b[39m=\u001b[39m \u001b[39m\"\u001b[39m\u001b[39m0.4.7\u001b[39m\u001b[39m\"\u001b[39m\n\u001b[0;32m      9\u001b[0m \u001b[39m# load the client\u001b[39;00m\n\u001b[1;32m---> 10\u001b[0m \u001b[39mfrom\u001b[39;00m \u001b[39m.\u001b[39;00m \u001b[39mimport\u001b[39;00m client\n\u001b[0;32m     11\u001b[0m \u001b[39mfrom\u001b[39;00m \u001b[39m.\u001b[39;00m\u001b[39mrenderer\u001b[39;00m \u001b[39mimport\u001b[39;00m \u001b[39m*\u001b[39m\n\u001b[0;32m     13\u001b[0m \u001b[39m# load sanitization\u001b[39;00m\n",
      "File \u001b[1;32mc:\\users\\jasmineschoch\\documents\\proj\\urchin\\api\\oursin\\client.py:6\u001b[0m\n\u001b[0;32m      3\u001b[0m \u001b[39mimport\u001b[39;00m \u001b[39mos\u001b[39;00m\n\u001b[0;32m      4\u001b[0m \u001b[39mimport\u001b[39;00m \u001b[39muuid\u001b[39;00m\n\u001b[1;32m----> 6\u001b[0m \u001b[39mfrom\u001b[39;00m \u001b[39m.\u001b[39;00m \u001b[39mimport\u001b[39;00m camera\n\u001b[0;32m      8\u001b[0m \u001b[39mclass\u001b[39;00m \u001b[39mbcolors\u001b[39;00m:\n\u001b[0;32m      9\u001b[0m     WARNING \u001b[39m=\u001b[39m \u001b[39m'\u001b[39m\u001b[39m\\033\u001b[39;00m\u001b[39m[93m\u001b[39m\u001b[39m'\u001b[39m\n",
      "File \u001b[1;32mc:\\users\\jasmineschoch\\documents\\proj\\urchin\\api\\oursin\\camera.py:281\u001b[0m\n\u001b[0;32m    278\u001b[0m     \u001b[39melse\u001b[39;00m:\n\u001b[0;32m    279\u001b[0m         client\u001b[39m.\u001b[39msio\u001b[39m.\u001b[39memit(\u001b[39m'\u001b[39m\u001b[39mSetLightLink\u001b[39m\u001b[39m'\u001b[39m, camera_name)\n\u001b[1;32m--> 281\u001b[0m main \u001b[39m=\u001b[39m Camera(main \u001b[39m=\u001b[39;49m \u001b[39mTrue\u001b[39;49;00m)\n",
      "File \u001b[1;32mc:\\users\\jasmineschoch\\documents\\proj\\urchin\\api\\oursin\\camera.py:46\u001b[0m, in \u001b[0;36mCamera.__init__\u001b[1;34m(self, target, position, preserve_target, rotation, zoom, pan_x, pan_y, mode, controllable, main)\u001b[0m\n\u001b[0;32m     44\u001b[0m packet \u001b[39m=\u001b[39m position\u001b[39m.\u001b[39mcopy()\n\u001b[0;32m     45\u001b[0m packet\u001b[39m.\u001b[39mappend(preserve_target)\n\u001b[1;32m---> 46\u001b[0m client\u001b[39m.\u001b[39;49msio\u001b[39m.\u001b[39memit(\u001b[39m'\u001b[39m\u001b[39mSetCameraPosition\u001b[39m\u001b[39m'\u001b[39m, {\u001b[39mself\u001b[39m\u001b[39m.\u001b[39mid: packet})\n\u001b[0;32m     48\u001b[0m rotation \u001b[39m=\u001b[39m utils\u001b[39m.\u001b[39msanitize_vector3(rotation)\n\u001b[0;32m     49\u001b[0m \u001b[39mself\u001b[39m\u001b[39m.\u001b[39mrotation \u001b[39m=\u001b[39m rotation\n",
      "\u001b[1;31mAttributeError\u001b[0m: partially initialized module 'oursin.client' has no attribute 'sio' (most likely due to a circular import)"
     ]
    }
   ],
   "source": [
    "import pandas as pd\n",
    "import oursin as urchin\n",
    "urchin.setup()"
   ]
  },
  {
   "cell_type": "markdown",
   "metadata": {},
   "source": [
    "## Finding the correct datafile\n",
    "Download link: https://drive.google.com/file/d/1RDwe2Je2AufvrAExe5RdJL-JLbeP93NQ/view?usp=sharing"
   ]
  },
  {
   "cell_type": "code",
   "execution_count": 2,
   "metadata": {},
   "outputs": [],
   "source": [
    "path = '/Users/jasmineschoch/Documents/proj/data/' #REPLACE PATHNAME WITH YOUR OWN\n",
    "data = pd.read_csv(path +'shaker2023_demo.csv')"
   ]
  },
  {
   "cell_type": "markdown",
   "metadata": {},
   "source": [
    "## Displaying overall brain + corresponding brain regions"
   ]
  },
  {
   "cell_type": "code",
   "execution_count": 3,
   "metadata": {},
   "outputs": [],
   "source": [
    "#Generating overall brain image:\n",
    "urchin.ccf.set_visibility({'grey':True})\n",
    "urchin.ccf.set_material({'grey':'transparent-unlit'})\n",
    "urchin.ccf.set_alpha({'grey':0.1})"
   ]
  },
  {
   "cell_type": "code",
   "execution_count": 4,
   "metadata": {},
   "outputs": [],
   "source": [
    "#Establishing the brain regions we'll be using specifically\n",
    "brain_areas = [\"MRN\", \"SCs\", \"SCm\", \"APN\", \"RN\"]\n",
    "#Generating brain area images:\n",
    "for area in brain_areas:\n",
    "    urchin.ccf.set_visibility({area:True})\n",
    "    urchin.ccf.set_material({area:'transparent-unlit'})\n",
    "    urchin.ccf.set_alpha({area:0.2})"
   ]
  },
  {
   "cell_type": "markdown",
   "metadata": {},
   "source": [
    "## Displaying neuron data in default display"
   ]
  },
  {
   "cell_type": "code",
   "execution_count": null,
   "metadata": {},
   "outputs": [],
   "source": [
    "#CODE BELOW IS FOR CURRENT PUBLISHED WEB VERSION\n",
    "\n",
    "# #Creating neurons\n",
    "# neurons = []\n",
    "# for i in range(len(data)):\n",
    "#     neurons.append(str(i))\n",
    "# urchin.neurons.create(neurons)\n",
    "# #Setting neuron colors\n",
    "# neuron_colors = {}\n",
    "# for neuron in neurons:\n",
    "#   neuron_colors[neuron] = data.loc[int(neuron),\"color\"]\n",
    "# urchin.neurons.set_color(neuron_colors)\n",
    "# #Setting neuron positions\n",
    "# neuron_positions = {}\n",
    "# for neuron in neurons:\n",
    "#     neuron_positions[neuron] = [data.loc[int(neuron), \"x\"], data.loc[int(neuron), \"y\"], data.loc[int(neuron), \"z\"]]\n",
    "# urchin.neurons.set_position(neuron_positions)"
   ]
  },
  {
   "cell_type": "code",
   "execution_count": 5,
   "metadata": {},
   "outputs": [],
   "source": [
    "#Creating neurons\n",
    "num_neurons = len(data)\n",
    "neurons = urchin.neurons.create(num_neurons)\n",
    "\n",
    "#Setting neuron colors\n",
    "urchin.neurons.set_colors(neurons,list(data.loc[:,\"color\"]))\n",
    "\n",
    "#Setting neuron positions\n",
    "#putting in proper formating:\n",
    "neuron_positions = []\n",
    "for neuron in range(len(data)):\n",
    "    neuron_pos = [data.loc[neuron, \"x\"], data.loc[neuron, \"y\"], data.loc[neuron, \"z\"]]\n",
    "    neuron_positions.append(neuron_pos)\n",
    "#Setting position:\n",
    "urchin.neurons.set_positions(neurons, neuron_positions)"
   ]
  },
  {
   "cell_type": "markdown",
   "metadata": {},
   "source": [
    "## Displaying additional views\n",
    "'main' object is created for simplicity, but main camera can also be accessed directly via urchin.camera.main"
   ]
  },
  {
   "cell_type": "code",
   "execution_count": 6,
   "metadata": {},
   "outputs": [],
   "source": [
    "#Creating cameras c1, c2 and c3\n",
    "main = urchin.camera.main\n",
    "c1 = urchin.camera.Camera()\n",
    "c2 = urchin.camera.Camera()\n",
    "c3 = urchin.camera.Camera()"
   ]
  },
  {
   "cell_type": "code",
   "execution_count": 7,
   "metadata": {},
   "outputs": [],
   "source": [
    "#Deleting camera c2\n",
    "c2.delete()"
   ]
  },
  {
   "cell_type": "markdown",
   "metadata": {},
   "source": [
    "### Changing rotation of cameras\n",
    "\n",
    "Rotation coordinates are in format [pitch, yaw, spin]\n",
    "(PITCH AND YAW ARE FLIPPED ON THE ROTATION DISPLAY IN CORNER)"
   ]
  },
  {
   "cell_type": "code",
   "execution_count": 8,
   "metadata": {},
   "outputs": [],
   "source": [
    "c1.set_rotation([90,0,0])"
   ]
  },
  {
   "cell_type": "code",
   "execution_count": 9,
   "metadata": {},
   "outputs": [],
   "source": [
    "c3.set_rotation([90,-90,0])"
   ]
  },
  {
   "cell_type": "markdown",
   "metadata": {},
   "source": [
    "### Changing zoom or pan\n",
    "\n",
    "Pan coordinates are in format x coordinate, y coordinate"
   ]
  },
  {
   "cell_type": "code",
   "execution_count": 10,
   "metadata": {},
   "outputs": [],
   "source": [
    "c1.set_zoom(2.5)"
   ]
  },
  {
   "cell_type": "code",
   "execution_count": 13,
   "metadata": {},
   "outputs": [],
   "source": [
    "c3.set_pan(3, 0)"
   ]
  },
  {
   "cell_type": "code",
   "execution_count": 14,
   "metadata": {},
   "outputs": [],
   "source": [
    "c3.set_zoom(3)"
   ]
  },
  {
   "cell_type": "markdown",
   "metadata": {},
   "source": [
    "### Targetting specific areas\n",
    "This can be done by either using target brain regions or target coordinates.\n",
    "\n",
    "Highlighted brain areas: \"MRN\", \"SCs\", \"SCm\", \"APN\", \"RN\""
   ]
  },
  {
   "cell_type": "code",
   "execution_count": null,
   "metadata": {},
   "outputs": [],
   "source": [
    "#highlighted brain areas currently don't work"
   ]
  },
  {
   "cell_type": "code",
   "execution_count": 17,
   "metadata": {},
   "outputs": [],
   "source": [
    "c1.set_target_area(\"grey-lh\")"
   ]
  },
  {
   "cell_type": "code",
   "execution_count": 16,
   "metadata": {},
   "outputs": [],
   "source": [
    "c3.set_target_coordinate([3850, 8700.0, 3200])"
   ]
  },
  {
   "cell_type": "markdown",
   "metadata": {},
   "source": [
    "## Changing Camera settings"
   ]
  },
  {
   "cell_type": "markdown",
   "metadata": {},
   "source": [
    "### Changing which camera is mouse controllable"
   ]
  },
  {
   "cell_type": "code",
   "execution_count": 18,
   "metadata": {},
   "outputs": [],
   "source": [
    "c1.set_controllable()"
   ]
  },
  {
   "cell_type": "code",
   "execution_count": 19,
   "metadata": {},
   "outputs": [],
   "source": [
    "main.set_controllable()"
   ]
  },
  {
   "cell_type": "markdown",
   "metadata": {},
   "source": [
    "### Changing camera mode\n",
    "To toggle between perspective and orthographic"
   ]
  },
  {
   "cell_type": "code",
   "execution_count": 20,
   "metadata": {},
   "outputs": [],
   "source": [
    "c1.set_mode('perspective')"
   ]
  },
  {
   "cell_type": "code",
   "execution_count": 21,
   "metadata": {},
   "outputs": [],
   "source": [
    "c1.set_mode('orthographic')"
   ]
  }
 ],
 "metadata": {
  "kernelspec": {
   "display_name": "Python 3",
   "language": "python",
   "name": "python3"
  },
  "language_info": {
   "codemirror_mode": {
    "name": "ipython",
    "version": 3
   },
   "file_extension": ".py",
   "mimetype": "text/x-python",
   "name": "python",
   "nbconvert_exporter": "python",
   "pygments_lexer": "ipython3",
   "version": "3.8.10"
  },
  "orig_nbformat": 4
 },
 "nbformat": 4,
 "nbformat_minor": 2
}
