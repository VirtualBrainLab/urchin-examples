{
 "cells": [
  {
   "cell_type": "markdown",
   "id": "c08e0d2d",
   "metadata": {},
   "source": [
    "<a target=\"_blank\" href=\"https://colab.research.google.com/github/VirtualBrainLab/urchin-examples/blob/colab/ottenheimer_hjort_bowen_2022/plotting_examples.ipynb\">\n",
    "  <img src=\"https://colab.research.google.com/assets/colab-badge.svg\" alt=\"Open In Colab\"/>\n",
    "</a>"
   ]
  },
  {
   "cell_type": "markdown",
   "id": "33641c55",
   "metadata": {},
   "source": [
    "## Run the following block if using the notebook for the first time:"
   ]
  },
  {
   "cell_type": "code",
   "execution_count": 1,
   "id": "66ea7318",
   "metadata": {},
   "outputs": [
    {
     "name": "stdout",
     "output_type": "stream",
     "text": [
      "Requirement already satisfied: oursin in /Users/dan/anaconda3/envs/iblenv/lib/python3.9/site-packages (0.4.10)\n",
      "Requirement already satisfied: Pillow<10.1,>=9.5 in /Users/dan/anaconda3/envs/iblenv/lib/python3.9/site-packages (from oursin) (9.5.0)\n",
      "Requirement already satisfied: python-socketio[client]<5.10,>=5.8 in /Users/dan/anaconda3/envs/iblenv/lib/python3.9/site-packages (from oursin) (5.8.0)\n",
      "Requirement already satisfied: numpy<1.26.0,>=1.24.3 in /Users/dan/anaconda3/envs/iblenv/lib/python3.9/site-packages (from oursin) (1.24.4)\n",
      "Requirement already satisfied: python-engineio>=4.3.0 in /Users/dan/anaconda3/envs/iblenv/lib/python3.9/site-packages (from python-socketio[client]<5.10,>=5.8->oursin) (4.4.1)\n",
      "Requirement already satisfied: bidict>=0.21.0 in /Users/dan/anaconda3/envs/iblenv/lib/python3.9/site-packages (from python-socketio[client]<5.10,>=5.8->oursin) (0.22.1)\n",
      "Requirement already satisfied: websocket-client>=0.54.0 in /Users/dan/anaconda3/envs/iblenv/lib/python3.9/site-packages (from python-socketio[client]<5.10,>=5.8->oursin) (1.5.1)\n",
      "Requirement already satisfied: requests>=2.21.0 in /Users/dan/anaconda3/envs/iblenv/lib/python3.9/site-packages (from python-socketio[client]<5.10,>=5.8->oursin) (2.28.2)\n",
      "Requirement already satisfied: idna<4,>=2.5 in /Users/dan/anaconda3/envs/iblenv/lib/python3.9/site-packages (from requests>=2.21.0->python-socketio[client]<5.10,>=5.8->oursin) (3.4)\n",
      "Requirement already satisfied: urllib3<1.27,>=1.21.1 in /Users/dan/anaconda3/envs/iblenv/lib/python3.9/site-packages (from requests>=2.21.0->python-socketio[client]<5.10,>=5.8->oursin) (1.26.15)\n",
      "Requirement already satisfied: certifi>=2017.4.17 in /Users/dan/anaconda3/envs/iblenv/lib/python3.9/site-packages (from requests>=2.21.0->python-socketio[client]<5.10,>=5.8->oursin) (2022.12.7)\n",
      "Requirement already satisfied: charset-normalizer<4,>=2 in /Users/dan/anaconda3/envs/iblenv/lib/python3.9/site-packages (from requests>=2.21.0->python-socketio[client]<5.10,>=5.8->oursin) (3.1.0)\n"
     ]
    }
   ],
   "source": [
    "#Installing urchin\n",
    "!pip install oursin -U"
   ]
  },
  {
   "cell_type": "markdown",
   "id": "e546d635-0eb0-4525-b3d0-9ddb65c7bea8",
   "metadata": {},
   "source": [
    "# Load data"
   ]
  },
  {
   "cell_type": "code",
   "execution_count": 8,
   "id": "b1612508-beb5-4641-8ddf-b62fb6ef3696",
   "metadata": {},
   "outputs": [],
   "source": [
    "import oursin as urchin\n",
    "import numpy as np\n",
    "import requests\n",
    "import io\n",
    "import matplotlib"
   ]
  },
  {
   "cell_type": "code",
   "execution_count": 19,
   "id": "aa58495d-211d-41a6-8f77-f40e008e941f",
   "metadata": {
    "scrolled": true,
    "tags": []
   },
   "outputs": [],
   "source": [
    "mlapdv = np.load('./data/neurons.ML_AP_DV_fromBregma.npy')\n",
    "colors = np.load('./data/region.colors.npy')\n",
    "with open('./data/neurons.region.txt') as f:\n",
    "    regions = f.read().split('\\n')\n",
    "regions = regions[:len(regions)-1]\n",
    "areas = ['ALM','MOs','ACA','FRP','PL','ILA','ORB','CP','ACB','DP','TTd','AON','OLF']\n",
    "neuron_region_idx=[areas.index(e) for e in regions]"
   ]
  },
  {
   "cell_type": "code",
   "execution_count": 10,
   "id": "6525ad8b-428a-45bf-ae62-424a7b105106",
   "metadata": {},
   "outputs": [],
   "source": [
    "hex_colors = [matplotlib.colors.to_hex(col) for col in colors]"
   ]
  },
  {
   "cell_type": "code",
   "execution_count": 11,
   "id": "21db6f4f-1934-46ba-9b6b-30f4aa366a78",
   "metadata": {},
   "outputs": [],
   "source": [
    "bregma = [5400, 5739, 332]\n",
    "def convertAPML2CCF(ml,ap,dv,iblBregma):\n",
    "    ml = iblBregma[0] + ml\n",
    "    ap = iblBregma[1] - ap \n",
    "    dv = iblBregma[2] - dv\n",
    "    return (ml,ap,dv)"
   ]
  },
  {
   "cell_type": "markdown",
   "id": "2dad08ea-a923-4229-b5db-8ab7b4bf0ccd",
   "metadata": {},
   "source": [
    "# Setup scene"
   ]
  },
  {
   "cell_type": "code",
   "execution_count": 14,
   "id": "128d5bac-d168-44ac-92b3-474a6b504a05",
   "metadata": {},
   "outputs": [
    {
     "name": "stdout",
     "output_type": "stream",
     "text": [
      "(URN) connected to server\n",
      "Login sent with ID: 11256f6c, copy this ID into the renderer to connect.\n"
     ]
    }
   ],
   "source": [
    "urchin.setup()"
   ]
  },
  {
   "cell_type": "markdown",
   "id": "de8f43d2-3f8c-4327-b38c-27010f7e8100",
   "metadata": {
    "tags": []
   },
   "source": [
    "# (1) Not lateralized brain areas, light blue color, brain coverage colors for neurons"
   ]
  },
  {
   "cell_type": "code",
   "execution_count": 15,
   "id": "4ea55257-ef1e-40be-9a85-12e1c3cc1657",
   "metadata": {},
   "outputs": [],
   "source": [
    "urchin.clear()"
   ]
  },
  {
   "cell_type": "code",
   "execution_count": 16,
   "id": "86fd8cad-0d24-4f11-be57-f0a9d564ce30",
   "metadata": {},
   "outputs": [],
   "source": [
    "areaVis = {}\n",
    "areaMat = {}\n",
    "areaAlpha = {}\n",
    "areaColor = {}\n",
    "for i,area in enumerate(areas):\n",
    "    areaName = area\n",
    "    urchin.ccf.set_visibility({areaName:True})\n",
    "    urchin.ccf.set_material({areaName:'transparent-unlit'})\n",
    "    urchin.ccf.set_alpha({areaName:0.1})\n",
    "    urchin.ccf.set_color({areaName:'#add8e6'})\n",
    "    "
   ]
  },
  {
   "cell_type": "code",
   "execution_count": 25,
   "id": "659e8dd1-c254-49d1-857e-e9aef167006e",
   "metadata": {},
   "outputs": [],
   "source": [
    "# color by area in the brain\n",
    "\n",
    "neurons = urchin.neurons.create(mlapdv.shape[0])\n",
    "colors = []\n",
    "\n",
    "for i, mlapdv_n in enumerate(mlapdv):\n",
    "    pos = convertAPML2CCF(mlapdv_n[0],mlapdv_n[1],mlapdv_n[2],bregma)\n",
    "    neurons[i].set_position([pos[0],pos[1],pos[2]])\n",
    "    neurons[i].set_size(0.04)\n",
    "    colors.append(hex_colors[neuron_region_idx[i]])\n",
    "\n",
    "urchin.neurons.set_sizes(neurons,[0.04]*mlapdv.shape[0])\n",
    "urchin.neurons.set_colors(neurons,colors)"
   ]
  },
  {
   "cell_type": "code",
   "execution_count": 26,
   "id": "378771b4-6813-4d0a-a8af-73cac15af374",
   "metadata": {},
   "outputs": [],
   "source": [
    "urchin.camera.main.set_rotation([45,0,135])\n",
    "urchin.camera.main.set_target_coordinate([11400/2,3000,4000])"
   ]
  }
 ],
 "metadata": {
  "kernelspec": {
   "display_name": "iblenv",
   "language": "python",
   "name": "python3"
  },
  "language_info": {
   "codemirror_mode": {
    "name": "ipython",
    "version": 3
   },
   "file_extension": ".py",
   "mimetype": "text/x-python",
   "name": "python",
   "nbconvert_exporter": "python",
   "pygments_lexer": "ipython3",
   "version": "3.9.16"
  },
  "vscode": {
   "interpreter": {
    "hash": "e571d860348ccccbb87c9afaea3b8de5dc8c1513265a6c0fcfe6ac69a4d3ce4b"
   }
  }
 },
 "nbformat": 4,
 "nbformat_minor": 5
}
