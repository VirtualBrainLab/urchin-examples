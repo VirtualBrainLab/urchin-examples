{
 "cells": [
  {
   "cell_type": "markdown",
   "metadata": {},
   "source": [
    "If looking for the demo using Jordan's data, go to camera_functionality_example.ipynb"
   ]
  },
  {
   "cell_type": "code",
   "execution_count": 1,
   "metadata": {},
   "outputs": [],
   "source": [
    "import pandas as pd"
   ]
  },
  {
   "cell_type": "code",
   "execution_count": 2,
   "metadata": {},
   "outputs": [
    {
     "data": {
      "text/html": [
       "<div>\n",
       "<style scoped>\n",
       "    .dataframe tbody tr th:only-of-type {\n",
       "        vertical-align: middle;\n",
       "    }\n",
       "\n",
       "    .dataframe tbody tr th {\n",
       "        vertical-align: top;\n",
       "    }\n",
       "\n",
       "    .dataframe thead th {\n",
       "        text-align: right;\n",
       "    }\n",
       "</style>\n",
       "<table border=\"1\" class=\"dataframe\">\n",
       "  <thead>\n",
       "    <tr style=\"text-align: right;\">\n",
       "      <th></th>\n",
       "      <th>0</th>\n",
       "    </tr>\n",
       "  </thead>\n",
       "  <tbody>\n",
       "    <tr>\n",
       "      <th>0</th>\n",
       "      <td>JRS_00042021-06-16_AudiocoordArray.csv</td>\n",
       "    </tr>\n",
       "    <tr>\n",
       "      <th>1</th>\n",
       "      <td>JRS_00042021-06-16_AudiocoordArrayFiltered.csv</td>\n",
       "    </tr>\n",
       "    <tr>\n",
       "      <th>2</th>\n",
       "      <td>JRS_00042021-06-16_LickscoordArray.csv</td>\n",
       "    </tr>\n",
       "    <tr>\n",
       "      <th>3</th>\n",
       "      <td>JRS_00042021-06-16_LickscoordArrayFiltered.csv</td>\n",
       "    </tr>\n",
       "    <tr>\n",
       "      <th>4</th>\n",
       "      <td>JRS_00042021-06-16_Visual StimulicoordArray.csv</td>\n",
       "    </tr>\n",
       "    <tr>\n",
       "      <th>...</th>\n",
       "      <td>...</td>\n",
       "    </tr>\n",
       "    <tr>\n",
       "      <th>59</th>\n",
       "      <td>JRS_00132022-04-28_LickscoordArrayFiltered.csv</td>\n",
       "    </tr>\n",
       "    <tr>\n",
       "      <th>60</th>\n",
       "      <td>JRS_00132022-04-28_Visual StimulicoordArray.csv</td>\n",
       "    </tr>\n",
       "    <tr>\n",
       "      <th>61</th>\n",
       "      <td>JRS_00132022-04-28_Visual StimulicoordArrayFil...</td>\n",
       "    </tr>\n",
       "    <tr>\n",
       "      <th>62</th>\n",
       "      <td>JRS_00132022-04-28coordArrayNonEncoding.csv</td>\n",
       "    </tr>\n",
       "    <tr>\n",
       "      <th>63</th>\n",
       "      <td>JRS_00132022-04-28coordArrayNonEncodingFiltere...</td>\n",
       "    </tr>\n",
       "  </tbody>\n",
       "</table>\n",
       "<p>64 rows × 1 columns</p>\n",
       "</div>"
      ],
      "text/plain": [
       "                                                    0\n",
       "0              JRS_00042021-06-16_AudiocoordArray.csv\n",
       "1      JRS_00042021-06-16_AudiocoordArrayFiltered.csv\n",
       "2              JRS_00042021-06-16_LickscoordArray.csv\n",
       "3      JRS_00042021-06-16_LickscoordArrayFiltered.csv\n",
       "4     JRS_00042021-06-16_Visual StimulicoordArray.csv\n",
       "..                                                ...\n",
       "59     JRS_00132022-04-28_LickscoordArrayFiltered.csv\n",
       "60    JRS_00132022-04-28_Visual StimulicoordArray.csv\n",
       "61  JRS_00132022-04-28_Visual StimulicoordArrayFil...\n",
       "62        JRS_00132022-04-28coordArrayNonEncoding.csv\n",
       "63  JRS_00132022-04-28coordArrayNonEncodingFiltere...\n",
       "\n",
       "[64 rows x 1 columns]"
      ]
     },
     "execution_count": 2,
     "metadata": {},
     "output_type": "execute_result"
    }
   ],
   "source": [
    "path = '/Users/jasmineschoch/Documents/UW/VBL/urchin-examples/data/run_2023-02-24/'\n",
    "files = pd.read_csv(path + 'file_names.csv', header=None)"
   ]
  },
  {
   "cell_type": "code",
   "execution_count": 3,
   "metadata": {},
   "outputs": [
    {
     "name": "stdout",
     "output_type": "stream",
     "text": [
      "Empty file: JRS_00052021-07-21_AudiocoordArrayFiltered.csv\n",
      "Empty file: JRS_00052021-07-21_Visual StimulicoordArrayFiltered.csv\n",
      "Empty file: JRS_00052021-08-16_Visual StimulicoordArrayFiltered.csv\n",
      "Empty file: JRS_00132022-04-26_Visual StimulicoordArrayFiltered.csv\n",
      "Empty file: JRS_00132022-04-27_Visual StimulicoordArray.csv\n",
      "Empty file: JRS_00132022-04-27_Visual StimulicoordArrayFiltered.csv\n"
     ]
    }
   ],
   "source": [
    "data = pd.DataFrame(columns=[\"x\", \"y\", \"z\", \"file\"])\n",
    "\n",
    "for i in range(len(files)):\n",
    "    name = files.iloc[i, 0]\n",
    "    try:\n",
    "        df = pd.read_csv(path + name, header=None)\n",
    "        df.columns = [\"x\", \"y\", \"z\"]\n",
    "        df[\"file\"] = name\n",
    "        data = data.append(df, ignore_index=True)\n",
    "        df.head()\n",
    "    except pd.errors.EmptyDataError:\n",
    "        #print(\"Empty file:\", name)"
   ]
  },
  {
   "cell_type": "code",
   "execution_count": 4,
   "metadata": {},
   "outputs": [],
   "source": [
    "#Adding feature labels to data\n",
    "encoding = ['Visual', 'Licks', 'NonEncoding', 'Audio', \"Wheel\"]\n",
    "labels = []\n",
    "\n",
    "for file_name in data['file']:\n",
    "    label = None\n",
    "    \n",
    "    for feature in encoding:\n",
    "        if feature in file_name:\n",
    "            label = feature\n",
    "            break \n",
    "    \n",
    "    labels.append(label)\n",
    "data['labels'] = labels"
   ]
  },
  {
   "cell_type": "code",
   "execution_count": 5,
   "metadata": {},
   "outputs": [],
   "source": [
    "#Adding colors\n",
    "conditions = [\n",
    "    data['labels'] == \"Audio\", #Yellow\n",
    "    data['labels'] == \"Licks\", #Orange\n",
    "    data['labels'] == \"NonEncoding\", #teal\n",
    "    data['labels'] == \"Visual\", #light blue\n",
    "    data['labels'] == \"Wheel\" #navy\n",
    "]\n",
    "\n",
    "choices = [\"#F6D55C\", \"#ED553B\", \"#3CAEA3\", \"#20639B\", \"#173F5F\"]\n",
    "\n",
    "data['color'] = None  # Initialize the 'color' column with None\n",
    "\n",
    "for i, condition in enumerate(conditions):\n",
    "    data.loc[condition, 'color'] = choices[i]"
   ]
  },
  {
   "cell_type": "code",
   "execution_count": 6,
   "metadata": {},
   "outputs": [
    {
     "data": {
      "text/html": [
       "<div>\n",
       "<style scoped>\n",
       "    .dataframe tbody tr th:only-of-type {\n",
       "        vertical-align: middle;\n",
       "    }\n",
       "\n",
       "    .dataframe tbody tr th {\n",
       "        vertical-align: top;\n",
       "    }\n",
       "\n",
       "    .dataframe thead th {\n",
       "        text-align: right;\n",
       "    }\n",
       "</style>\n",
       "<table border=\"1\" class=\"dataframe\">\n",
       "  <thead>\n",
       "    <tr style=\"text-align: right;\">\n",
       "      <th></th>\n",
       "      <th>x</th>\n",
       "      <th>y</th>\n",
       "      <th>z</th>\n",
       "      <th>file</th>\n",
       "      <th>labels</th>\n",
       "      <th>color</th>\n",
       "    </tr>\n",
       "  </thead>\n",
       "  <tbody>\n",
       "    <tr>\n",
       "      <th>0</th>\n",
       "      <td>3854.099849</td>\n",
       "      <td>8700</td>\n",
       "      <td>3185.198183</td>\n",
       "      <td>JRS_00042021-06-16_AudiocoordArray.csv</td>\n",
       "      <td>Audio</td>\n",
       "      <td>#F6D55C</td>\n",
       "    </tr>\n",
       "    <tr>\n",
       "      <th>1</th>\n",
       "      <td>3854.099849</td>\n",
       "      <td>8700</td>\n",
       "      <td>3185.198183</td>\n",
       "      <td>JRS_00042021-06-16_AudiocoordArrayFiltered.csv</td>\n",
       "      <td>Audio</td>\n",
       "      <td>#F6D55C</td>\n",
       "    </tr>\n",
       "    <tr>\n",
       "      <th>2</th>\n",
       "      <td>3956.855249</td>\n",
       "      <td>8725.0</td>\n",
       "      <td>3788.986745</td>\n",
       "      <td>JRS_00042021-06-16_LickscoordArray.csv</td>\n",
       "      <td>Licks</td>\n",
       "      <td>#ED553B</td>\n",
       "    </tr>\n",
       "    <tr>\n",
       "      <th>3</th>\n",
       "      <td>3950.491288</td>\n",
       "      <td>8725.0</td>\n",
       "      <td>3744.439018</td>\n",
       "      <td>JRS_00042021-06-16_LickscoordArray.csv</td>\n",
       "      <td>Licks</td>\n",
       "      <td>#ED553B</td>\n",
       "    </tr>\n",
       "    <tr>\n",
       "      <th>4</th>\n",
       "      <td>3935.642046</td>\n",
       "      <td>8725.0</td>\n",
       "      <td>3640.494321</td>\n",
       "      <td>JRS_00042021-06-16_LickscoordArray.csv</td>\n",
       "      <td>Licks</td>\n",
       "      <td>#ED553B</td>\n",
       "    </tr>\n",
       "  </tbody>\n",
       "</table>\n",
       "</div>"
      ],
      "text/plain": [
       "             x       y            z  \\\n",
       "0  3854.099849    8700  3185.198183   \n",
       "1  3854.099849    8700  3185.198183   \n",
       "2  3956.855249  8725.0  3788.986745   \n",
       "3  3950.491288  8725.0  3744.439018   \n",
       "4  3935.642046  8725.0  3640.494321   \n",
       "\n",
       "                                             file labels    color  \n",
       "0          JRS_00042021-06-16_AudiocoordArray.csv  Audio  #F6D55C  \n",
       "1  JRS_00042021-06-16_AudiocoordArrayFiltered.csv  Audio  #F6D55C  \n",
       "2          JRS_00042021-06-16_LickscoordArray.csv  Licks  #ED553B  \n",
       "3          JRS_00042021-06-16_LickscoordArray.csv  Licks  #ED553B  \n",
       "4          JRS_00042021-06-16_LickscoordArray.csv  Licks  #ED553B  "
      ]
     },
     "execution_count": 6,
     "metadata": {},
     "output_type": "execute_result"
    }
   ],
   "source": [
    "data.head()"
   ]
  },
  {
   "cell_type": "code",
   "execution_count": 7,
   "metadata": {},
   "outputs": [
    {
     "name": "stdout",
     "output_type": "stream",
     "text": [
      "(URN) connected to server\n",
      "Login sent with ID: root\n"
     ]
    }
   ],
   "source": [
    "import oursin as urchin\n",
    "urchin.setup()\n",
    "brain_areas = [\"MRN\", \"SCs\", \"SCm\", \"APN\", \"RN\"]"
   ]
  },
  {
   "cell_type": "code",
   "execution_count": 8,
   "metadata": {},
   "outputs": [],
   "source": [
    "#Generating overall brain image:\n",
    "urchin.ccf.set_visibility({'grey':True})\n",
    "urchin.ccf.set_material({'grey':'transparent-unlit'})\n",
    "urchin.ccf.set_alpha({'grey':0.1})"
   ]
  },
  {
   "cell_type": "code",
   "execution_count": 9,
   "metadata": {},
   "outputs": [],
   "source": [
    "#Generating brain area images:\n",
    "for area in brain_areas:\n",
    "    urchin.ccf.set_visibility({area:True})\n",
    "    urchin.ccf.set_material({area:'transparent-unlit'})\n",
    "    urchin.ccf.set_alpha({area:0.2})"
   ]
  },
  {
   "cell_type": "code",
   "execution_count": 10,
   "metadata": {},
   "outputs": [],
   "source": [
    "#Creating neurons\n",
    "neurons = []\n",
    "for i in range(len(data)):\n",
    "    neurons.append(str(i))\n",
    "urchin.neurons.create(neurons)\n",
    "#Setting neuron colors\n",
    "neuron_colors = {}\n",
    "for neuron in neurons:\n",
    "  neuron_colors[neuron] = data.loc[int(neuron),\"color\"]\n",
    "urchin.neurons.set_color(neuron_colors)\n",
    "#Setting neuron positions\n",
    "neuron_positions = {}\n",
    "for neuron in neurons:\n",
    "    neuron_positions[neuron] = [data.loc[int(neuron), \"x\"], data.loc[int(neuron), \"y\"], data.loc[int(neuron), \"z\"]]\n",
    "urchin.neurons.set_position(neuron_positions)\n"
   ]
  }
 ],
 "metadata": {
  "kernelspec": {
   "display_name": "Python 3",
   "language": "python",
   "name": "python3"
  },
  "language_info": {
   "codemirror_mode": {
    "name": "ipython",
    "version": 3
   },
   "file_extension": ".py",
   "mimetype": "text/x-python",
   "name": "python",
   "nbconvert_exporter": "python",
   "pygments_lexer": "ipython3",
   "version": "3.8.10"
  },
  "orig_nbformat": 4
 },
 "nbformat": 4,
 "nbformat_minor": 2
}
