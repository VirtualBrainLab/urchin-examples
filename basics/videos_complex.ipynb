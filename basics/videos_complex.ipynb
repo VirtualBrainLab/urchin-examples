{
 "cells": [
  {
   "cell_type": "markdown",
   "metadata": {},
   "source": [
    "# Complex Videos\n",
    "Doing more complex things with videos\n",
    "\n",
    "[![Open In Colab](https://colab.research.google.com/assets/colab-badge.svg)](https://colab.research.google.com/github/VirtualBrainLab/urchin-examples/blob/main/basics/videos_complex.ipynb)"
   ]
  },
  {
   "cell_type": "markdown",
   "metadata": {},
   "source": [
    "## Install Urchin\n",
    "\n",
    "Urchin is a Python package stored on PyPI, the following code needs to be run the first time you use Urchin in a Python environment. \n",
    "\n",
    "Urchin's full documentation can be found [on our website](https://virtualbrainlab.org/urchin/installation_and_use.html)."
   ]
  },
  {
   "cell_type": "code",
   "execution_count": null,
   "metadata": {},
   "outputs": [],
   "source": [
    "!pip install oursin -U"
   ]
  },
  {
   "cell_type": "markdown",
   "metadata": {
    "vscode": {
     "languageId": "plaintext"
    }
   },
   "source": [
    "## Setup Urchin and open the renderer webpage \n",
    "\n",
    "By default Urchin opens the 3D renderer in a webpage. Make sure pop-ups are enabled, or the page won't open properly. You can also open the renderer site yourself by replacing [ID here] with the ID that is output by the call to `.setup()` at https://data.virtualbrainlab.org/Urchin/?ID=[ID here]\n",
    "\n",
    "Note that Urchin communicates to the renderer webpage through an internet connection, we don't currently support offline use (we hope to add support in the future)."
   ]
  },
  {
   "cell_type": "code",
   "execution_count": null,
   "metadata": {},
   "outputs": [],
   "source": [
    "import oursin as urchin\n",
    "urchin.setup()"
   ]
  },
  {
   "cell_type": "code",
   "execution_count": 2,
   "metadata": {},
   "outputs": [],
   "source": [
    "# import additional packages\n",
    "import pyarrow.parquet as pq\n",
    "import pandas as pd\n",
    "import requests\n",
    "import numpy as np\n",
    "\n",
    "from io import BytesIO\n",
    "\n",
    "from iblatlas import atlas\n",
    "aa = atlas.AllenAtlas()\n",
    "from iblatlas.regions import BrainRegions\n",
    "br = BrainRegions()\n",
    "import numpy as np\n",
    "import pandas as pd\n",
    "import time\n",
    "import seaborn as sns"
   ]
  },
  {
   "cell_type": "markdown",
   "metadata": {},
   "source": [
    "## Get data from google drive\n"
   ]
  },
  {
   "cell_type": "code",
   "execution_count": 3,
   "metadata": {},
   "outputs": [],
   "source": [
    "# bwm_df https://drive.google.com/file/d/11AXZ6oFaXjx4ttdUNPg-Qvdd4z16Oe17/view?usp=sharing\n",
    "# unit_df https://drive.google.com/file/d/1sDEYHEyxCCMKdff0NdIVF1R5uvIADvUg/view?usp=sharing\n",
    "\n",
    "def get_parquet(file_id):\n",
    "    url = f\"https://drive.google.com/uc?id={file_id}\"\n",
    "    response = requests.get(url)\n",
    "    \n",
    "    parquet_file = pq.read_table(BytesIO(response.content))\n",
    "    return parquet_file.to_pandas()\n",
    "\n",
    "bwm_df = get_parquet('11AXZ6oFaXjx4ttdUNPg-Qvdd4z16Oe17')\n",
    "unit_df = get_parquet('1sDEYHEyxCCMKdff0NdIVF1R5uvIADvUg')"
   ]
  },
  {
   "cell_type": "markdown",
   "metadata": {},
   "source": [
    "Do some re-organization because a few of the names of labs are badly labeled"
   ]
  },
  {
   "cell_type": "code",
   "execution_count": null,
   "metadata": {},
   "outputs": [],
   "source": [
    "bwm_df.loc[bwm_df['lab'] == 'hoferlab', 'lab'] = 'hoferflogellab'\n",
    "bwm_df.loc[bwm_df['lab'] == 'mrsicflogellab', 'lab'] = 'hoferflogellab'"
   ]
  }
 ],
 "metadata": {
  "kernelspec": {
   "display_name": "iblenv",
   "language": "python",
   "name": "python3"
  },
  "language_info": {
   "codemirror_mode": {
    "name": "ipython",
    "version": 3
   },
   "file_extension": ".py",
   "mimetype": "text/x-python",
   "name": "python",
   "nbconvert_exporter": "python",
   "pygments_lexer": "ipython3",
   "version": "3.10.13"
  }
 },
 "nbformat": 4,
 "nbformat_minor": 2
}
