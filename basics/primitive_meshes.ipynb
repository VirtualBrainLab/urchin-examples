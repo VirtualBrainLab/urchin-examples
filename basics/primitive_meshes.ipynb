{
 "cells": [
  {
   "cell_type": "code",
   "execution_count": 2,
   "metadata": {},
   "outputs": [
    {
     "name": "stdout",
     "output_type": "stream",
     "text": [
      "(URN) connected to server\n",
      "Login sent with ID: 3ea7941f, copy this ID into the renderer to connect.\n"
     ]
    }
   ],
   "source": [
    "import oursin as urchin\n",
    "urchin.setup()"
   ]
  },
  {
   "cell_type": "code",
   "execution_count": 10,
   "metadata": {},
   "outputs": [],
   "source": [
    "urchin.clear()"
   ]
  },
  {
   "cell_type": "code",
   "execution_count": 9,
   "metadata": {},
   "outputs": [],
   "source": [
    "pmeshes = urchin.primitives.create(2)\n",
    "urchin.primitives.set_positions(pmeshes,[[3,3,3], [4,4,4]])\n",
    "urchin.primitives.set_colors(pmeshes,['#ff0000', '#00ff00'])"
   ]
  },
  {
   "cell_type": "code",
   "execution_count": 5,
   "metadata": {},
   "outputs": [],
   "source": [
    "pmeshes[0].delete()"
   ]
  },
  {
   "cell_type": "code",
   "execution_count": 6,
   "metadata": {},
   "outputs": [],
   "source": [
    "pos = [4,4,4]\n",
    "\n",
    "pmeshes[1].set_position(pos)"
   ]
  },
  {
   "cell_type": "code",
   "execution_count": 24,
   "metadata": {},
   "outputs": [],
   "source": [
    "tempScale = {\"cube2\" : [2,2,2]}\n",
    "urchin.primitives.set_scale(tempScale)"
   ]
  },
  {
   "cell_type": "code",
   "execution_count": 26,
   "metadata": {},
   "outputs": [],
   "source": [
    "urchin.primitives.set_color({\"cube2\":\"#000000\"})"
   ]
  },
  {
   "cell_type": "code",
   "execution_count": 7,
   "metadata": {},
   "outputs": [],
   "source": [
    "urchin.primitives.set_material({'cube2': 'opaque-lit'})"
   ]
  },
  {
   "cell_type": "code",
   "execution_count": null,
   "metadata": {},
   "outputs": [],
   "source": []
  }
 ],
 "metadata": {
  "kernelspec": {
   "display_name": "Python 3.8.0 ('urchin-venv': venv)",
   "language": "python",
   "name": "python3"
  },
  "language_info": {
   "codemirror_mode": {
    "name": "ipython",
    "version": 3
   },
   "file_extension": ".py",
   "mimetype": "text/x-python",
   "name": "python",
   "nbconvert_exporter": "python",
   "pygments_lexer": "ipython3",
   "version": "3.9.0"
  },
  "orig_nbformat": 4,
  "vscode": {
   "interpreter": {
    "hash": "65fbda99ef506b46cf85649fb72f0ee183d37808244220e77502e0b504315282"
   }
  }
 },
 "nbformat": 4,
 "nbformat_minor": 2
}
