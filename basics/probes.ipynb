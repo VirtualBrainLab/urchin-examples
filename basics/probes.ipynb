{
 "cells": [
  {
   "cell_type": "markdown",
   "id": "d22a9306",
   "metadata": {},
   "source": [
    "# Probes\n",
    "[![Open In Colab](https://colab.research.google.com/assets/colab-badge.svg)](https://colab.research.google.com/github/VirtualBrainLab/urchin-examples/blob/main/basics/probes.ipynb)"
   ]
  },
  {
   "cell_type": "markdown",
   "id": "ac0754d0",
   "metadata": {},
   "source": [
    "## Install Urchin\n",
    "\n",
    "Urchin is a Python package stored on PyPI, the following code needs to be run the first time you use Urchin in a Python environment. \n",
    "\n",
    "Urchin's full documentation can be found [on our website](https://virtualbrainlab.org/urchin/installation_and_use.html)."
   ]
  },
  {
   "cell_type": "code",
   "execution_count": null,
   "id": "8f04ec05",
   "metadata": {},
   "outputs": [],
   "source": [
    "#Installing urchin\n",
    "!pip install oursin -U"
   ]
  },
  {
   "cell_type": "markdown",
   "id": "d359d23b",
   "metadata": {},
   "source": [
    "## Setup Urchin and open the renderer webpage \n",
    "\n",
    "By default Urchin opens the 3D renderer in a webpage. Make sure pop-ups are enabled, or the page won't open properly. You can also open the renderer site yourself by replacing [ID here] with the ID that is output by the call to `.setup()` at https://data.virtualbrainlab.org/Urchin/?ID=[ID here]\n",
    "\n",
    "Note that Urchin communicates to the renderer webpage through an internet connection, we don't currently support offline use (we hope to add support in the future)."
   ]
  },
  {
   "cell_type": "code",
   "execution_count": 1,
   "id": "b384b2b7",
   "metadata": {},
   "outputs": [
    {
     "name": "stdout",
     "output_type": "stream",
     "text": [
      "(URN) connected to server\n",
      "Login sent with ID: b999fada, copy this ID into the renderer to connect.\n"
     ]
    }
   ],
   "source": [
    "#Importing necessary libraries:\n",
    "import oursin as urchin\n",
    "urchin.setup()\n"
   ]
  },
  {
   "cell_type": "markdown",
   "metadata": {},
   "source": [
    "## Load an Atlas\n",
    "\n",
    "Probes can only be placed within an Atlas, so we do need to load one before proceeding. Let's load the CCF"
   ]
  },
  {
   "cell_type": "code",
   "execution_count": 15,
   "metadata": {},
   "outputs": [
    {
     "name": "stdout",
     "output_type": "stream",
     "text": [
      "(Warning) Atlas was already loaded, the renderer can have issues if you try to load an atlas twice.\n"
     ]
    }
   ],
   "source": [
    "urchin.ccf25.load()"
   ]
  },
  {
   "cell_type": "markdown",
   "id": "6eeea9bb",
   "metadata": {},
   "source": [
    "# Probes"
   ]
  },
  {
   "cell_type": "markdown",
   "id": "a5b439e6",
   "metadata": {},
   "source": [
    "Probes follow the same format to neurons, they just have some additional settings to adjust. Refer to neurons tutorial for proper formatting."
   ]
  },
  {
   "cell_type": "code",
   "execution_count": 16,
   "id": "a1a43c90",
   "metadata": {},
   "outputs": [],
   "source": [
    "probe_list = urchin.probes.create(5) #Creating 3 probes"
   ]
  },
  {
   "cell_type": "code",
   "execution_count": 21,
   "id": "e40fada2",
   "metadata": {},
   "outputs": [],
   "source": [
    "urchin.probes.set_colors(probe_list, ['#FF00FF','#000000','#FF0000','#00FF00','#0000FF']) #Setting the colors of the probes to magenta, black and red"
   ]
  },
  {
   "cell_type": "code",
   "execution_count": 20,
   "metadata": {},
   "outputs": [],
   "source": [
    "urchin.probes.set_positions(probe_list, [[0,0,0], [13200, 11400, 8000], [13200/2,11400/2,8000/2], [13200/2,11400/2,8000/2], [13200/2,11400/2,8000/2]])"
   ]
  },
  {
   "cell_type": "code",
   "execution_count": 22,
   "id": "7dc6c6a2",
   "metadata": {},
   "outputs": [],
   "source": [
    "urchin.probes.set_angles(probe_list,[[0,0,0],[0,0,0],[0,0,0],[90,0,0],[0,90,0]]) #Setting the angles of the probes to 90,45,45 and 45,90,45 and 45,45,90"
   ]
  }
 ],
 "metadata": {
  "kernelspec": {
   "display_name": "iblenv",
   "language": "python",
   "name": "python3"
  },
  "language_info": {
   "codemirror_mode": {
    "name": "ipython",
    "version": 3
   },
   "file_extension": ".py",
   "mimetype": "text/x-python",
   "name": "python",
   "nbconvert_exporter": "python",
   "pygments_lexer": "ipython3",
   "version": "3.9.0"
  },
  "vscode": {
   "interpreter": {
    "hash": "e571d860348ccccbb87c9afaea3b8de5dc8c1513265a6c0fcfe6ac69a4d3ce4b"
   }
  }
 },
 "nbformat": 4,
 "nbformat_minor": 5
}
