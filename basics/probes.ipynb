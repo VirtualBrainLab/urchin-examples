{
 "cells": [
  {
   "cell_type": "markdown",
   "id": "d22a9306",
   "metadata": {},
   "source": [
    "## Electrophysiology probes tutorial\n",
    "<a target=\"_blank\" href=\"https://colab.research.google.com/github/VirtualBrainLab/urchin-examples/blob/main/basics/neurons_probes.ipynb\">\n",
    "  <img src=\"https://colab.research.google.com/assets/colab-badge.svg\" alt=\"Open In Colab\"/>\n",
    "</a>"
   ]
  },
  {
   "cell_type": "markdown",
   "id": "ac0754d0",
   "metadata": {},
   "source": [
    "## Run the following block if using the notebook for the first time:\n",
    "Urchin is a python package that needs to properly be installed before use the first time. Once installed within the environment, it only needs to be imported. If running locally, Urchin only needs to be installed once when creating the virtual environment. For more information about Urchin, check out the documentation on the VBL website [here](https://virtualbrainlab.org/urchin/installation_and_use.html)."
   ]
  },
  {
   "cell_type": "code",
   "execution_count": null,
   "id": "8f04ec05",
   "metadata": {},
   "outputs": [],
   "source": [
    "#Installing urchin\n",
    "!pip install oursin -U"
   ]
  },
  {
   "cell_type": "markdown",
   "id": "d359d23b",
   "metadata": {},
   "source": [
    "## Setup Urchin and open the renderer webpage \n",
    "\n",
    "By default Urchin opens the 3D renderer in a webpage. Make sure pop-ups are enabled, or the page won't open properly. You can also open the renderer site yourself by replacing [ID here] with the ID that is output by the call to `.setup()` at https://data.virtualbrainlab.org/Urchin/?ID=[ID here]\n",
    "\n",
    "Note that Urchin communicates to the renderer webpage through an internet connection, we don't currently support offline use (we hope to add support in the future)."
   ]
  },
  {
   "cell_type": "code",
   "execution_count": null,
   "id": "b384b2b7",
   "metadata": {},
   "outputs": [],
   "source": [
    "#Importing necessary libraries:\n",
    "import oursin as urchin\n",
    "urchin.setup()\n"
   ]
  },
  {
   "cell_type": "markdown",
   "id": "6eeea9bb",
   "metadata": {},
   "source": [
    "# Probes"
   ]
  },
  {
   "cell_type": "markdown",
   "id": "a5b439e6",
   "metadata": {},
   "source": [
    "Probes follow the same format to neurons, they just have some additional settings to adjust. Refer to neurons tutorial for proper formatting."
   ]
  },
  {
   "cell_type": "code",
   "execution_count": null,
   "id": "a1a43c90",
   "metadata": {},
   "outputs": [],
   "source": [
    "probe_list = urchin.probes.create(3) #Creating 3 probes"
   ]
  },
  {
   "cell_type": "code",
   "execution_count": null,
   "id": "e40fada2",
   "metadata": {},
   "outputs": [],
   "source": [
    "urchin.probes.set_colors(probe_list, ['#FF00FF','#000000','#FF0000']) #Setting the colors of the probes to magenta, black and red"
   ]
  },
  {
   "cell_type": "code",
   "execution_count": null,
   "id": "7dc6c6a2",
   "metadata": {},
   "outputs": [],
   "source": [
    "urchin.probes.set_angles(probe_list,[[90,45,45],[45,90,45],[45,45,90]]) #Setting the angles of the probes to 90,45,45 and 45,90,45 and 45,45,90"
   ]
  },
  {
   "cell_type": "code",
   "execution_count": null,
   "id": "0a7bfed4",
   "metadata": {},
   "outputs": [],
   "source": [
    "probe_list[0].set_color(\"#000000\") #Setting the color of the first probe to black"
   ]
  },
  {
   "cell_type": "code",
   "execution_count": null,
   "id": "06253bd5",
   "metadata": {},
   "outputs": [],
   "source": [
    "probe_list[0].set_angle([90,45,45]) #Setting the angle of the first probe to 90,45,45"
   ]
  },
  {
   "cell_type": "code",
   "execution_count": null,
   "id": "4d3c2eaf",
   "metadata": {},
   "outputs": [],
   "source": [
    "probe_list[0].set_position([4000,4000,4000]) #Setting the position of the first probe to 4000,4000,4000"
   ]
  },
  {
   "cell_type": "code",
   "execution_count": null,
   "id": "31396f26",
   "metadata": {},
   "outputs": [],
   "source": [
    "probe_list[0].set_scale([0.07, 10, 0.02]) #Setting the scale of the first probe to 0.07, 10, 0.02"
   ]
  }
 ],
 "metadata": {
  "kernelspec": {
   "display_name": "iblenv",
   "language": "python",
   "name": "python3"
  },
  "language_info": {
   "codemirror_mode": {
    "name": "ipython",
    "version": 3
   },
   "file_extension": ".py",
   "mimetype": "text/x-python",
   "name": "python",
   "nbconvert_exporter": "python",
   "pygments_lexer": "ipython3",
   "version": "3.9.0"
  },
  "vscode": {
   "interpreter": {
    "hash": "e571d860348ccccbb87c9afaea3b8de5dc8c1513265a6c0fcfe6ac69a4d3ce4b"
   }
  }
 },
 "nbformat": 4,
 "nbformat_minor": 5
}
