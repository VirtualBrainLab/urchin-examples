{
 "cells": [
  {
   "cell_type": "code",
   "execution_count": 1,
   "id": "b384b2b7",
   "metadata": {},
   "outputs": [
    {
     "name": "stdout",
     "output_type": "stream",
     "text": [
      "(URN) connected to server\n",
      "Login sent with ID: ec93e4e9, copy this ID into the renderer to connect.\n"
     ]
    }
   ],
   "source": [
    "import pandas as pd\n",
    "import oursin as urchin\n",
    "urchin.setup()"
   ]
  },
  {
   "cell_type": "code",
   "execution_count": 2,
   "id": "7809c685",
   "metadata": {},
   "outputs": [],
   "source": [
    "neurons_list = urchin.neurons.create(3)"
   ]
  },
  {
   "cell_type": "code",
   "execution_count": 3,
   "id": "38522859",
   "metadata": {},
   "outputs": [],
   "source": [
    "urchin.neurons.set_colors(neurons_list, ['#FFFFFF','#000000','#FF0000'])"
   ]
  },
  {
   "cell_type": "code",
   "execution_count": 4,
   "id": "fc9c8a1f",
   "metadata": {},
   "outputs": [],
   "source": [
    "urchin.neurons.set_sizes(neurons_list, [5.0,4.0,3.0])"
   ]
  },
  {
   "cell_type": "code",
   "execution_count": 5,
   "id": "4b9319a2",
   "metadata": {},
   "outputs": [],
   "source": [
    "n1 = urchin.neurons.Neuron()"
   ]
  },
  {
   "cell_type": "code",
   "execution_count": 6,
   "id": "43300b34",
   "metadata": {},
   "outputs": [],
   "source": [
    "n1.set_color('#00FF00')"
   ]
  },
  {
   "cell_type": "code",
   "execution_count": 7,
   "id": "ea58ff9c",
   "metadata": {},
   "outputs": [],
   "source": [
    "n1.set_size(4.0)"
   ]
  },
  {
   "cell_type": "code",
   "execution_count": 8,
   "id": "d571be50",
   "metadata": {},
   "outputs": [],
   "source": [
    "n1.set_position([1000,5000,5000])"
   ]
  },
  {
   "cell_type": "code",
   "execution_count": 9,
   "id": "8b76553c",
   "metadata": {},
   "outputs": [],
   "source": [
    "n1.delete()"
   ]
  }
 ],
 "metadata": {
  "kernelspec": {
   "display_name": "iblenv",
   "language": "python",
   "name": "python3"
  },
  "language_info": {
   "codemirror_mode": {
    "name": "ipython",
    "version": 3
   },
   "file_extension": ".py",
   "mimetype": "text/x-python",
   "name": "python",
   "nbconvert_exporter": "python",
   "pygments_lexer": "ipython3",
   "version": "3.9.0"
  },
  "vscode": {
   "interpreter": {
    "hash": "e571d860348ccccbb87c9afaea3b8de5dc8c1513265a6c0fcfe6ac69a4d3ce4b"
   }
  }
 },
 "nbformat": 4,
 "nbformat_minor": 5
}
