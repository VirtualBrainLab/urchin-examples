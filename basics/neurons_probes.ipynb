{
 "cells": [
  {
   "cell_type": "markdown",
   "id": "d22a9306",
   "metadata": {},
   "source": [
    "## Basic neurons and probes tutorial\n",
    "<a target=\"_blank\" href=\"https://colab.research.google.com/github/VirtualBrainLab/urchin-examples/blob/colab/basics/neurons_probes.ipynb\">\n",
    "  <img src=\"https://colab.research.google.com/assets/colab-badge.svg\" alt=\"Open In Colab\"/>\n",
    "</a>"
   ]
  },
  {
   "cell_type": "markdown",
   "id": "ac0754d0",
   "metadata": {},
   "source": [
    "## Run the following block if using the notebook for the first time:"
   ]
  },
  {
   "cell_type": "code",
   "execution_count": null,
   "id": "8f04ec05",
   "metadata": {},
   "outputs": [],
   "source": [
    "#Installing urchin\n",
    "!pip install oursin"
   ]
  },
  {
   "cell_type": "markdown",
   "id": "d359d23b",
   "metadata": {},
   "source": [
    "## Set up the Unity Renderer for Neuroscience and open the renderer webpage \n",
    "Ensure that popups are enabled."
   ]
  },
  {
   "cell_type": "code",
   "execution_count": 1,
   "id": "b384b2b7",
   "metadata": {},
   "outputs": [
    {
     "name": "stdout",
     "output_type": "stream",
     "text": [
      "(URN) connected to server\n",
      "Login sent with ID: ec93e4e9, copy this ID into the renderer to connect.\n"
     ]
    }
   ],
   "source": [
    "#Importing necessary libraries:\n",
    "import oursin as urchin\n",
    "urchin.setup()\n",
    "import pandas as pd\n",
    "\n",
    "#To open browser window:\n",
    "from IPython.display import Javascript\n",
    "\n",
    "url = f'https://data.virtualbrainlab.org/Urchin/?ID={urchin.client.ID}'\n",
    "\n",
    "# Specify window features\n",
    "window_features = \"width=1200,height=800,toolbar=no,location=no,directories=no,status=no,menubar=no,scrollbars=yes,resizable=yes\"\n",
    "\n",
    "# Use the window.open function with window features\n",
    "javascript_code = f'window.open(\"{url}\", \"_blank\", \"{window_features}\");'\n",
    "\n",
    "# Display the JavaScript code to open the new window\n",
    "display(Javascript(javascript_code))"
   ]
  },
  {
   "cell_type": "markdown",
   "id": "a9aa7c40",
   "metadata": {},
   "source": [
    "## Neurons tutorial below"
   ]
  },
  {
   "cell_type": "code",
   "execution_count": 2,
   "id": "7809c685",
   "metadata": {},
   "outputs": [],
   "source": [
    "neurons_list = urchin.neurons.create(3)"
   ]
  },
  {
   "cell_type": "code",
   "execution_count": 3,
   "id": "38522859",
   "metadata": {},
   "outputs": [],
   "source": [
    "urchin.neurons.set_colors(neurons_list, ['#FFFFFF','#000000','#FF0000'])"
   ]
  },
  {
   "cell_type": "code",
   "execution_count": 4,
   "id": "fc9c8a1f",
   "metadata": {},
   "outputs": [],
   "source": [
    "urchin.neurons.set_sizes(neurons_list, [5.0,4.0,3.0])"
   ]
  },
  {
   "cell_type": "code",
   "execution_count": 5,
   "id": "4b9319a2",
   "metadata": {},
   "outputs": [],
   "source": [
    "n1 = urchin.neurons.Neuron()"
   ]
  },
  {
   "cell_type": "code",
   "execution_count": 6,
   "id": "43300b34",
   "metadata": {},
   "outputs": [],
   "source": [
    "n1.set_color('#00FF00')"
   ]
  },
  {
   "cell_type": "code",
   "execution_count": 7,
   "id": "ea58ff9c",
   "metadata": {},
   "outputs": [],
   "source": [
    "n1.set_size(4.0)"
   ]
  },
  {
   "cell_type": "code",
   "execution_count": 8,
   "id": "d571be50",
   "metadata": {},
   "outputs": [],
   "source": [
    "n1.set_position([1000,5000,5000])"
   ]
  },
  {
   "cell_type": "code",
   "execution_count": 9,
   "id": "8b76553c",
   "metadata": {},
   "outputs": [],
   "source": [
    "n1.delete()"
   ]
  },
  {
   "cell_type": "markdown",
   "id": "6eeea9bb",
   "metadata": {},
   "source": [
    "# No probes tutorial??"
   ]
  }
 ],
 "metadata": {
  "kernelspec": {
   "display_name": "iblenv",
   "language": "python",
   "name": "python3"
  },
  "language_info": {
   "codemirror_mode": {
    "name": "ipython",
    "version": 3
   },
   "file_extension": ".py",
   "mimetype": "text/x-python",
   "name": "python",
   "nbconvert_exporter": "python",
   "pygments_lexer": "ipython3",
   "version": "3.9.0"
  },
  "vscode": {
   "interpreter": {
    "hash": "e571d860348ccccbb87c9afaea3b8de5dc8c1513265a6c0fcfe6ac69a4d3ce4b"
   }
  }
 },
 "nbformat": 4,
 "nbformat_minor": 5
}
