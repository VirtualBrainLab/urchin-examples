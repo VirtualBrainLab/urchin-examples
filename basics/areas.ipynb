{
 "cells": [
  {
   "cell_type": "markdown",
   "id": "7b2d0be6",
   "metadata": {},
   "source": [
    "## Basic Areas Tutorial\n",
    "<a target=\"_blank\" href=\"https://colab.research.google.com/github/VirtualBrainLab/urchin-examples/blob/colab/basics/areas.ipynb\">\n",
    "  <img src=\"https://colab.research.google.com/assets/colab-badge.svg\" alt=\"Open In Colab\"/>\n",
    "</a>"
   ]
  },
  {
   "cell_type": "markdown",
   "id": "96d5538c",
   "metadata": {},
   "source": [
    "## Install Urchin"
   ]
  },
  {
   "cell_type": "markdown",
   "id": "a2cac8be",
   "metadata": {},
   "source": [
    "Urchin is a Python package stored on PyPI, the following code needs to be run the first time you use Urchin in a Python environment. \n",
    "\n",
    "Urchin's full documentation can be found [on our website](https://virtualbrainlab.org/urchin/installation_and_use.html)."
   ]
  },
  {
   "cell_type": "code",
   "execution_count": null,
   "id": "b4af6842",
   "metadata": {},
   "outputs": [],
   "source": [
    "#Installing urchin\n",
    "!pip install oursin -U"
   ]
  },
  {
   "cell_type": "markdown",
   "id": "fe006c66",
   "metadata": {},
   "source": [
    "## Setup Urchin and open the renderer webpage \n",
    "\n",
    "By default Urchin opens the 3D renderer in a webpage. Make sure pop-ups are enabled, or the page won't open properly. You can also open the renderer site yourself by replace [ID here] with the ID that is output by the call to `.setup()`  https://data.virtualbrainlab.org/Urchin/?ID=[ID here]\n",
    "\n",
    "Note that Urchin communicates to the renderer webpage through an internet connection, we don't currently support offline use (we hope to add support in the future)."
   ]
  },
  {
   "cell_type": "code",
   "execution_count": 1,
   "id": "5741fa52",
   "metadata": {},
   "outputs": [
    {
     "name": "stdout",
     "output_type": "stream",
     "text": [
      "(URN) connected to server\n",
      "Login sent with ID: f90c6681, copy this ID into the renderer to connect.\n"
     ]
    },
    {
     "name": "stderr",
     "output_type": "stream",
     "text": [
      "c:\\Users\\Dan\\anaconda3\\envs\\iblenv\\lib\\site-packages\\numpy\\_distributor_init.py:30: UserWarning: loaded more than 1 DLL from .libs:\n",
      "c:\\Users\\Dan\\anaconda3\\envs\\iblenv\\lib\\site-packages\\numpy\\.libs\\libopenblas.FB5AE2TYXYH2IJRDKGDGQ3XBKLKTF43H.gfortran-win_amd64.dll\n",
      "c:\\Users\\Dan\\anaconda3\\envs\\iblenv\\lib\\site-packages\\numpy\\.libs\\libopenblas64__v0.3.21-gcc_10_3_0.dll\n",
      "  warnings.warn(\"loaded more than 1 DLL from .libs:\"\n"
     ]
    }
   ],
   "source": [
    "import oursin as urchin\n",
    "urchin.setup(localhost=True)"
   ]
  },
  {
   "cell_type": "markdown",
   "id": "34d79d5b",
   "metadata": {},
   "source": [
    "## Loading a reference atlas and displaying brain areas"
   ]
  },
  {
   "cell_type": "markdown",
   "id": "5f53a68f",
   "metadata": {},
   "source": [
    "Multiple reference atlases are available in Urchin, before we can access individual brain areas we need to have an atlas loaded. Here we'll load the Allen Mouse CCF atlas.\n",
    "\n",
    "Only one atlas can be loaded at a time."
   ]
  },
  {
   "cell_type": "code",
   "execution_count": 2,
   "id": "f7b756a0",
   "metadata": {},
   "outputs": [],
   "source": [
    "urchin.ccf25.load()"
   ]
  },
  {
   "cell_type": "markdown",
   "id": "7ae6077e",
   "metadata": {},
   "source": [
    "An Atlas stores a list of areas, which can be loaded in the renderer"
   ]
  },
  {
   "cell_type": "code",
   "execution_count": 3,
   "id": "9c4c8e1a",
   "metadata": {},
   "outputs": [
    {
     "name": "stdout",
     "output_type": "stream",
     "text": [
      "['root', 'grey', 'CH', 'CTX', 'CTXpl', 'Isocortex', 'FRP', 'FRP1', 'FRP2/3', 'FRP5', 'FRP6a', 'FRP6b', 'MO', 'MOp', 'MOp1', 'MOp2/3', 'MOp5', 'MOp6a', 'MOp6b', 'MOs', 'MOs1', 'MOs2/3', 'MOs5', 'MOs6a', 'MOs6b', 'SS', 'SSp', 'SSp-n', 'SSp-n1', 'SSp-n2/3', 'SSp-n4', 'SSp-n5', 'SSp-n6a', 'SSp-n6b', 'SSp-bfd', 'SSp-bfd1', 'SSp-bfd2/3', 'SSp-bfd4', 'SSp-bfd5', 'SSp-bfd6a', 'SSp-bfd6b', 'SSp-ll', 'SSp-ll1', 'SSp-ll2/3', 'SSp-ll4', 'SSp-ll5', 'SSp-ll6a', 'SSp-ll6b', 'SSp-m', 'SSp-m1', 'SSp-m2/3', 'SSp-m4', 'SSp-m5', 'SSp-m6a', 'SSp-m6b', 'SSp-ul', 'SSp-ul1', 'SSp-ul2/3', 'SSp-ul4', 'SSp-ul5', 'SSp-ul6a', 'SSp-ul6b', 'SSp-tr', 'SSp-tr1', 'SSp-tr2/3', 'SSp-tr4', 'SSp-tr5', 'SSp-tr6a', 'SSp-tr6b', 'SSp-un', 'SSp-un1', 'SSp-un2/3', 'SSp-un4', 'SSp-un5', 'SSp-un6a', 'SSp-un6b', 'SSs', 'SSs1', 'SSs2/3', 'SSs4', 'SSs5', 'SSs6a', 'SSs6b', 'GU', 'GU1', 'GU2/3', 'GU4', 'GU5', 'GU6a', 'GU6b', 'VISC', 'VISC1', 'VISC2/3', 'VISC4', 'VISC5', 'VISC6a', 'VISC6b', 'AUD', 'AUDd', 'AUDd1', 'AUDd2/3', 'AUDd4', 'AUDd5', 'AUDd6a', 'AUDd6b', 'AUDp', 'AUDp1', 'AUDp2/3', 'AUDp4', 'AUDp5', 'AUDp6a', 'AUDp6b', 'AUDpo', 'AUDpo1', 'AUDpo2/3', 'AUDpo4', 'AUDpo5', 'AUDpo6a', 'AUDpo6b', 'AUDv', 'AUDv1', 'AUDv2/3', 'AUDv4', 'AUDv5', 'AUDv6a', 'AUDv6b', 'VIS', 'VISal', 'VISal1', 'VISal2/3', 'VISal4', 'VISal5', 'VISal6a', 'VISal6b', 'VISam', 'VISam1', 'VISam2/3', 'VISam4', 'VISam5', 'VISam6a', 'VISam6b', 'VISl', 'VISl1', 'VISl2/3', 'VISl4', 'VISl5', 'VISl6a', 'VISl6b', 'VISp', 'VISp1', 'VISp2/3', 'VISp4', 'VISp5', 'VISp6a', 'VISp6b', 'VISpl', 'VISpl1', 'VISpl2/3', 'VISpl4', 'VISpl5', 'VISpl6a', 'VISpl6b', 'VISpm', 'VISpm1', 'VISpm2/3', 'VISpm4', 'VISpm5', 'VISpm6a', 'VISpm6b', 'VISli', 'VISli1', 'VISli2/3', 'VISli4', 'VISli5', 'VISli6a', 'VISli6b', 'VISpor', 'VISpor1', 'VISpor2/3', 'VISpor4', 'VISpor5', 'VISpor6a', 'VISpor6b', 'ACA', 'ACAd', 'ACAd1', 'ACAd2/3', 'ACAd5', 'ACAd6a', 'ACAd6b', 'ACAv', 'ACAv1', 'ACAv2/3', 'ACAv5', 'ACAv6a', 'ACAv6b', 'PL', 'PL1', 'PL2/3', 'PL5', 'PL6a', 'PL6b', 'ILA', 'ILA1', 'ILA2/3', 'ILA5', 'ILA6a', 'ILA6b', 'ORB', 'ORBl', 'ORBl1', 'ORBl2/3', 'ORBl5', 'ORBl6a', 'ORBl6b', 'ORBm', 'ORBm1', 'ORBm2/3', 'ORBm5', 'ORBm6a', 'ORBm6b', 'ORBvl', 'ORBvl1', 'ORBvl2/3', 'ORBvl5', 'ORBvl6a', 'ORBvl6b', 'AI', 'AId', 'AId1', 'AId2/3', 'AId5', 'AId6a', 'AId6b', 'AIp', 'AIp1', 'AIp2/3', 'AIp5', 'AIp6a', 'AIp6b', 'AIv', 'AIv1', 'AIv2/3', 'AIv5', 'AIv6a', 'AIv6b', 'RSP', 'RSPagl', 'RSPagl1', 'RSPagl2/3', 'RSPagl5', 'RSPagl6a', 'RSPagl6b', 'RSPd', 'RSPd1', 'RSPd2/3', 'RSPd4', 'RSPd5', 'RSPd6a', 'RSPd6b', 'RSPv', 'RSPv1', 'RSPv2/3', 'RSPv5', 'RSPv6a', 'RSPv6b', 'PTLp', 'VISa', 'VISa1', 'VISa2/3', 'VISa4', 'VISa5', 'VISa6a', 'VISa6b', 'VISrl', 'VISrl1', 'VISrl2/3', 'VISrl4', 'VISrl5', 'VISrl6a', 'VISrl6b', 'TEa', 'TEa1', 'TEa2/3', 'TEa4', 'TEa5', 'TEa6a', 'TEa6b', 'PERI', 'PERI1', 'PERI2/3', 'PERI5', 'PERI6a', 'PERI6b', 'ECT', 'ECT1', 'ECT2/3', 'ECT5', 'ECT6a', 'ECT6b', 'OLF', 'MOB', 'AOB', 'AOBgl', 'AOBgr', 'AOBmi', 'AON', 'TT', 'TTd', 'TTv', 'DP', 'PIR', 'NLOT', 'NLOT1', 'NLOT2', 'NLOT3', 'COA', 'COAa', 'COAp', 'COApl', 'COApm', 'PAA', 'TR', 'HPF', 'HIP', 'CA', 'CA1', 'CA2', 'CA3', 'DG', 'DG-mo', 'DG-po', 'DG-sg', 'FC', 'IG', 'RHP', 'ENT', 'ENTl', 'ENTl1', 'ENTl2', 'ENTl3', 'ENTl5', 'ENTl6a', 'ENTm', 'ENTm1', 'ENTm2', 'ENTm3', 'ENTm5', 'ENTm6', 'PAR', 'POST', 'PRE', 'SUB', 'ProS', 'HATA', 'APr', 'CTXsp', 'CLA', 'EP', 'EPd', 'EPv', 'LA', 'BLA', 'BLAa', 'BLAp', 'BLAv', 'BMA', 'BMAa', 'BMAp', 'PA', 'CNU', 'STR', 'STRd', 'CP', 'STRv', 'ACB', 'FS', 'OT', 'LSX', 'LS', 'LSc', 'LSr', 'LSv', 'SF', 'SH', 'sAMY', 'AAA', 'BA', 'CEA', 'CEAc', 'CEAl', 'CEAm', 'IA', 'MEA', 'PAL', 'PALd', 'GPe', 'GPi', 'PALv', 'SI', 'MA', 'PALm', 'MSC', 'MS', 'NDB', 'TRS', 'PALc', 'BST', 'BAC', 'BS', 'IB', 'TH', 'DORsm', 'VENT', 'VAL', 'VM', 'VP', 'VPL', 'VPLpc', 'VPM', 'VPMpc', 'PoT', 'SPF', 'SPFm', 'SPFp', 'SPA', 'PP', 'GENd', 'MG', 'MGd', 'MGv', 'MGm', 'LGd', 'LGd-sh', 'LGd-co', 'LGd-ip', 'DORpm', 'LAT', 'LP', 'PO', 'POL', 'SGN', 'Eth', 'ATN', 'AV', 'AM', 'AMd', 'AMv', 'AD', 'IAM', 'IAD', 'LD', 'MED', 'IMD', 'MD', 'SMT', 'PR', 'MTN', 'PVT', 'PT', 'RE', 'Xi', 'ILM', 'RH', 'CM', 'PCN', 'CL', 'PF', 'PIL', 'RT', 'GENv', 'IGL', 'IntG', 'LGv', 'SubG', 'EPI', 'MH', 'LH', 'HY', 'PVZ', 'SO', 'ASO', 'PVH', 'PVa', 'PVi', 'ARH', 'PVR', 'ADP', 'AVP', 'AVPV', 'DMH', 'MEPO', 'MPO', 'OV', 'PD', 'PS', 'PVp', 'PVpo', 'SBPV', 'SCH', 'SFO', 'VMPO', 'VLPO', 'MEZ', 'AHN', 'MBO', 'LM', 'MM', 'MMme', 'MMl', 'MMm', 'MMp', 'MMd', 'SUM', 'TM', 'TMd', 'TMv', 'MPN', 'PMd', 'PMv', 'PVHd', 'VMH', 'PH', 'LZ', 'LHA', 'LPO', 'PST', 'PSTN', 'PeF', 'RCH', 'STN', 'TU', 'ZI', 'FF', 'ME', 'MB', 'MBsen', 'SCs', 'SCop', 'SCsg', 'SCzo', 'IC', 'ICc', 'ICd', 'ICe', 'NB', 'SAG', 'PBG', 'MEV', 'SCO', 'MBmot', 'SNr', 'VTA', 'PN', 'RR', 'MRN', 'SCm', 'SCdg', 'SCdw', 'SCiw', 'SCig', 'PAG', 'PRC', 'INC', 'ND', 'Su3', 'PRT', 'APN', 'MPT', 'NOT', 'NPC', 'OP', 'PPT', 'RPF', 'CUN', 'RN', 'III', 'MA3', 'EW', 'IV', 'Pa4', 'VTN', 'AT', 'LT', 'DT', 'MT', 'MBsta', 'SNc', 'PPN', 'RAmb', 'IF', 'IPN', 'IPR', 'IPC', 'IPA', 'IPL', 'IPI', 'IPDM', 'IPDL', 'IPRL', 'RL', 'CLI', 'DR', 'HB', 'P', 'P-sen', 'NLL', 'PSV', 'PB', 'KF', 'SOC', 'POR', 'SOCm', 'SOCl', 'P-mot', 'B', 'DTN', 'PDTg', 'PCG', 'PG', 'PRNc', 'SG', 'SUT', 'TRN', 'V', 'P5', 'Acs5', 'PC5', 'I5', 'P-sat', 'CS', 'LC', 'LDT', 'NI', 'PRNr', 'RPO', 'SLC', 'SLD', 'MY', 'MY-sen', 'AP', 'CN', 'DCO', 'VCO', 'DCN', 'CU', 'GR', 'ECU', 'NTB', 'NTS', 'SPVC', 'SPVI', 'SPVO', 'Pa5', 'MY-mot', 'VI', 'VII', 'ACVII', 'AMB', 'AMBd', 'AMBv', 'DMX', 'GRN', 'ICB', 'IO', 'IRN', 'ISN', 'LIN', 'LRN', 'LRNm', 'LRNp', 'MARN', 'MDRN', 'MDRNd', 'MDRNv', 'PARN', 'PAS', 'PGRN', 'PGRNd', 'PGRNl', 'PHY', 'NR', 'PRP', 'PPY', 'VNC', 'LAV', 'MV', 'SPIV', 'SUV', 'x', 'XII', 'y', 'MY-sat', 'RM', 'RPA', 'RO', 'CB', 'CBX', 'VERM', 'LING', 'CENT', 'CENT2', 'CENT3', 'CUL', 'CUL4, 5', 'DEC', 'FOTU', 'PYR', 'UVU', 'NOD', 'HEM', 'SIM', 'AN', 'ANcr1', 'ANcr2', 'PRM', 'COPY', 'PFL', 'FL', 'CBN', 'FN', 'IP', 'DN', 'VeCB', 'fiber tracts', 'cm', 'von', 'In', 'onl', 'lotg', 'lot', 'lotd', 'aco', 'IIn', 'bsc', 'csc', 'och', 'opt', 'IIIn', 'mlf', 'pc', 'IVn', 'Vn', 'moV', 'sV', 'sptV', 'VIIn', 'gVIIn', 'VIIIn', 'vVIIIn', 'cVIIIn', 'tb', 'das', 'll', 'cic', 'bic', 'Xn', 'ts', 'drt', 'cett', 'dc', 'cuf', 'ml', 'cbf', 'cbc', 'cbp', 'scp', 'dscp', 'uf', 'sctv', 'mcp', 'icp', 'sctd', 'arb', 'scwm', 'lfbs', 'cc', 'fa', 'ec', 'ee', 'ccg', 'fp', 'ccb', 'ccs', 'cst', 'int', 'cpd', 'py', 'pyd', 'lfbst', 'em', 'or', 'ar', 'eps', 'epsc', 'nst', 'tsp', 'tspd', 'dtd', 'tspc', 'rust', 'vtd', 'mfbs', 'mfbc', 'amc', 'act', 'cing', 'fxs', 'alv', 'df', 'fi', 'fxpo', 'mct', 'fx', 'hc', 'dhc', 'vhc', 'st', 'stc', 'mfsbshy', 'mfb', 'sup', 'mfbsma', 'pm', 'mtt', 'mtg', 'mp', 'mfbse', 'sm', 'fr', 'hbc', 'VS', 'VL', 'SEZ', 'chpl', 'V3', 'AQ', 'V4', 'V4r', 'c']\n"
     ]
    }
   ],
   "source": [
    "print(urchin.ccf25.areas)\n",
    "urchin.ccf25.root.set_visibility(True)"
   ]
  },
  {
   "cell_type": "markdown",
   "id": "1fde0446",
   "metadata": {},
   "source": [
    "Areas have a bit of metadata as well"
   ]
  },
  {
   "cell_type": "code",
   "execution_count": 5,
   "id": "7887909b",
   "metadata": {},
   "outputs": [
    {
     "name": "stdout",
     "output_type": "stream",
     "text": [
      "root\n",
      "root\n",
      "997\n",
      "#FFFFFF\n"
     ]
    }
   ],
   "source": [
    "print(urchin.ccf25.root.name)\n",
    "print(urchin.ccf25.root.acronym)\n",
    "print(urchin.ccf25.root.id)\n",
    "print(urchin.ccf25.root.color)"
   ]
  },
  {
   "cell_type": "markdown",
   "id": "148ebb50",
   "metadata": {},
   "source": [
    "You might not want to load areas with their default color or material, you can set your own color, material, and alpha overrides."
   ]
  },
  {
   "cell_type": "code",
   "execution_count": 6,
   "id": "6125d144-6605-411c-9196-e41a5c67678d",
   "metadata": {},
   "outputs": [],
   "source": [
    "# load a single area\n",
    "urchin.ccf25.root.set_color('#00ff00')\n",
    "urchin.ccf25.root.set_material('transparent-lit')\n",
    "urchin.ccf25.root.set_alpha(0.5)"
   ]
  },
  {
   "cell_type": "markdown",
   "id": "af4709d1",
   "metadata": {},
   "source": [
    "You can also clear the atlas off of the screen. It will remain loaded in the background."
   ]
  },
  {
   "cell_type": "code",
   "execution_count": 7,
   "id": "c469fd10",
   "metadata": {},
   "outputs": [],
   "source": [
    "urchin.ccf25.clear()"
   ]
  },
  {
   "cell_type": "markdown",
   "id": "1957c06f",
   "metadata": {},
   "source": [
    "You can use the `sided` input parameter for any of the area functions to load a single hemisphere."
   ]
  },
  {
   "cell_type": "code",
   "execution_count": 8,
   "id": "6e866709-e8ac-431e-bbb3-5fa21d497d5e",
   "metadata": {},
   "outputs": [],
   "source": [
    "# load just left hemisphere\n",
    "urchin.ccf25.root.set_visibility(True, sided='left')"
   ]
  },
  {
   "cell_type": "code",
   "execution_count": 9,
   "id": "4cb301a1",
   "metadata": {},
   "outputs": [],
   "source": [
    "urchin.ccf25.clear()"
   ]
  },
  {
   "cell_type": "markdown",
   "id": "85e9c7c7",
   "metadata": {},
   "source": [
    "If you have a large set of areas that you need to control, use the `get_areas` function to get access to all of them at once. We include a set of 'plural' functions attached to the Atlas object, which are easier to use with a list of areas."
   ]
  },
  {
   "cell_type": "code",
   "execution_count": 10,
   "id": "8c12f95f",
   "metadata": {},
   "outputs": [],
   "source": [
    "area_list = urchin.ccf25.get_areas([\"MRN\", \"SCs\", \"SCm\", \"APN\", \"RN\"])\n",
    "\n",
    "urchin.ccf25.set_visibilities(area_list, True)"
   ]
  },
  {
   "cell_type": "code",
   "execution_count": 11,
   "id": "7e9ffadf",
   "metadata": {},
   "outputs": [],
   "source": [
    "urchin.ccf25.clear()"
   ]
  },
  {
   "cell_type": "markdown",
   "id": "f45aa0ba",
   "metadata": {},
   "source": [
    "Each Atlas includes a set of \"default\" areas. These are the highest regions in the ontology hierarchy that split the brain into major areas. Loading the defaults can be useful to create a clean visualization of the whole brain where major areas are clearly segmented.\n",
    "\n",
    "Loading the defaults loads the left and right hemispheres separately, this is so that you can easily use the \"explode\" feature to pull brain regions apart. This does mean that if you want to set the materials, colors, etc, you need to use `sided='left'` or `sided='right'` "
   ]
  },
  {
   "cell_type": "code",
   "execution_count": 12,
   "id": "52f00c15",
   "metadata": {},
   "outputs": [],
   "source": [
    "urchin.ccf25.load_defaults()"
   ]
  }
 ],
 "metadata": {
  "kernelspec": {
   "display_name": "iblenv",
   "language": "python",
   "name": "python3"
  },
  "language_info": {
   "codemirror_mode": {
    "name": "ipython",
    "version": 3
   },
   "file_extension": ".py",
   "mimetype": "text/x-python",
   "name": "python",
   "nbconvert_exporter": "python",
   "pygments_lexer": "ipython3",
   "version": "3.9.0"
  },
  "vscode": {
   "interpreter": {
    "hash": "e571d860348ccccbb87c9afaea3b8de5dc8c1513265a6c0fcfe6ac69a4d3ce4b"
   }
  }
 },
 "nbformat": 4,
 "nbformat_minor": 5
}
