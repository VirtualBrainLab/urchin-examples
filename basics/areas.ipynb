{
 "cells": [
  {
   "cell_type": "markdown",
   "id": "7b2d0be6",
   "metadata": {},
   "source": [
    "## Basic Areas Tutorial\n",
    "<a target=\"_blank\" href=\"https://colab.research.google.com/github/VirtualBrainLab/urchin-examples/blob/colab/basics/areas.ipynb\">\n",
    "  <img src=\"https://colab.research.google.com/assets/colab-badge.svg\" alt=\"Open In Colab\"/>\n",
    "</a>"
   ]
  },
  {
   "cell_type": "markdown",
   "id": "96d5538c",
   "metadata": {},
   "source": [
    "## Run the following block if using the notebook for the first time:"
   ]
  },
  {
   "cell_type": "markdown",
   "id": "a2cac8be",
   "metadata": {},
   "source": [
    "Urchin is a python package that needs to properly be installed before use the first time. Once installed within the environment, it only needs to be imported. If running locally, Urchin only needs to be installed once when creating the virtual environment. For more information about Urchin, check out the documentation on the VBL website [here](https://virtualbrainlab.org/urchin/installation_and_use.html)."
   ]
  },
  {
   "cell_type": "code",
   "execution_count": null,
   "id": "b4af6842",
   "metadata": {},
   "outputs": [],
   "source": [
    "#Installing urchin\n",
    "!pip install oursin -U"
   ]
  },
  {
   "cell_type": "markdown",
   "id": "fe006c66",
   "metadata": {},
   "source": [
    "## Set up the Unity Renderer for Neuroscience and open the renderer webpage \n",
    "Ensure that popups are enabled BEFORE running the following code, to allow Urchin to properly open in a new window. You can also visit the renderer site once Urchin is imported at https://data.virtualbrainlab.org/Urchin/?ID=[INSERT ID OUTPUTTED BELOW]"
   ]
  },
  {
   "cell_type": "code",
   "execution_count": null,
   "id": "5741fa52",
   "metadata": {},
   "outputs": [],
   "source": [
    "#Importing necessary libraries:\n",
    "import oursin as urchin\n",
    "urchin.setup()"
   ]
  },
  {
   "cell_type": "markdown",
   "id": "34d79d5b",
   "metadata": {},
   "source": [
    "## Brain areas tutorial below"
   ]
  },
  {
   "cell_type": "markdown",
   "id": "5f53a68f",
   "metadata": {},
   "source": [
    "This is a tutorial for displaying different brain areas, and setting different properties. This is one of the more basic but important features."
   ]
  },
  {
   "cell_type": "markdown",
   "id": "7ae6077e",
   "metadata": {},
   "source": [
    "In the code below, 'grey' is referring to grey matter, or the entire brain. set_visibility makes the area appear, and set_material dictates how it displays. set_material takes lighting and transparency as input variables, and the options are 'opaque-lit', 'opaque-unlit','transparent-lit' and 'transparent-unlit'. The alpha value further adjusts the transparency."
   ]
  },
  {
   "cell_type": "code",
   "execution_count": null,
   "id": "6125d144-6605-411c-9196-e41a5c67678d",
   "metadata": {},
   "outputs": [],
   "source": [
    "# load a single area\n",
    "urchin.ccf.set_visibility({'grey':True})\n",
    "urchin.ccf.set_material({'grey':'transparent-unlit'})\n",
    "urchin.ccf.set_alpha({'grey':0.5})"
   ]
  },
  {
   "cell_type": "markdown",
   "id": "af4709d1",
   "metadata": {},
   "source": [
    "The clearing function clears everything on the screen."
   ]
  },
  {
   "cell_type": "code",
   "execution_count": null,
   "id": "c469fd10",
   "metadata": {},
   "outputs": [],
   "source": [
    "\n",
    "urchin.clear()"
   ]
  },
  {
   "cell_type": "markdown",
   "id": "1957c06f",
   "metadata": {},
   "source": [
    "If you want to load just one hemisphere at a time, append either the -lh (left hand) or -rh (right hand) suffix to the area(s) loaded."
   ]
  },
  {
   "cell_type": "code",
   "execution_count": null,
   "id": "6e866709-e8ac-431e-bbb3-5fa21d497d5e",
   "metadata": {},
   "outputs": [],
   "source": [
    "# load just left hemisphere\n",
    "\n",
    "urchin.ccf.set_visibility({'grey-lh':True})\n",
    "urchin.ccf.set_material({'grey-lh':'transparent-unlit'})\n",
    "urchin.ccf.set_alpha({'grey-lh':0.5})\n",
    "\n",
    "# same pattern for right hemisphere with \"-rh\" suffix"
   ]
  },
  {
   "cell_type": "code",
   "execution_count": null,
   "id": "d493e7c3",
   "metadata": {},
   "outputs": [],
   "source": [
    "\n",
    "urchin.clear()"
   ]
  },
  {
   "cell_type": "markdown",
   "id": "096b8c59",
   "metadata": {},
   "source": [
    "To load the beryl areas, there is a sepearate function to do so."
   ]
  },
  {
   "cell_type": "code",
   "execution_count": null,
   "id": "52f00c15",
   "metadata": {},
   "outputs": [],
   "source": [
    "# load all the beryl areas\n",
    "urchin.ccf.load_beryl()"
   ]
  }
 ],
 "metadata": {
  "kernelspec": {
   "display_name": "iblenv",
   "language": "python",
   "name": "python3"
  },
  "language_info": {
   "codemirror_mode": {
    "name": "ipython",
    "version": 3
   },
   "file_extension": ".py",
   "mimetype": "text/x-python",
   "name": "python",
   "nbconvert_exporter": "python",
   "pygments_lexer": "ipython3",
   "version": "3.9.0"
  },
  "vscode": {
   "interpreter": {
    "hash": "e571d860348ccccbb87c9afaea3b8de5dc8c1513265a6c0fcfe6ac69a4d3ce4b"
   }
  }
 },
 "nbformat": 4,
 "nbformat_minor": 5
}
