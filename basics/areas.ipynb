{
 "cells": [
  {
   "cell_type": "markdown",
   "id": "7b2d0be6",
   "metadata": {},
   "source": [
    "## Basic Areas Tutorial\n",
    "<a target=\"_blank\" href=\"https://colab.research.google.com/github/VirtualBrainLab/urchin-examples/blob/colab/basics/areas.ipynb\">\n",
    "  <img src=\"https://colab.research.google.com/assets/colab-badge.svg\" alt=\"Open In Colab\"/>\n",
    "</a>"
   ]
  },
  {
   "cell_type": "markdown",
   "id": "96d5538c",
   "metadata": {},
   "source": [
    "## Run the following block if using the notebook for the first time:"
   ]
  },
  {
   "cell_type": "code",
   "execution_count": null,
   "id": "b4af6842",
   "metadata": {},
   "outputs": [],
   "source": [
    "#Installing urchin\n",
    "!pip install oursin -U"
   ]
  },
  {
   "cell_type": "markdown",
   "id": "fe006c66",
   "metadata": {},
   "source": [
    "## Set up the Unity Renderer for Neuroscience and open the renderer webpage \n",
    "Ensure that popups are enabled BEFORE running the following code."
   ]
  },
  {
   "cell_type": "code",
   "execution_count": null,
   "id": "5741fa52",
   "metadata": {},
   "outputs": [],
   "source": [
    "#Importing necessary libraries:\n",
    "import json\n",
    "import sys\n",
    "import os\n",
    "import oursin as urchin\n",
    "urchin.setup()"
   ]
  },
  {
   "cell_type": "markdown",
   "id": "34d79d5b",
   "metadata": {},
   "source": [
    "## Brain areas tutorial below"
   ]
  },
  {
   "cell_type": "code",
   "execution_count": null,
   "id": "6125d144-6605-411c-9196-e41a5c67678d",
   "metadata": {},
   "outputs": [],
   "source": [
    "# load a single area\n",
    "urchin.ccf.set_visibility({'grey':True})\n",
    "urchin.ccf.set_material({'grey':'transparent-unlit'})\n",
    "urchin.ccf.set_alpha({'grey':0.5})"
   ]
  },
  {
   "cell_type": "code",
   "execution_count": null,
   "id": "c469fd10",
   "metadata": {},
   "outputs": [],
   "source": [
    "\n",
    "urchin.clear()"
   ]
  },
  {
   "cell_type": "code",
   "execution_count": null,
   "id": "6e866709-e8ac-431e-bbb3-5fa21d497d5e",
   "metadata": {},
   "outputs": [],
   "source": [
    "# load just left hemisphere\n",
    "\n",
    "urchin.ccf.set_visibility({'grey-lh':True})\n",
    "urchin.ccf.set_material({'grey-lh':'transparent-unlit'})\n",
    "urchin.ccf.set_alpha({'grey-lh':0.5})\n",
    "\n",
    "# same pattern for right hemisphere with \"-rh\" suffix"
   ]
  },
  {
   "cell_type": "code",
   "execution_count": null,
   "id": "d493e7c3",
   "metadata": {},
   "outputs": [],
   "source": [
    "\n",
    "urchin.clear()"
   ]
  },
  {
   "cell_type": "code",
   "execution_count": null,
   "id": "52f00c15",
   "metadata": {},
   "outputs": [],
   "source": [
    "# load all the beryl areas\n",
    "\n",
    "\n",
    "urchin.ccf.load_beryl()"
   ]
  }
 ],
 "metadata": {
  "kernelspec": {
   "display_name": "iblenv",
   "language": "python",
   "name": "python3"
  },
  "language_info": {
   "codemirror_mode": {
    "name": "ipython",
    "version": 3
   },
   "file_extension": ".py",
   "mimetype": "text/x-python",
   "name": "python",
   "nbconvert_exporter": "python",
   "pygments_lexer": "ipython3",
   "version": "3.9.0"
  },
  "vscode": {
   "interpreter": {
    "hash": "e571d860348ccccbb87c9afaea3b8de5dc8c1513265a6c0fcfe6ac69a4d3ce4b"
   }
  }
 },
 "nbformat": 4,
 "nbformat_minor": 5
}
