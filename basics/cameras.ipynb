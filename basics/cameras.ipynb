{
 "cells": [
  {
   "cell_type": "markdown",
   "metadata": {},
   "source": [
    "# Controlling Cameras\n",
    "In this example we will walk through how to control the main camera, take screenshots, and demonstrate the multiple camera functionality.\n",
    "\n",
    "[![Open In Colab](https://colab.research.google.com/assets/colab-badge.svg)](https://colab.research.google.com/github/VirtualBrainLab/urchin-examples/blob/main/basics/multi_camera.ipynb)"
   ]
  },
  {
   "cell_type": "markdown",
   "metadata": {},
   "source": [
    "## Install Urchin\n",
    "\n",
    "Urchin is a Python package stored on PyPI, the following code needs to be run the first time you use Urchin in a Python environment. \n",
    "\n",
    "Urchin's full documentation can be found [on our website](https://virtualbrainlab.org/urchin/installation_and_use.html)."
   ]
  },
  {
   "cell_type": "code",
   "execution_count": null,
   "metadata": {},
   "outputs": [],
   "source": [
    "#Installing urchin\n",
    "!pip install oursin -U"
   ]
  },
  {
   "cell_type": "markdown",
   "metadata": {},
   "source": [
    "## Setup Urchin and open the renderer webpage \n",
    "\n",
    "By default Urchin opens the 3D renderer in a webpage. Make sure pop-ups are enabled, or the page won't open properly. You can also open the renderer site yourself by replacing [ID here] with the ID that is output by the call to `.setup()` at https://data.virtualbrainlab.org/Urchin/?ID=[ID here]\n",
    "\n",
    "Note that Urchin communicates to the renderer webpage through an internet connection, we don't currently support offline use (we hope to add support in the future)."
   ]
  },
  {
   "cell_type": "code",
   "execution_count": null,
   "metadata": {},
   "outputs": [],
   "source": [
    "#Importing necessary libraries:\n",
    "import pandas as pd\n",
    "import oursin as urchin\n",
    "urchin.setup()"
   ]
  },
  {
   "cell_type": "markdown",
   "metadata": {},
   "source": [
    "This tutorial uses data from a collected dataset, so the following data needs to be pulled in properly to display."
   ]
  },
  {
   "cell_type": "code",
   "execution_count": null,
   "metadata": {},
   "outputs": [],
   "source": [
    "#Function for easily pulling in data:\n",
    "#url = link to google sheet (on editing mode) as a string\n",
    "def get_data(url):\n",
    "    data = url.replace(\"/edit#gid=\", \"/export?format=csv&gid=\")\n",
    "    df = pd.read_csv(data)\n",
    "    return df"
   ]
  },
  {
   "cell_type": "code",
   "execution_count": null,
   "metadata": {},
   "outputs": [],
   "source": [
    "# To pull in data to a dataframe:\n",
    "data = get_data('https://docs.google.com/spreadsheets/d/1F9NBt-qqcA-IyxowXl82S4NI0gYyczUOEb8MEaW7qm0/edit#gid=1956783922')"
   ]
  },
  {
   "cell_type": "markdown",
   "metadata": {},
   "source": [
    "## Displaying overall brain + corresponding brain regions\n",
    "The following blocks enables the proper brain view, to give the camera a subject of focus. See the brain areas tutorial for more information."
   ]
  },
  {
   "cell_type": "code",
   "execution_count": null,
   "metadata": {},
   "outputs": [],
   "source": [
    "#Generating overall brain image:\n",
    "urchin.ccf.set_visibility({'grey':True})\n",
    "urchin.ccf.set_material({'grey':'transparent-unlit'})\n",
    "urchin.ccf.set_alpha({'grey':0.1})"
   ]
  },
  {
   "cell_type": "code",
   "execution_count": null,
   "metadata": {},
   "outputs": [],
   "source": [
    "#Establishing the brain regions we'll be using specifically\n",
    "brain_areas = [\"MRN\", \"SCs\", \"SCm\", \"APN\", \"RN\"]\n",
    "#Generating brain area images:\n",
    "for area in brain_areas:\n",
    "    urchin.ccf.set_visibility({area:True})\n",
    "    urchin.ccf.set_material({area:'transparent-unlit'})\n",
    "    urchin.ccf.set_alpha({area:0.2})"
   ]
  },
  {
   "cell_type": "markdown",
   "metadata": {},
   "source": [
    "## Displaying neuron data in default display\n",
    "Displaying neurons from the dataset. See the neurons and probes tutorial for more information."
   ]
  },
  {
   "cell_type": "code",
   "execution_count": null,
   "metadata": {},
   "outputs": [],
   "source": [
    "#Creating neurons\n",
    "num_neurons = len(data)\n",
    "neurons = urchin.neurons.create(num_neurons)\n",
    "\n",
    "#Setting neuron colors\n",
    "urchin.neurons.set_colors(neurons,list(data.loc[:,\"color\"]))\n",
    "\n",
    "#Setting neuron positions\n",
    "#putting in proper formating:\n",
    "neuron_positions = []\n",
    "for neuron in range(len(data)):\n",
    "    neuron_pos = [data.loc[neuron, \"x\"], data.loc[neuron, \"y\"], data.loc[neuron, \"z\"]]\n",
    "    neuron_positions.append(neuron_pos)\n",
    "#Setting position:\n",
    "urchin.neurons.set_positions(neurons, neuron_positions)"
   ]
  },
  {
   "cell_type": "markdown",
   "metadata": {},
   "source": [
    "## Displaying additional views\n",
    "The 'main' camera is the built in camera within urchin. It can be accessed directly via urchin.camera.main, but it is easier to store it as a python variable when handling multiple cameras at once."
   ]
  },
  {
   "cell_type": "code",
   "execution_count": null,
   "metadata": {},
   "outputs": [],
   "source": [
    "#Grabbing main camera as a python variable\n",
    "main = urchin.camera.main"
   ]
  },
  {
   "cell_type": "markdown",
   "metadata": {},
   "source": [
    "The following code instantiates a camera object within Urchin, and the names are stored as python variables to easily change their settings later."
   ]
  },
  {
   "cell_type": "code",
   "execution_count": null,
   "metadata": {},
   "outputs": [],
   "source": [
    "#Creating cameras c1, c2 and c3\n",
    "c1 = urchin.camera.Camera()\n",
    "c2 = urchin.camera.Camera()\n",
    "c3 = urchin.camera.Camera()"
   ]
  },
  {
   "cell_type": "code",
   "execution_count": null,
   "metadata": {},
   "outputs": [],
   "source": [
    "#Deleting camera c2\n",
    "c2.delete()"
   ]
  },
  {
   "cell_type": "markdown",
   "metadata": {},
   "source": [
    "### Changing rotation of cameras\n",
    "The cameras are fixed around a central point, so changing the rotation changes the view of the camera.\n",
    "Rotation coordinates are in format [pitch, yaw, spin] (As of v 0.4.7, the pitch and yaw are flipped on the rotation display in the corner)."
   ]
  },
  {
   "cell_type": "code",
   "execution_count": null,
   "metadata": {},
   "outputs": [],
   "source": [
    "c1.set_rotation([90,0,0])"
   ]
  },
  {
   "cell_type": "code",
   "execution_count": null,
   "metadata": {},
   "outputs": [],
   "source": [
    "c3.set_rotation([90,-90,0])"
   ]
  },
  {
   "cell_type": "markdown",
   "metadata": {},
   "source": [
    "### Changing zoom or pan\n",
    "\n",
    "Zoom is passed in as a float, pan coordinates are in format (x coordinate, y coordinate)."
   ]
  },
  {
   "cell_type": "code",
   "execution_count": null,
   "metadata": {},
   "outputs": [],
   "source": [
    "c1.set_zoom(2.5)"
   ]
  },
  {
   "cell_type": "code",
   "execution_count": null,
   "metadata": {},
   "outputs": [],
   "source": [
    "c3.set_pan(3, 0)"
   ]
  },
  {
   "cell_type": "code",
   "execution_count": null,
   "metadata": {},
   "outputs": [],
   "source": [
    "c3.set_zoom(3)"
   ]
  },
  {
   "cell_type": "markdown",
   "metadata": {},
   "source": [
    "### Targetting specific areas\n",
    "This focuses the camera on one specific area, and can be done by either using target brain regions or target coordinates.\n",
    "\n",
    "Highlighted brain areas: \"MRN\", \"SCs\", \"SCm\", \"APN\", \"RN\""
   ]
  },
  {
   "cell_type": "code",
   "execution_count": null,
   "metadata": {},
   "outputs": [],
   "source": [
    "#highlighted brain areas currently don't work"
   ]
  },
  {
   "cell_type": "code",
   "execution_count": null,
   "metadata": {},
   "outputs": [],
   "source": [
    "c1.set_target_area(\"grey-lh\")"
   ]
  },
  {
   "cell_type": "code",
   "execution_count": null,
   "metadata": {},
   "outputs": [],
   "source": [
    "c3.set_target_coordinate([3850, 8700.0, 3200])"
   ]
  },
  {
   "cell_type": "markdown",
   "metadata": {},
   "source": [
    "## Changing Camera settings"
   ]
  },
  {
   "cell_type": "markdown",
   "metadata": {},
   "source": [
    "### Changing which camera is mouse controllable\n",
    "To control the secondary cameras with the mouse by clicking and dragging, you can call `Camera.set_controllable()`."
   ]
  },
  {
   "cell_type": "code",
   "execution_count": null,
   "metadata": {},
   "outputs": [],
   "source": [
    "c1.set_controllable()"
   ]
  },
  {
   "cell_type": "code",
   "execution_count": null,
   "metadata": {},
   "outputs": [],
   "source": [
    "main.set_controllable()"
   ]
  },
  {
   "cell_type": "markdown",
   "metadata": {},
   "source": [
    "### Changing camera mode\n",
    "There are two different camera modes used within Urchin: perspective, and orthographic. Use the `camera.set_mode()` function to change between the two modes."
   ]
  },
  {
   "cell_type": "code",
   "execution_count": null,
   "metadata": {},
   "outputs": [],
   "source": [
    "c1.set_mode('perspective')"
   ]
  },
  {
   "cell_type": "code",
   "execution_count": null,
   "metadata": {},
   "outputs": [],
   "source": [
    "c1.set_mode('orthographic')"
   ]
  },
  {
   "cell_type": "markdown",
   "metadata": {},
   "source": [
    "## Taking screenshots\n",
    "You can take screenshots from any camera, and have them saved locally. Be sure to select the proper camera, and name the screenshot something memorable."
   ]
  },
  {
   "cell_type": "code",
   "execution_count": null,
   "metadata": {},
   "outputs": [],
   "source": [
    "c1.screenshot('./c1_screenshot.png')"
   ]
  },
  {
   "cell_type": "markdown",
   "metadata": {},
   "source": [
    "To download files from the Colab UI, click the file icon on the left bar. Double click to view, right click to download."
   ]
  }
 ],
 "metadata": {
  "kernelspec": {
   "display_name": "Python 3",
   "language": "python",
   "name": "python3"
  },
  "language_info": {
   "codemirror_mode": {
    "name": "ipython",
    "version": 3
   },
   "file_extension": ".py",
   "mimetype": "text/x-python",
   "name": "python",
   "nbconvert_exporter": "python",
   "pygments_lexer": "ipython3",
   "version": "3.9.7"
  },
  "orig_nbformat": 4
 },
 "nbformat": 4,
 "nbformat_minor": 2
}
