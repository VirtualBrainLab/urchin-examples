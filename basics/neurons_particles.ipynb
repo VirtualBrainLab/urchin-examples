{
 "cells": [
  {
   "cell_type": "markdown",
   "id": "d22a9306",
   "metadata": {},
   "source": [
    "## Neurons (using particle system)\n",
    "\n",
    "This tutorial can be used to generate huge numbers of neurons, up to millions, with relatively little impact on the renderer's performance.\n",
    "\n",
    "<a target=\"_blank\" href=\"https://colab.research.google.com/github/VirtualBrainLab/urchin-examples/blob/main/basics/neurons_probes.ipynb\">\n",
    "  <img src=\"https://colab.research.google.com/assets/colab-badge.svg\" alt=\"Open In Colab\"/>\n",
    "</a>"
   ]
  },
  {
   "cell_type": "markdown",
   "id": "ac0754d0",
   "metadata": {},
   "source": [
    "## Run the following block if using the notebook for the first time:\n",
    "Urchin is a python package that needs to properly be installed before use the first time. Once installed within the environment, it only needs to be imported. If running locally, Urchin only needs to be installed once when creating the virtual environment. For more information about Urchin, check out the documentation on the VBL website [here](https://virtualbrainlab.org/urchin/installation_and_use.html)."
   ]
  },
  {
   "cell_type": "code",
   "execution_count": null,
   "id": "8f04ec05",
   "metadata": {},
   "outputs": [],
   "source": [
    "#Installing urchin\n",
    "!pip install oursin -U"
   ]
  },
  {
   "cell_type": "markdown",
   "id": "d359d23b",
   "metadata": {},
   "source": [
    "## Setup Urchin and open the renderer webpage \n",
    "\n",
    "By default Urchin opens the 3D renderer in a webpage. Make sure pop-ups are enabled, or the page won't open properly. You can also open the renderer site yourself by replacing [ID here] with the ID that is output by the call to `.setup()` at https://data.virtualbrainlab.org/Urchin/?ID=[ID here]\n",
    "\n",
    "Note that Urchin communicates to the renderer webpage through an internet connection, we don't currently support offline use (we hope to add support in the future)."
   ]
  },
  {
   "cell_type": "code",
   "execution_count": null,
   "id": "b384b2b7",
   "metadata": {},
   "outputs": [],
   "source": [
    "#Importing necessary libraries:\n",
    "import oursin as urchin\n",
    "urchin.setup()\n"
   ]
  },
  {
   "cell_type": "markdown",
   "id": "a9aa7c40",
   "metadata": {},
   "source": [
    "## Neurons tutorial below"
   ]
  },
  {
   "cell_type": "markdown",
   "id": "228920dc",
   "metadata": {},
   "source": [
    "To create a group of neurons, call the `urchin.neurons.create(n)` function, passing the number of neurons n as a parameter. The create function returns a list of neuron objects, which can then be passed to plural functions to set the position, color, size (etc) of all the neurons at once."
   ]
  },
  {
   "cell_type": "code",
   "execution_count": null,
   "id": "7809c685",
   "metadata": {},
   "outputs": [],
   "source": [
    "#Creating 3 neurons\n",
    "neurons_list = urchin.neurons.create(3)"
   ]
  },
  {
   "cell_type": "markdown",
   "id": "541591a7",
   "metadata": {},
   "source": [
    "Urchin can take in color input in different formats, including hex codes, RGB floats, and RGB ints. Urchin uses hex colors represented as strings by default, but you can also pass colors as lists or tuples. The followig examples are all equivalent:\n",
    "`neurons[i].set_color((0,255,0))`\n",
    "`neurons[i].set_color([0,255,0])`\n",
    "`neurons[i].set_color((0,1.0,0))`\n",
    "`neurons[i].set_color(\"00FF00\")`\n",
    "\n",
    "\n",
    "To use the plural `urchin.neurons.set_colors()` function, pass in the neurons list, followed by the new color for each neuron. This is the format used for all plural function calls.\n"
   ]
  },
  {
   "cell_type": "code",
   "execution_count": null,
   "id": "38522859",
   "metadata": {},
   "outputs": [],
   "source": [
    "urchin.neurons.set_colors(neurons_list, ['#FFFFFF','#000000','#FF0000']) #setting colors for each neuron, first one is white, second one is black, third one is red"
   ]
  },
  {
   "cell_type": "code",
   "execution_count": null,
   "id": "fc9c8a1f",
   "metadata": {},
   "outputs": [],
   "source": [
    "urchin.neurons.set_sizes(neurons_list, [5.0,4.0,3.0]) #setting sizes for each neuron, first one is 5.0, second one is 4.0, third one is 3.0"
   ]
  },
  {
   "cell_type": "markdown",
   "id": "c361d471",
   "metadata": {},
   "source": [
    "The singular functions below can apply to singular neuron obhects, or individual neurons within a list, by accessing them via index. \n",
    "ex: `neurons_list[0].set_size(3.0)`"
   ]
  },
  {
   "cell_type": "code",
   "execution_count": null,
   "id": "4b9319a2",
   "metadata": {},
   "outputs": [],
   "source": [
    "n1 = urchin.neurons.Neuron() #creating a new neuron n1"
   ]
  },
  {
   "cell_type": "code",
   "execution_count": null,
   "id": "d571be50",
   "metadata": {},
   "outputs": [],
   "source": [
    "n1.set_position([1000,5000,5000]) #setting position of n1"
   ]
  },
  {
   "cell_type": "code",
   "execution_count": null,
   "id": "43300b34",
   "metadata": {},
   "outputs": [],
   "source": [
    "n1.set_color('#00FF00') #setting color of n1"
   ]
  },
  {
   "cell_type": "code",
   "execution_count": null,
   "id": "ea58ff9c",
   "metadata": {},
   "outputs": [],
   "source": [
    "n1.set_size(4.0) #setting size of n1"
   ]
  },
  {
   "cell_type": "code",
   "execution_count": null,
   "id": "8b76553c",
   "metadata": {},
   "outputs": [],
   "source": [
    "n1.delete() #deleting n1"
   ]
  }
 ],
 "metadata": {
  "kernelspec": {
   "display_name": "iblenv",
   "language": "python",
   "name": "python3"
  },
  "language_info": {
   "codemirror_mode": {
    "name": "ipython",
    "version": 3
   },
   "file_extension": ".py",
   "mimetype": "text/x-python",
   "name": "python",
   "nbconvert_exporter": "python",
   "pygments_lexer": "ipython3",
   "version": "3.9.0"
  },
  "vscode": {
   "interpreter": {
    "hash": "e571d860348ccccbb87c9afaea3b8de5dc8c1513265a6c0fcfe6ac69a4d3ce4b"
   }
  }
 },
 "nbformat": 4,
 "nbformat_minor": 5
}
