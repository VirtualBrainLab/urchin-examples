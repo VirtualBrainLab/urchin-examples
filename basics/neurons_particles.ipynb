{
 "cells": [
  {
   "cell_type": "markdown",
   "id": "d22a9306",
   "metadata": {},
   "source": [
    "# Neurons (using particle system)\n",
    "\n",
    "This tutorial demonstrates how to generate huge numbers of neurons, up to millions, with relatively little impact on the renderer's performance.\n",
    "\n",
    "[![Open In Colab](https://colab.research.google.com/assets/colab-badge.svg)](https://colab.research.google.com/github/VirtualBrainLab/urchin-examples/blob/main/basics/neurons_particles.ipynb)"
   ]
  },
  {
   "cell_type": "markdown",
   "id": "ac0754d0",
   "metadata": {},
   "source": [
    "## Install Urchin\n",
    "\n",
    "Urchin is a Python package stored on PyPI, the following code needs to be run the first time you use Urchin in a Python environment. \n",
    "\n",
    "Urchin's full documentation can be found [on our website](https://virtualbrainlab.org/urchin/installation_and_use.html)."
   ]
  },
  {
   "cell_type": "code",
   "execution_count": null,
   "id": "8f04ec05",
   "metadata": {},
   "outputs": [],
   "source": [
    "#Installing urchin\n",
    "!pip install oursin -U"
   ]
  },
  {
   "cell_type": "markdown",
   "id": "d359d23b",
   "metadata": {},
   "source": [
    "## Setup Urchin and open the renderer webpage \n",
    "\n",
    "By default Urchin opens the 3D renderer in a webpage. Make sure pop-ups are enabled, or the page won't open properly. You can also open the renderer site yourself by replacing [ID here] with the ID that is output by the call to `.setup()` at https://data.virtualbrainlab.org/Urchin/?ID=[ID here]\n",
    "\n",
    "Note that Urchin communicates to the renderer webpage through an internet connection, we don't currently support offline use (we hope to add support in the future)."
   ]
  },
  {
   "cell_type": "code",
   "execution_count": 1,
   "id": "b384b2b7",
   "metadata": {},
   "outputs": [
    {
     "name": "stdout",
     "output_type": "stream",
     "text": [
      "(URN) connected to server\n",
      "Login sent with ID: b2ecd465, copy this ID into the renderer to connect.\n"
     ]
    }
   ],
   "source": [
    "#Importing necessary libraries:\n",
    "import oursin as urchin\n",
    "urchin.setup(localhost=True)\n",
    "\n",
    "import requests\n",
    "import pandas as pd\n",
    "import io"
   ]
  },
  {
   "cell_type": "markdown",
   "id": "a9aa7c40",
   "metadata": {},
   "source": [
    "## Load Allen Institute dataset\n",
    "\n",
    "For this tutorial, we'll be using the Allen Institute's [Visual Behavior Neuropixels](https://portal.brain-map.org/explore/circuits/visual-behavior-neuropixels) dataset. This data was recorded with six probes at a time from cortical targets in visual cortex as well as a few subcortical regions. Let's start by just loading the neuron positions, as well as their raw firing rates.\n",
    "\n",
    "We've preprocessed the data for you and saved it into a convenient CSV file."
   ]
  },
  {
   "cell_type": "code",
   "execution_count": 2,
   "id": "abdafbe2",
   "metadata": {},
   "outputs": [],
   "source": [
    "file_id = '1ocRd8yXIyYWEpfcTYpLS_TA7-w4ikN8i'\n",
    "download_link = f\"https://drive.google.com/uc?id={file_id}\"\n",
    "response = requests.get(download_link)\n",
    "\n",
    "df = pd.read_csv(io.StringIO(response.text))"
   ]
  },
  {
   "cell_type": "code",
   "execution_count": 3,
   "id": "8576cb09",
   "metadata": {},
   "outputs": [
    {
     "data": {
      "text/html": [
       "<div>\n",
       "<style scoped>\n",
       "    .dataframe tbody tr th:only-of-type {\n",
       "        vertical-align: middle;\n",
       "    }\n",
       "\n",
       "    .dataframe tbody tr th {\n",
       "        vertical-align: top;\n",
       "    }\n",
       "\n",
       "    .dataframe thead th {\n",
       "        text-align: right;\n",
       "    }\n",
       "</style>\n",
       "<table border=\"1\" class=\"dataframe\">\n",
       "  <thead>\n",
       "    <tr style=\"text-align: right;\">\n",
       "      <th></th>\n",
       "      <th>Unnamed: 0</th>\n",
       "      <th>unit_id</th>\n",
       "      <th>left_right_ccf_coordinate</th>\n",
       "      <th>anterior_posterior_ccf_coordinate</th>\n",
       "      <th>dorsal_ventral_ccf_coordinate</th>\n",
       "      <th>firing_rate</th>\n",
       "      <th>percentile_rank</th>\n",
       "      <th>color</th>\n",
       "      <th>size_scale</th>\n",
       "    </tr>\n",
       "  </thead>\n",
       "  <tbody>\n",
       "    <tr>\n",
       "      <th>0</th>\n",
       "      <td>0</td>\n",
       "      <td>1157005856</td>\n",
       "      <td>6719.0</td>\n",
       "      <td>8453.0</td>\n",
       "      <td>3353.0</td>\n",
       "      <td>0.931674</td>\n",
       "      <td>0.262039</td>\n",
       "      <td>#cbbadc</td>\n",
       "      <td>0.046550</td>\n",
       "    </tr>\n",
       "    <tr>\n",
       "      <th>1</th>\n",
       "      <td>100</td>\n",
       "      <td>1157006690</td>\n",
       "      <td>6908.0</td>\n",
       "      <td>8282.0</td>\n",
       "      <td>2698.0</td>\n",
       "      <td>0.011346</td>\n",
       "      <td>0.029358</td>\n",
       "      <td>#f7f4fa</td>\n",
       "      <td>0.036577</td>\n",
       "    </tr>\n",
       "    <tr>\n",
       "      <th>2</th>\n",
       "      <td>200</td>\n",
       "      <td>1157006586</td>\n",
       "      <td>7494.0</td>\n",
       "      <td>7809.0</td>\n",
       "      <td>760.0</td>\n",
       "      <td>1.839420</td>\n",
       "      <td>0.367358</td>\n",
       "      <td>#b79fce</td>\n",
       "      <td>0.051917</td>\n",
       "    </tr>\n",
       "    <tr>\n",
       "      <th>3</th>\n",
       "      <td>300</td>\n",
       "      <td>1157006867</td>\n",
       "      <td>7481.0</td>\n",
       "      <td>7820.0</td>\n",
       "      <td>807.0</td>\n",
       "      <td>0.055077</td>\n",
       "      <td>0.081577</td>\n",
       "      <td>#ede7f3</td>\n",
       "      <td>0.038611</td>\n",
       "    </tr>\n",
       "    <tr>\n",
       "      <th>4</th>\n",
       "      <td>400</td>\n",
       "      <td>1157005865</td>\n",
       "      <td>6730.0</td>\n",
       "      <td>8443.0</td>\n",
       "      <td>3314.0</td>\n",
       "      <td>1.113203</td>\n",
       "      <td>0.283822</td>\n",
       "      <td>#c7b4d9</td>\n",
       "      <td>0.047613</td>\n",
       "    </tr>\n",
       "  </tbody>\n",
       "</table>\n",
       "</div>"
      ],
      "text/plain": [
       "   Unnamed: 0     unit_id  left_right_ccf_coordinate  \\\n",
       "0           0  1157005856                     6719.0   \n",
       "1         100  1157006690                     6908.0   \n",
       "2         200  1157006586                     7494.0   \n",
       "3         300  1157006867                     7481.0   \n",
       "4         400  1157005865                     6730.0   \n",
       "\n",
       "   anterior_posterior_ccf_coordinate  dorsal_ventral_ccf_coordinate  \\\n",
       "0                             8453.0                         3353.0   \n",
       "1                             8282.0                         2698.0   \n",
       "2                             7809.0                          760.0   \n",
       "3                             7820.0                          807.0   \n",
       "4                             8443.0                         3314.0   \n",
       "\n",
       "   firing_rate  percentile_rank    color  size_scale  \n",
       "0     0.931674         0.262039  #cbbadc    0.046550  \n",
       "1     0.011346         0.029358  #f7f4fa    0.036577  \n",
       "2     1.839420         0.367358  #b79fce    0.051917  \n",
       "3     0.055077         0.081577  #ede7f3    0.038611  \n",
       "4     1.113203         0.283822  #c7b4d9    0.047613  "
      ]
     },
     "execution_count": 3,
     "metadata": {},
     "output_type": "execute_result"
    }
   ],
   "source": [
    "df.head()"
   ]
  },
  {
   "cell_type": "markdown",
   "id": "8a9821b9",
   "metadata": {},
   "source": [
    "Before doing anything with the neurons, let's just the load the root area for the CCF."
   ]
  },
  {
   "cell_type": "code",
   "execution_count": 4,
   "id": "5690422a",
   "metadata": {},
   "outputs": [],
   "source": [
    "urchin.ccf25.load()"
   ]
  },
  {
   "cell_type": "code",
   "execution_count": 5,
   "id": "f20cde11",
   "metadata": {},
   "outputs": [],
   "source": [
    "urchin.ccf25.root.set_visibility(True)\n",
    "urchin.ccf25.root.set_material('transparent-lit')\n",
    "urchin.ccf25.root.set_alpha(0.15)"
   ]
  },
  {
   "cell_type": "markdown",
   "id": "73742638",
   "metadata": {},
   "source": [
    "Cool. Let's create a group of neuron objects in Urchin. To create a group of neurons, call the `urchin.neurons.create(n)` function, passing the number of neurons n as a parameter. The create function returns a list of neuron objects, which can then be passed to plural functions to set the position, color, size (etc) of all the neurons at once."
   ]
  },
  {
   "cell_type": "code",
   "execution_count": 6,
   "id": "da42fcd2",
   "metadata": {},
   "outputs": [],
   "source": [
    "neurons = urchin.particles.create(len(df))"
   ]
  },
  {
   "cell_type": "markdown",
   "id": "fb8d0839",
   "metadata": {},
   "source": [
    "Now let's go through the dataframe, and set the positions of the neurons. When you're setting the positions of a large number of neurons like this, it's best practice to the use the \"plural\" functions. If you were to call `Neuron.set_position()` for each neuron in the list you would generate an unnecessary amount of communication overhead!\n",
    "\n",
    "To use the plural `urchin.neurons.set_positions()` function, pass in the neurons list, followed by the new position for each neuron."
   ]
  },
  {
   "cell_type": "code",
   "execution_count": 7,
   "id": "d14b1280",
   "metadata": {},
   "outputs": [],
   "source": [
    "positions_list = []\n",
    "\n",
    "for i, row in df.iterrows():\n",
    "    # Note that Urchin internally uses mm, so we divide by 1000 here to get our units right\n",
    "    ap = row['anterior_posterior_ccf_coordinate']/1000\n",
    "    ml = row['left_right_ccf_coordinate']/1000\n",
    "    dv = row['dorsal_ventral_ccf_coordinate']/1000\n",
    "    positions_list.append([ap, ml, dv])\n",
    "\n",
    "urchin.particles.set_positions(neurons, positions_list)"
   ]
  },
  {
   "cell_type": "code",
   "execution_count": 10,
   "id": "7f15dfbb",
   "metadata": {},
   "outputs": [
    {
     "name": "stdout",
     "output_type": "stream",
     "text": [
      "(Camera receive) Camera CameraMain received an image\n",
      "(Camera receive) CameraMain complete\n"
     ]
    },
    {
     "data": {
      "image/jpeg": "[encoded data removed]",
      "image/png": "[encoded data removed]",
      "text/plain": [
       "<PIL.PngImagePlugin.PngImageFile image mode=RGB size=600x400>"
      ]
     },
     "execution_count": 10,
     "metadata": {},
     "output_type": "execute_result"
    }
   ],
   "source": [
    "urchin.camera.main.set_zoom(8)\n",
    "await urchin.camera.main.screenshot(size=[600,400])"
   ]
  },
  {
   "cell_type": "markdown",
   "id": "d919d5a5",
   "metadata": {},
   "source": [
    "Cool! That looks promising. Maybe we should add all the brain regions that the probes are going through, just to make things look good? Check out the Areas tutorial for more details on this code."
   ]
  },
  {
   "cell_type": "code",
   "execution_count": 20,
   "id": "a4d9b591",
   "metadata": {},
   "outputs": [
    {
     "name": "stdout",
     "output_type": "stream",
     "text": [
      "{\"acronym\": [\"VISp\", \"VISl\", \"VISal\", \"VISpm\", \"VISam\", \"VISrl\", \"LGd\", \"LP\", \"CA1\", \"CA3\", \"DG\"], \"side\": [0, 0, 0, 0, 0, 0, 0, 0, 0, 0, 0], \"visible\": [true, true, true, true, true, true, true, true, true, true, true]}\n"
     ]
    }
   ],
   "source": [
    "brain_areas = [\"VISp\", \"VISl\", \"VISal\", \"VISpm\", \"VISam\", \"VISrl\", \"LGd\", \"LP\", \"CA1\", \"CA3\", \"DG\"]\n",
    "\n",
    "area_list = urchin.ccf25.get_areas(brain_areas)\n",
    "\n",
    "urchin.ccf25.set_visibilities(area_list, True)\n",
    "urchin.ccf25.set_materials(area_list, 'transparent-lit')\n",
    "urchin.ccf25.set_alphas(area_list, 0.05)"
   ]
  },
  {
   "cell_type": "markdown",
   "id": "541591a7",
   "metadata": {},
   "source": [
    "Urchin can take in color input in different formats, including hex codes, RGB floats, and RGB ints. Urchin uses hex colors represented as strings by default, but you can also pass colors as lists or tuples. The followig examples are all equivalent:\n",
    "\n",
    "`neurons[i].set_color((0,255,0))`\n",
    "\n",
    "`neurons[i].set_color([0,255,0])`\n",
    "\n",
    "`neurons[i].set_color((0,1.0,0))`\n",
    "\n",
    "`neurons[i].set_color(\"00FF00\")`\n",
    "\n",
    "Let's set the color of all the neurons according to their firing rates. We've pre-computed the colors in the CSV file for convenience."
   ]
  },
  {
   "cell_type": "code",
   "execution_count": 18,
   "id": "2c987c18",
   "metadata": {},
   "outputs": [],
   "source": [
    "colors_list = []\n",
    "\n",
    "for i, row in df.iterrows():\n",
    "    colors_list.append(row['color'])\n",
    "\n",
    "urchin.particles.set_colors(neurons, colors_list)"
   ]
  },
  {
   "cell_type": "markdown",
   "id": "ef800eee",
   "metadata": {},
   "source": [
    "We can also set the scale of neurons in a similar way"
   ]
  },
  {
   "cell_type": "code",
   "execution_count": 19,
   "id": "7521a6b0",
   "metadata": {},
   "outputs": [],
   "source": [
    "sizes_list = []\n",
    "\n",
    "for i, row in df.iterrows():\n",
    "    sizes_list.append(row['size_scale'])\n",
    "\n",
    "urchin.particles.set_sizes(neurons, sizes_list)"
   ]
  },
  {
   "cell_type": "markdown",
   "id": "6f16c605",
   "metadata": {},
   "source": [
    "Now the neurons are scaled and colored by their average firing rate in the dataset, which is a pretty intuitive way of representing the data!"
   ]
  },
  {
   "cell_type": "markdown",
   "id": "c361d471",
   "metadata": {},
   "source": [
    "Note that the \"plural\" functions you used each have a \"singular\" version as well, that can be called directly from the `Neuron` objects, for example by doing: `neurons[0].set_size(3.0)`"
   ]
  }
 ],
 "metadata": {
  "kernelspec": {
   "display_name": "iblenv",
   "language": "python",
   "name": "python3"
  },
  "language_info": {
   "codemirror_mode": {
    "name": "ipython",
    "version": 3
   },
   "file_extension": ".py",
   "mimetype": "text/x-python",
   "name": "python",
   "nbconvert_exporter": "python",
   "pygments_lexer": "ipython3",
   "version": "3.9.0"
  },
  "vscode": {
   "interpreter": {
    "hash": "e571d860348ccccbb87c9afaea3b8de5dc8c1513265a6c0fcfe6ac69a4d3ce4b"
   }
  }
 },
 "nbformat": 4,
 "nbformat_minor": 5
}
