{
 "cells": [
  {
   "cell_type": "markdown",
   "id": "d22a9306",
   "metadata": {},
   "source": [
    "## Neurons (using particle system)\n",
    "\n",
    "This tutorial can be used to generate huge numbers of neurons, up to millions, with relatively little impact on the renderer's performance.\n",
    "\n",
    "<a target=\"_blank\" href=\"https://colab.research.google.com/github/VirtualBrainLab/urchin-examples/blob/colab/basics/neurons_probes.ipynb\">\n",
    "  <img src=\"https://colab.research.google.com/assets/colab-badge.svg\" alt=\"Open In Colab\"/>\n",
    "</a>"
   ]
  },
  {
   "cell_type": "markdown",
   "id": "ac0754d0",
   "metadata": {},
   "source": [
    "## Run the following block if using the notebook for the first time:\n",
    "Urchin is a python package that needs to properly be installed before use the first time. Once installed within the environment, it only needs to be imported. If running locally, Urchin only needs to be installed once when creating the virtual environment. For more information about Urchin, check out the documentation on the VBL website [here](https://virtualbrainlab.org/urchin/installation_and_use.html)."
   ]
  },
  {
   "cell_type": "code",
   "execution_count": null,
   "id": "8f04ec05",
   "metadata": {},
   "outputs": [],
   "source": [
    "#Installing urchin\n",
    "!pip install oursin -U"
   ]
  },
  {
   "cell_type": "markdown",
   "id": "d359d23b",
   "metadata": {},
   "source": [
    "## Set up the Unity Renderer for Neuroscience and open the renderer webpage \n",
    "Ensure that popups are enabled BEFORE running the following code, to allow Urchin to properly open in a new window. You can also visit the renderer site once Urchin is imported at https://data.virtualbrainlab.org/Urchin/?ID=[INSERT ID OUTPUTTED BELOW]"
   ]
  },
  {
   "cell_type": "code",
   "execution_count": null,
   "id": "b384b2b7",
   "metadata": {},
   "outputs": [],
   "source": [
    "#Importing necessary libraries:\n",
    "import oursin as urchin\n",
    "urchin.setup()\n"
   ]
  },
  {
   "cell_type": "markdown",
   "id": "a9aa7c40",
   "metadata": {},
   "source": [
    "## Neurons tutorial below"
   ]
  },
  {
   "cell_type": "markdown",
   "id": "228920dc",
   "metadata": {},
   "source": [
    "Neurons can be both created and manipulated either singularly or in plural form. The tutorial below displays both. The plural functions take in the list of neurons as the first parameter, followed by a list of the setting changed."
   ]
  },
  {
   "cell_type": "code",
   "execution_count": null,
   "id": "7809c685",
   "metadata": {},
   "outputs": [],
   "source": [
    "#Creating 3 neurons\n",
    "neurons_list = urchin.neurons.create(3)"
   ]
  },
  {
   "cell_type": "code",
   "execution_count": null,
   "id": "38522859",
   "metadata": {},
   "outputs": [],
   "source": [
    "urchin.neurons.set_colors(neurons_list, ['#FFFFFF','#000000','#FF0000'])"
   ]
  },
  {
   "cell_type": "code",
   "execution_count": null,
   "id": "fc9c8a1f",
   "metadata": {},
   "outputs": [],
   "source": [
    "urchin.neurons.set_sizes(neurons_list, [5.0,4.0,3.0])"
   ]
  },
  {
   "cell_type": "markdown",
   "id": "c361d471",
   "metadata": {},
   "source": [
    "The singular functions below can also apply to neurons created within a list, by accessing them via index. \n",
    "ex: neurons_list[0].set_size(3.0)"
   ]
  },
  {
   "cell_type": "code",
   "execution_count": null,
   "id": "4b9319a2",
   "metadata": {},
   "outputs": [],
   "source": [
    "n1 = urchin.neurons.Neuron()"
   ]
  },
  {
   "cell_type": "code",
   "execution_count": null,
   "id": "d571be50",
   "metadata": {},
   "outputs": [],
   "source": [
    "n1.set_position([1000,5000,5000])"
   ]
  },
  {
   "cell_type": "code",
   "execution_count": null,
   "id": "43300b34",
   "metadata": {},
   "outputs": [],
   "source": [
    "n1.set_color('#00FF00')"
   ]
  },
  {
   "cell_type": "code",
   "execution_count": null,
   "id": "ea58ff9c",
   "metadata": {},
   "outputs": [],
   "source": [
    "n1.set_size(4.0)"
   ]
  },
  {
   "cell_type": "code",
   "execution_count": null,
   "id": "8b76553c",
   "metadata": {},
   "outputs": [],
   "source": [
    "n1.delete()"
   ]
  },
  {
   "cell_type": "markdown",
   "id": "6eeea9bb",
   "metadata": {},
   "source": [
    "# Probes"
   ]
  },
  {
   "cell_type": "markdown",
   "id": "a5b439e6",
   "metadata": {},
   "source": [
    "Probes follow a very similar format to neurons, just have slightly different settings to adjust."
   ]
  },
  {
   "cell_type": "code",
   "execution_count": null,
   "id": "a1a43c90",
   "metadata": {},
   "outputs": [],
   "source": [
    "probe_list = urchin.probes.create(3)"
   ]
  },
  {
   "cell_type": "code",
   "execution_count": null,
   "id": "e40fada2",
   "metadata": {},
   "outputs": [],
   "source": [
    "urchin.probes.set_colors(probe_list, ['#FF00FF','#000000','#FF0000'])"
   ]
  },
  {
   "cell_type": "code",
   "execution_count": null,
   "id": "7dc6c6a2",
   "metadata": {},
   "outputs": [],
   "source": [
    "urchin.probes.set_angles(probe_list,[[90,45,45],[45,90,45],[45,45,90]])"
   ]
  },
  {
   "cell_type": "code",
   "execution_count": null,
   "id": "0a7bfed4",
   "metadata": {},
   "outputs": [],
   "source": [
    "probe_list[0].set_color(\"#000000\")"
   ]
  },
  {
   "cell_type": "code",
   "execution_count": null,
   "id": "06253bd5",
   "metadata": {},
   "outputs": [],
   "source": [
    "probe_list[0].set_angle([90,45,45])"
   ]
  },
  {
   "cell_type": "code",
   "execution_count": null,
   "id": "4d3c2eaf",
   "metadata": {},
   "outputs": [],
   "source": [
    "probe_list[0].set_position([4000,4000,4000])"
   ]
  },
  {
   "cell_type": "code",
   "execution_count": null,
   "id": "31396f26",
   "metadata": {},
   "outputs": [],
   "source": [
    "probe_list[0].set_scale([0.07, 10, 0.02]) "
   ]
  }
 ],
 "metadata": {
  "kernelspec": {
   "display_name": "iblenv",
   "language": "python",
   "name": "python3"
  },
  "language_info": {
   "codemirror_mode": {
    "name": "ipython",
    "version": 3
   },
   "file_extension": ".py",
   "mimetype": "text/x-python",
   "name": "python",
   "nbconvert_exporter": "python",
   "pygments_lexer": "ipython3",
   "version": "3.9.0"
  },
  "vscode": {
   "interpreter": {
    "hash": "e571d860348ccccbb87c9afaea3b8de5dc8c1513265a6c0fcfe6ac69a4d3ce4b"
   }
  }
 },
 "nbformat": 4,
 "nbformat_minor": 5
}
