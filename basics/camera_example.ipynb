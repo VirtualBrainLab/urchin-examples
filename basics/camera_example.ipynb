{
 "cells": [
  {
   "cell_type": "markdown",
   "id": "7bb9eaa0",
   "metadata": {},
   "source": [
    "## Basic Camera Tutorial\n",
    "<a target=\"_blank\" href=\"https://colab.research.google.com/github/VirtualBrainLab/urchin-examples/blob/colab/basics/camera_example.ipynb\">\n",
    "  <img src=\"https://colab.research.google.com/assets/colab-badge.svg\" alt=\"Open In Colab\"/>\n",
    "</a>"
   ]
  },
  {
   "cell_type": "markdown",
   "id": "41f5d80c",
   "metadata": {},
   "source": [
    "## Run the following block if using the notebook for the first time:"
   ]
  },
  {
   "cell_type": "code",
   "execution_count": null,
   "id": "b5ae7136",
   "metadata": {},
   "outputs": [],
   "source": [
    "#Installing urchin\n",
    "!pip install oursin -U"
   ]
  },
  {
   "cell_type": "markdown",
   "id": "3dd53d6f",
   "metadata": {},
   "source": [
    "## Set up the Unity Renderer for Neuroscience and open the renderer webpage \n",
    "Ensure that popups are enabled BEFORE running the following code."
   ]
  },
  {
   "cell_type": "code",
   "execution_count": null,
   "id": "32c8d5ba-0dc6-4e23-a076-a512bdb83dee",
   "metadata": {},
   "outputs": [],
   "source": [
    "#Importing necessary libraries:\n",
    "import json\n",
    "import sys\n",
    "import os\n",
    "import oursin as urchin\n",
    "urchin.setup()"
   ]
  },
  {
   "cell_type": "markdown",
   "id": "a9b0ec35",
   "metadata": {},
   "source": [
    "## Camera tutorial below"
   ]
  },
  {
   "cell_type": "code",
   "execution_count": null,
   "id": "04ab7fba",
   "metadata": {},
   "outputs": [],
   "source": [
    "urchin.ccf.set_visibility({'grey':True})"
   ]
  },
  {
   "cell_type": "code",
   "execution_count": null,
   "id": "81b4ba59",
   "metadata": {},
   "outputs": [],
   "source": [
    "urchin.camera.main.set_rotation([0,90,0])"
   ]
  },
  {
   "cell_type": "code",
   "execution_count": null,
   "id": "0d13d92a",
   "metadata": {},
   "outputs": [],
   "source": [
    "# capture screenshot\n",
    "urchin.camera.main.screenshot('./main_camera_screenshot.png')"
   ]
  },
  {
   "cell_type": "markdown",
   "id": "ff730427",
   "metadata": {},
   "source": [
    "To locate files from Colab, click the file icon on the left bar. Double click to view, right click to download."
   ]
  },
  {
   "cell_type": "code",
   "execution_count": null,
   "id": "8dd25456",
   "metadata": {},
   "outputs": [],
   "source": [
    "#Creating cameras c1 and c2\n",
    "c1 = urchin.camera.Camera()\n",
    "c2 = urchin.camera.Camera()"
   ]
  },
  {
   "cell_type": "code",
   "execution_count": null,
   "id": "ec7a55b7",
   "metadata": {},
   "outputs": [],
   "source": [
    "c2.delete()"
   ]
  },
  {
   "cell_type": "code",
   "execution_count": null,
   "id": "f9b23db2",
   "metadata": {},
   "outputs": [],
   "source": [
    "c1.set_rotation([0,-180,0])"
   ]
  },
  {
   "cell_type": "code",
   "execution_count": null,
   "id": "2ec2a509",
   "metadata": {},
   "outputs": [],
   "source": [
    "c1.screenshot('./c1_screenshot.png')"
   ]
  },
  {
   "cell_type": "code",
   "execution_count": null,
   "id": "e96d0fa3",
   "metadata": {},
   "outputs": [],
   "source": [
    "c1.set_zoom(9.0)"
   ]
  },
  {
   "cell_type": "code",
   "execution_count": null,
   "id": "b77b7bc3",
   "metadata": {},
   "outputs": [],
   "source": [
    "c1.set_mode('p')"
   ]
  },
  {
   "cell_type": "code",
   "execution_count": null,
   "id": "e7d53461",
   "metadata": {},
   "outputs": [],
   "source": [
    "#NOT YET IMPLEMENTED\n",
    "#c1.set_target_area(\"grey-lh\") "
   ]
  },
  {
   "cell_type": "code",
   "execution_count": null,
   "id": "3ceda501",
   "metadata": {},
   "outputs": [],
   "source": [
    "c1.set_target_coordinate([500,1500,1000])"
   ]
  },
  {
   "cell_type": "code",
   "execution_count": null,
   "id": "b36f7aab",
   "metadata": {},
   "outputs": [],
   "source": [
    "c1.set_pan(3.0, 4.0)"
   ]
  },
  {
   "cell_type": "code",
   "execution_count": null,
   "id": "0d7ab2fd",
   "metadata": {},
   "outputs": [],
   "source": [
    "c1.set_controllable()"
   ]
  },
  {
   "cell_type": "code",
   "execution_count": null,
   "id": "aeac740c",
   "metadata": {},
   "outputs": [],
   "source": [
    "c1.set_rotation_axial(False)"
   ]
  },
  {
   "cell_type": "code",
   "execution_count": null,
   "id": "db347b98",
   "metadata": {},
   "outputs": [],
   "source": [
    "c1.set_rotation_coronal(False)"
   ]
  },
  {
   "cell_type": "code",
   "execution_count": null,
   "id": "6ef98a12",
   "metadata": {},
   "outputs": [],
   "source": [
    "c1.set_rotation_sagittal(False)"
   ]
  }
 ],
 "metadata": {
  "kernelspec": {
   "display_name": "iblenv",
   "language": "python",
   "name": "python3"
  },
  "language_info": {
   "codemirror_mode": {
    "name": "ipython",
    "version": 3
   },
   "file_extension": ".py",
   "mimetype": "text/x-python",
   "name": "python",
   "nbconvert_exporter": "python",
   "pygments_lexer": "ipython3",
   "version": "3.9.0"
  },
  "vscode": {
   "interpreter": {
    "hash": "e571d860348ccccbb87c9afaea3b8de5dc8c1513265a6c0fcfe6ac69a4d3ce4b"
   }
  }
 },
 "nbformat": 4,
 "nbformat_minor": 5
}
