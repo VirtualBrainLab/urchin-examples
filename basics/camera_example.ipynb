{
 "cells": [
  {
   "cell_type": "code",
   "execution_count": 1,
   "id": "32c8d5ba-0dc6-4e23-a076-a512bdb83dee",
   "metadata": {},
   "outputs": [],
   "source": [
    "import json\n",
    "import sys\n",
    "import os\n",
    "import oursin as urchin  "
   ]
  },
  {
   "cell_type": "code",
   "execution_count": 2,
   "id": "6ef12b88",
   "metadata": {},
   "outputs": [
    {
     "name": "stdout",
     "output_type": "stream",
     "text": [
      "(URN) connected to server\n",
      "Login sent with ID: dd4dc52b, copy this ID into the renderer to connect.\n"
     ]
    }
   ],
   "source": [
    "urchin.setup()"
   ]
  },
  {
   "cell_type": "code",
   "execution_count": 3,
   "id": "04ab7fba",
   "metadata": {},
   "outputs": [],
   "source": [
    "urchin.ccf.set_visibility({'grey':True})"
   ]
  },
  {
   "cell_type": "code",
   "execution_count": 13,
   "id": "81b4ba59",
   "metadata": {},
   "outputs": [],
   "source": [
    "urchin.camera.main.set_rotation([0,90,0])"
   ]
  },
  {
   "cell_type": "code",
   "execution_count": 4,
   "id": "8dd25456",
   "metadata": {},
   "outputs": [],
   "source": [
    "#Creating cameras c1 and c2\n",
    "c1 = urchin.camera.Camera()\n",
    "c2 = urchin.camera.Camera()"
   ]
  },
  {
   "cell_type": "code",
   "execution_count": 5,
   "id": "ec7a55b7",
   "metadata": {},
   "outputs": [],
   "source": [
    "c2.delete()"
   ]
  },
  {
   "cell_type": "code",
   "execution_count": 7,
   "id": "f9b23db2",
   "metadata": {},
   "outputs": [],
   "source": [
    "c1.set_rotation([0,-180,0])"
   ]
  },
  {
   "cell_type": "code",
   "execution_count": 7,
   "id": "e96d0fa3",
   "metadata": {},
   "outputs": [],
   "source": [
    "c1.set_zoom(9.0)"
   ]
  },
  {
   "cell_type": "code",
   "execution_count": 8,
   "id": "b77b7bc3",
   "metadata": {},
   "outputs": [],
   "source": [
    "c1.set_mode('p')"
   ]
  },
  {
   "cell_type": "code",
   "execution_count": 9,
   "id": "e7d53461",
   "metadata": {},
   "outputs": [],
   "source": [
    "#NOT YET IMPLEMENTED\n",
    "#c1.set_target_area(\"grey-lh\") "
   ]
  },
  {
   "cell_type": "code",
   "execution_count": 10,
   "id": "3ceda501",
   "metadata": {},
   "outputs": [],
   "source": [
    "c1.set_target_coordinate([500,1500,1000])"
   ]
  },
  {
   "cell_type": "code",
   "execution_count": 11,
   "id": "b36f7aab",
   "metadata": {},
   "outputs": [],
   "source": [
    "c1.set_pan(3.0, 4.0)"
   ]
  },
  {
   "cell_type": "code",
   "execution_count": 12,
   "id": "0d7ab2fd",
   "metadata": {},
   "outputs": [],
   "source": [
    "c1.set_controllable()"
   ]
  },
  {
   "cell_type": "code",
   "execution_count": 11,
   "id": "aeac740c",
   "metadata": {},
   "outputs": [
    {
     "name": "stdout",
     "output_type": "stream",
     "text": [
      "(URN) disconnected from server\n",
      "(URN) connected to server\n",
      "Login sent with ID: dd4dc52b, copy this ID into the renderer to connect.\n"
     ]
    }
   ],
   "source": [
    "c1.set_rotation_axial(False)"
   ]
  },
  {
   "cell_type": "code",
   "execution_count": 9,
   "id": "db347b98",
   "metadata": {},
   "outputs": [],
   "source": [
    "c1.set_rotation_coronal(False)"
   ]
  },
  {
   "cell_type": "code",
   "execution_count": 8,
   "id": "6ef98a12",
   "metadata": {},
   "outputs": [],
   "source": [
    "c1.set_rotation_sagittal(False)"
   ]
  },
  {
   "cell_type": "markdown",
   "id": "f857784d",
   "metadata": {},
   "source": [
    "(Old) screenshot code:"
   ]
  },
  {
   "cell_type": "code",
   "execution_count": null,
   "id": "68835389",
   "metadata": {},
   "outputs": [],
   "source": [
    "# Screenshot\n",
    "urchin.camera.capture_image('./test.png')"
   ]
  }
 ],
 "metadata": {
  "kernelspec": {
   "display_name": "iblenv",
   "language": "python",
   "name": "python3"
  },
  "language_info": {
   "codemirror_mode": {
    "name": "ipython",
    "version": 3
   },
   "file_extension": ".py",
   "mimetype": "text/x-python",
   "name": "python",
   "nbconvert_exporter": "python",
   "pygments_lexer": "ipython3",
   "version": "3.8.10"
  },
  "vscode": {
   "interpreter": {
    "hash": "e571d860348ccccbb87c9afaea3b8de5dc8c1513265a6c0fcfe6ac69a4d3ce4b"
   }
  }
 },
 "nbformat": 4,
 "nbformat_minor": 5
}
