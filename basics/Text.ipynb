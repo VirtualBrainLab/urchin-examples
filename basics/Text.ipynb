{
 "cells": [
  {
   "cell_type": "markdown",
   "id": "3e7c0493",
   "metadata": {},
   "source": [
    "## Basic Text Tutorial\n",
    "<a target=\"_blank\" href=\"https://colab.research.google.com/github/VirtualBrainLab/urchin-examples/blob/colab/basics/Text.ipynb\">\n",
    "  <img src=\"https://colab.research.google.com/assets/colab-badge.svg\" alt=\"Open In Colab\"/>\n",
    "</a>"
   ]
  },
  {
   "cell_type": "markdown",
   "id": "65870f74",
   "metadata": {},
   "source": [
    "## Run the following block if using the notebook for the first time:\n",
    "Urchin is a python package that needs to properly be installed before use the first time. Once installed within the environment, it only needs to be imported. If running locally, Urchin only needs to be installed once when creating the virtual environment. For more information about Urchin, check out the documentation on the VBL website [here](https://virtualbrainlab.org/urchin/installation_and_use.html)."
   ]
  },
  {
   "cell_type": "code",
   "execution_count": null,
   "id": "365923a6",
   "metadata": {},
   "outputs": [],
   "source": [
    "#Installing urchin\n",
    "!pip install oursin -U"
   ]
  },
  {
   "cell_type": "markdown",
   "id": "ffccfa79-9e51-4159-a8e3-4d38e0d69cd2",
   "metadata": {},
   "source": [
    "## Set up the Unity Renderer for Neuroscience and open the renderer webpage \n",
    "Ensure that popups are enabled BEFORE running the following code, to allow Urchin to properly open in a new window. You can also visit the renderer site once Urchin is imported at https://data.virtualbrainlab.org/Urchin/?ID=[INSERT ID OUTPUTTED BELOW]"
   ]
  },
  {
   "cell_type": "code",
   "execution_count": 1,
   "id": "76973a23-f3a2-4932-85d7-c9a1554ec240",
   "metadata": {},
   "outputs": [
    {
     "name": "stdout",
     "output_type": "stream",
     "text": [
      "(URN) connected to server\n",
      "Login sent with ID: 56e4365b, copy this ID into the renderer to connect.\n"
     ]
    }
   ],
   "source": [
    "#Importing necessary libraries:\n",
    "import oursin as urchin\n",
    "urchin.setup()"
   ]
  },
  {
   "cell_type": "markdown",
   "id": "ff12b0c7",
   "metadata": {},
   "source": [
    "## Text tutorial below"
   ]
  },
  {
   "cell_type": "code",
   "execution_count": 2,
   "id": "f2545933-e1d8-47bb-aa5e-6285324e02ca",
   "metadata": {},
   "outputs": [],
   "source": [
    "#Creating text\n",
    "text_list = urchin.text.create(5)\n",
    "urchin.text.set_texts(text_list, ['top left','bottom left','top right','bottom right','center'])\n",
    "urchin.text.set_positions(text_list, [[-1,1], [-1, -0.9], [0.85, 1], [0.85, -0.9], [0,0]])\n",
    "urchin.text.set_font_sizes(text_list, [24]) # note that single values used in plural functions will be propagated out to the length of the list\n",
    "urchin.text.set_colors(text_list, [\"#000000\"])"
   ]
  },
  {
   "cell_type": "code",
   "execution_count": 3,
   "id": "9ac44a3f-fccd-4205-aa93-24259f521dfc",
   "metadata": {},
   "outputs": [],
   "source": [
    "#Changing top left text to red\n",
    "text_list[0].set_color(\"#FF0000\")"
   ]
  },
  {
   "cell_type": "code",
   "execution_count": 4,
   "id": "2e31c5aa-ee7e-47d9-bfd7-3c69e55c86da",
   "metadata": {},
   "outputs": [],
   "source": [
    "#Changing size of bottom left text \n",
    "text_list[1].set_font_size(100)"
   ]
  }
 ],
 "metadata": {
  "kernelspec": {
   "display_name": "iblenv",
   "language": "python",
   "name": "python3"
  },
  "language_info": {
   "codemirror_mode": {
    "name": "ipython",
    "version": 3
   },
   "file_extension": ".py",
   "mimetype": "text/x-python",
   "name": "python",
   "nbconvert_exporter": "python",
   "pygments_lexer": "ipython3",
   "version": "3.9.0"
  },
  "vscode": {
   "interpreter": {
    "hash": "e571d860348ccccbb87c9afaea3b8de5dc8c1513265a6c0fcfe6ac69a4d3ce4b"
   }
  }
 },
 "nbformat": 4,
 "nbformat_minor": 5
}
