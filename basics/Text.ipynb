{
 "cells": [
  {
   "cell_type": "markdown",
   "id": "3e7c0493",
   "metadata": {},
   "source": [
    "## Basic Text Tutorial\n",
    "<a target=\"_blank\" href=\"https://colab.research.google.com/github/VirtualBrainLab/urchin-examples/blob/colab/basics/Text.ipynb\">\n",
    "  <img src=\"https://colab.research.google.com/assets/colab-badge.svg\" alt=\"Open In Colab\"/>\n",
    "</a>"
   ]
  },
  {
   "cell_type": "markdown",
   "id": "65870f74",
   "metadata": {},
   "source": [
    "## Run the following block if using the notebook for the first time:"
   ]
  },
  {
   "cell_type": "code",
   "execution_count": null,
   "id": "365923a6",
   "metadata": {},
   "outputs": [],
   "source": [
    "#Installing urchin\n",
    "!pip install oursin"
   ]
  },
  {
   "cell_type": "markdown",
   "id": "ffccfa79-9e51-4159-a8e3-4d38e0d69cd2",
   "metadata": {},
   "source": [
    "## Set up the Unity Renderer for Neuroscience and open the renderer webpage \n",
    "Ensure that popups are enabled."
   ]
  },
  {
   "cell_type": "code",
   "execution_count": null,
   "id": "76973a23-f3a2-4932-85d7-c9a1554ec240",
   "metadata": {},
   "outputs": [],
   "source": [
    "#Importing necessary libraries:\n",
    "import oursin as urchin\n",
    "urchin.setup()\n",
    "\n",
    "#To open browser window:\n",
    "from IPython.display import Javascript\n",
    "\n",
    "url = f'https://data.virtualbrainlab.org/Urchin/?ID={urchin.client.ID}'\n",
    "\n",
    "# Specify window features\n",
    "window_features = \"width=1200,height=800,toolbar=no,location=no,directories=no,status=no,menubar=no,scrollbars=yes,resizable=yes\"\n",
    "\n",
    "# Use the window.open function with window features\n",
    "javascript_code = f'window.open(\"{url}\", \"_blank\", \"{window_features}\");'\n",
    "\n",
    "# Display the JavaScript code to open the new window\n",
    "display(Javascript(javascript_code))"
   ]
  },
  {
   "cell_type": "markdown",
   "id": "ff12b0c7",
   "metadata": {},
   "source": [
    "## Text tutorial below"
   ]
  },
  {
   "cell_type": "code",
   "execution_count": 3,
   "id": "f2545933-e1d8-47bb-aa5e-6285324e02ca",
   "metadata": {},
   "outputs": [
    {
     "ename": "AttributeError",
     "evalue": "module 'oursin.text' has no attribute 'create'",
     "output_type": "error",
     "traceback": [
      "\u001b[1;31m---------------------------------------------------------------------------\u001b[0m",
      "\u001b[1;31mAttributeError\u001b[0m                            Traceback (most recent call last)",
      "\u001b[1;32mc:\\proj\\VBL\\urchin-examples\\basics\\Text.ipynb Cell 3\u001b[0m in \u001b[0;36m<cell line: 1>\u001b[1;34m()\u001b[0m\n\u001b[1;32m----> <a href='vscode-notebook-cell:/c%3A/proj/VBL/urchin-examples/basics/Text.ipynb#W2sZmlsZQ%3D%3D?line=0'>1</a>\u001b[0m urchin\u001b[39m.\u001b[39;49mtext\u001b[39m.\u001b[39;49mcreate([\u001b[39m'\u001b[39m\u001b[39mtl\u001b[39m\u001b[39m'\u001b[39m,\u001b[39m'\u001b[39m\u001b[39mbl\u001b[39m\u001b[39m'\u001b[39m,\u001b[39m'\u001b[39m\u001b[39mtr\u001b[39m\u001b[39m'\u001b[39m,\u001b[39m'\u001b[39m\u001b[39mbr\u001b[39m\u001b[39m'\u001b[39m,\u001b[39m'\u001b[39m\u001b[39mcenter\u001b[39m\u001b[39m'\u001b[39m])\n",
      "\u001b[1;31mAttributeError\u001b[0m: module 'oursin.text' has no attribute 'create'"
     ]
    }
   ],
   "source": [
    "#Creating text\n",
    "urchin.text.create(['tl','bl','tr','br','center'])"
   ]
  },
  {
   "cell_type": "code",
   "execution_count": 4,
   "id": "7beb8367-c70c-456f-9c82-fd66ce6687c5",
   "metadata": {},
   "outputs": [],
   "source": [
    "urchin.text.set_text({'tl':'top left',\n",
    "            'bl':'bottom left',\n",
    "            'tr':'top right',\n",
    "            'br':'bottom right',\n",
    "            'center':'center'})"
   ]
  },
  {
   "cell_type": "code",
   "execution_count": 5,
   "id": "a8eb5485-35e9-4df5-a3bd-633e466d2f46",
   "metadata": {},
   "outputs": [],
   "source": [
    "urchin.text.set_position({'tl':[-1,1],\n",
    "                        'bl':[-1,-0.9],\n",
    "                        'tr':[0.85,1],\n",
    "                        'br':[0.85,-0.9],\n",
    "                        'center':[0,0]})"
   ]
  },
  {
   "cell_type": "code",
   "execution_count": 6,
   "id": "9ac44a3f-fccd-4205-aa93-24259f521dfc",
   "metadata": {},
   "outputs": [],
   "source": [
    "urchin.text.set_color({'tl':\"#FF0000\"})"
   ]
  },
  {
   "cell_type": "code",
   "execution_count": 7,
   "id": "2e31c5aa-ee7e-47d9-bfd7-3c69e55c86da",
   "metadata": {},
   "outputs": [],
   "source": [
    "urchin.text.set_size({'tl':100})"
   ]
  }
 ],
 "metadata": {
  "kernelspec": {
   "display_name": "iblenv",
   "language": "python",
   "name": "python3"
  },
  "language_info": {
   "codemirror_mode": {
    "name": "ipython",
    "version": 3
   },
   "file_extension": ".py",
   "mimetype": "text/x-python",
   "name": "python",
   "nbconvert_exporter": "python",
   "pygments_lexer": "ipython3",
   "version": "3.9.0"
  },
  "vscode": {
   "interpreter": {
    "hash": "e571d860348ccccbb87c9afaea3b8de5dc8c1513265a6c0fcfe6ac69a4d3ce4b"
   }
  }
 },
 "nbformat": 4,
 "nbformat_minor": 5
}
