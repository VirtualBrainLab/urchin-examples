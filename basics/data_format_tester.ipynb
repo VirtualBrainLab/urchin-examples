{
 "cells": [
  {
   "cell_type": "markdown",
   "metadata": {},
   "source": [
    "<a target=\"_blank\" href=\"https://colab.research.google.com/github/VirtualBrainLab/urchin-examples/blob/colab/basics/data_format_tester.ipynb\">\n",
    "  <img src=\"https://colab.research.google.com/assets/colab-badge.svg\" alt=\"Open In Colab\"/>\n",
    "</a>"
   ]
  },
  {
   "cell_type": "markdown",
   "metadata": {},
   "source": [
    "## To display an image:\n",
    "Uses a random image generator."
   ]
  },
  {
   "cell_type": "code",
   "execution_count": null,
   "metadata": {},
   "outputs": [],
   "source": [
    "from IPython.display import Image\n",
    "import requests\n",
    "\n",
    "# Provide the URL of the image\n",
    "image_url = \"https://picsum.photos/200/300\"\n",
    "\n",
    "# Display the image\n",
    "Image(requests.get(image_url).content)"
   ]
  },
  {
   "cell_type": "markdown",
   "metadata": {},
   "source": [
    "## To load a .npy:\n",
    "Uses atlas.py as found in the shared drive"
   ]
  },
  {
   "cell_type": "code",
   "execution_count": null,
   "metadata": {},
   "outputs": [],
   "source": [
    "# tested that something is loaded but haven't directly used npy file for anything\n",
    "\n",
    "!pip install gdown\n",
    "\n",
    "# Import necessary libraries\n",
    "import gdown\n",
    "import numpy as np\n",
    "\n",
    "# Replace 'your_file_id' with the actual file ID from the shared link (the portion after the 'file/d/' and before  '/view')\n",
    "file_id = '1A1l7OWbXFlE_4tUQ-WjhljzvN2r2_QrW'\n",
    "\n",
    "# Define the destination path where you want to save the file in Colab\n",
    "output_path = 'atlas.npy'\n",
    "\n",
    "# Download the file from Google Drive\n",
    "gdown.download(f'https://drive.google.com/uc?id={file_id}', output_path, quiet=False)\n",
    "\n",
    "# Load the .npy file\n",
    "loaded_data = np.load(output_path)\n",
    "\n",
    "# Now you can work with 'loaded_data' as a NumPy array"
   ]
  },
  {
   "cell_type": "markdown",
   "metadata": {},
   "source": [
    "## NOT TESTED YET -- do not have examples"
   ]
  },
  {
   "cell_type": "code",
   "execution_count": null,
   "metadata": {},
   "outputs": [],
   "source": [
    "# Install the gdown library for Google Drive file download\n",
    "!pip install gdown\n",
    "!pip install pyarrow  # Required for Parquet file handling\n",
    "\n",
    "# Import necessary libraries\n",
    "import gdown\n",
    "import pyarrow.parquet as pq\n",
    "\n",
    "# Replace 'your_file_id' with the actual file ID from the shared link\n",
    "file_id = 'your_file_id'\n",
    "\n",
    "# Define the destination path where you want to save the file in Colab\n",
    "output_path = 'your_desired_file_name.parquet'\n",
    "\n",
    "# Download the file from Google Drive\n",
    "gdown.download(f'https://drive.google.com/uc?id={file_id}', output_path, quiet=False)\n",
    "\n",
    "# Load the Parquet file\n",
    "parquet_file = pq.read_table(output_path)\n",
    "\n",
    "# Now you can work with 'parquet_file' as a Parquet table\n"
   ]
  }
 ],
 "metadata": {
  "language_info": {
   "name": "python"
  },
  "orig_nbformat": 4
 },
 "nbformat": 4,
 "nbformat_minor": 2
}
