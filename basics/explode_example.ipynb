{
 "cells": [
  {
   "cell_type": "markdown",
   "id": "05bd3249",
   "metadata": {},
   "source": [
    "# Exploded Brain Tutorial\n",
    "[![Open In Colab](https://colab.research.google.com/assets/colab-badge.svg)](https://colab.research.google.com/github/VirtualBrainLab/urchin-examples/blob/main/basics/explode_example.ipynb)"
   ]
  },
  {
   "cell_type": "markdown",
   "id": "50b5b2b9",
   "metadata": {},
   "source": [
    "## Run the following block if using the notebook for the first time:\n",
    "Urchin is a python package that needs to properly be installed before use the first time. Once installed within the environment, it only needs to be imported. If running locally, Urchin only needs to be installed once when creating the virtual environment. For more information about Urchin, check out the documentation on the VBL website [here](https://virtualbrainlab.org/urchin/installation_and_use.html)."
   ]
  },
  {
   "cell_type": "code",
   "execution_count": 1,
   "id": "00dbddcf-ef6e-416f-90fb-152575852df5",
   "metadata": {},
   "outputs": [],
   "source": [
    "#Installing urchin\n",
    "!pip install oursin -U"
   ]
  },
  {
   "cell_type": "markdown",
   "id": "9df1e989",
   "metadata": {},
   "source": [
    "## This tutorial is not working yet (as of 0.5.0!). Check back soon!"
   ]
  },
  {
   "cell_type": "markdown",
   "id": "e53ae8a3",
   "metadata": {},
   "source": [
    "## Setup Urchin and open the renderer webpage \n",
    "\n",
    "By default Urchin opens the 3D renderer in a webpage. Make sure pop-ups are enabled, or the page won't open properly. You can also open the renderer site yourself by replacing [ID here] with the ID that is output by the call to `.setup()` at https://data.virtualbrainlab.org/Urchin/?ID=[ID here]\n",
    "\n",
    "Note that Urchin communicates to the renderer webpage through an internet connection, we don't currently support offline use (we hope to add support in the future)."
   ]
  },
  {
   "cell_type": "code",
   "execution_count": null,
   "id": "fd0470c4",
   "metadata": {},
   "outputs": [],
   "source": [
    "#Importing necessary libraries:\n",
    "import oursin as urchin\n",
    "urchin.setup()"
   ]
  },
  {
   "cell_type": "markdown",
   "id": "3360aa1f",
   "metadata": {},
   "source": [
    "The explode slider only works when the beryl regions are loaded, or if regions are loaded in individually (loading in lh, and then rh separately. See loading brain areas script for more details."
   ]
  },
  {
   "cell_type": "code",
   "execution_count": 3,
   "id": "517161cb-3126-4e89-a291-dba6e663131e",
   "metadata": {},
   "outputs": [],
   "source": [
    "urchin.ccf.load_beryl()\n",
    "\n",
    "#Might take a couple seconds to load"
   ]
  },
  {
   "cell_type": "code",
   "execution_count": null,
   "id": "51c89b9d-38af-4eac-88af-fc1b06738b1d",
   "metadata": {},
   "outputs": [],
   "source": [
    "# In the viewer use the \"explode\" slider"
   ]
  }
 ],
 "metadata": {
  "kernelspec": {
   "display_name": "Python 3",
   "language": "python",
   "name": "python3"
  },
  "language_info": {
   "codemirror_mode": {
    "name": "ipython",
    "version": 3
   },
   "file_extension": ".py",
   "mimetype": "text/x-python",
   "name": "python",
   "nbconvert_exporter": "python",
   "pygments_lexer": "ipython3",
   "version": "3.10.13"
  },
  "vscode": {
   "interpreter": {
    "hash": "369f2c481f4da34e4445cda3fffd2e751bd1c4d706f27375911949ba6bb62e1c"
   }
  }
 },
 "nbformat": 4,
 "nbformat_minor": 5
}
