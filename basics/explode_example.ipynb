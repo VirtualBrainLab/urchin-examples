{
 "cells": [
  {
   "cell_type": "markdown",
   "id": "05bd3249",
   "metadata": {},
   "source": [
    "## Basic Explode Tutorial\n",
    "<a target=\"_blank\" href=\"https://colab.research.google.com/github/VirtualBrainLab/urchin-examples/blob/colab/basics/explode_example.ipynb\">\n",
    "  <img src=\"https://colab.research.google.com/assets/colab-badge.svg\" alt=\"Open In Colab\"/>\n",
    "</a>"
   ]
  },
  {
   "cell_type": "markdown",
   "id": "50b5b2b9",
   "metadata": {},
   "source": [
    "## Run the following block if using the notebook for the first time:"
   ]
  },
  {
   "cell_type": "code",
   "execution_count": 1,
   "id": "00dbddcf-ef6e-416f-90fb-152575852df5",
   "metadata": {},
   "outputs": [],
   "source": [
    "#Installing urchin\n",
    "!pip install oursin"
   ]
  },
  {
   "cell_type": "markdown",
   "id": "e53ae8a3",
   "metadata": {},
   "source": [
    "## Set up the Unity Renderer for Neuroscience and open the renderer webpage \n",
    "Ensure that popups are enabled."
   ]
  },
  {
   "cell_type": "code",
   "execution_count": null,
   "id": "fd0470c4",
   "metadata": {},
   "outputs": [],
   "source": [
    "#Importing necessary libraries:\n",
    "import oursin as urchin\n",
    "urchin.setup()\n",
    "\n",
    "#To open browser window:\n",
    "from IPython.display import Javascript\n",
    "url = f'https://data.virtualbrainlab.org/Urchin/?ID={urchin.client.ID}'\n",
    "\n",
    "# Specify window features\n",
    "window_features = \"width=1200,height=800,toolbar=no,location=no,directories=no,status=no,menubar=no,scrollbars=yes,resizable=yes\"\n",
    "\n",
    "# Use the window.open function with window features\n",
    "javascript_code = f'window.open(\"{url}\", \"_blank\", \"{window_features}\");'\n",
    "\n",
    "# Display the JavaScript code to open the new window\n",
    "display(Javascript(javascript_code))"
   ]
  },
  {
   "cell_type": "code",
   "execution_count": 3,
   "id": "517161cb-3126-4e89-a291-dba6e663131e",
   "metadata": {},
   "outputs": [],
   "source": [
    "urchin.ccf.load_beryl()"
   ]
  },
  {
   "cell_type": "code",
   "execution_count": null,
   "id": "51c89b9d-38af-4eac-88af-fc1b06738b1d",
   "metadata": {},
   "outputs": [],
   "source": [
    "# In the viewer use the \"explode\" slider"
   ]
  }
 ],
 "metadata": {
  "kernelspec": {
   "display_name": "Python 3",
   "language": "python",
   "name": "python3"
  },
  "language_info": {
   "codemirror_mode": {
    "name": "ipython",
    "version": 3
   },
   "file_extension": ".py",
   "mimetype": "text/x-python",
   "name": "python",
   "nbconvert_exporter": "python",
   "pygments_lexer": "ipython3",
   "version": "3.9.0"
  },
  "vscode": {
   "interpreter": {
    "hash": "369f2c481f4da34e4445cda3fffd2e751bd1c4d706f27375911949ba6bb62e1c"
   }
  }
 },
 "nbformat": 4,
 "nbformat_minor": 5
}
