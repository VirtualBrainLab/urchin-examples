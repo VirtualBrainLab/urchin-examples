{
 "cells": [
  {
   "cell_type": "code",
   "execution_count": 1,
   "id": "00dbddcf-ef6e-416f-90fb-152575852df5",
   "metadata": {},
   "outputs": [],
   "source": [
    "import oursin as urchin"
   ]
  },
  {
   "cell_type": "code",
   "execution_count": 2,
   "id": "5cff3bac-5d21-4cda-a9a7-c738557131ce",
   "metadata": {},
   "outputs": [
    {
     "name": "stdout",
     "output_type": "stream",
     "text": [
      "(URN) connected to server\n",
      "Login sent with ID: dfc02d2b, copy this ID into the renderer to connect.\n"
     ]
    }
   ],
   "source": [
    "urchin.setup()"
   ]
  },
  {
   "cell_type": "code",
   "execution_count": 3,
   "id": "517161cb-3126-4e89-a291-dba6e663131e",
   "metadata": {},
   "outputs": [],
   "source": [
    "urchin.ccf.load_beryl()"
   ]
  },
  {
   "cell_type": "code",
   "execution_count": null,
   "id": "51c89b9d-38af-4eac-88af-fc1b06738b1d",
   "metadata": {},
   "outputs": [],
   "source": [
    "# In the viewer use the \"explode\" slider"
   ]
  }
 ],
 "metadata": {
  "kernelspec": {
   "display_name": "Python 3",
   "language": "python",
   "name": "python3"
  },
  "language_info": {
   "codemirror_mode": {
    "name": "ipython",
    "version": 3
   },
   "file_extension": ".py",
   "mimetype": "text/x-python",
   "name": "python",
   "nbconvert_exporter": "python",
   "pygments_lexer": "ipython3",
   "version": "3.9.0"
  },
  "vscode": {
   "interpreter": {
    "hash": "369f2c481f4da34e4445cda3fffd2e751bd1c4d706f27375911949ba6bb62e1c"
   }
  }
 },
 "nbformat": 4,
 "nbformat_minor": 5
}
