{
 "cells": [
  {
   "cell_type": "code",
   "execution_count": 77,
   "metadata": {},
   "outputs": [],
   "source": [
    "import pandas as pd\n",
    "import numpy as np"
   ]
  },
  {
   "cell_type": "code",
   "execution_count": 93,
   "metadata": {},
   "outputs": [
    {
     "data": {
      "text/html": [
       "<div>\n",
       "<style scoped>\n",
       "    .dataframe tbody tr th:only-of-type {\n",
       "        vertical-align: middle;\n",
       "    }\n",
       "\n",
       "    .dataframe tbody tr th {\n",
       "        vertical-align: top;\n",
       "    }\n",
       "\n",
       "    .dataframe thead th {\n",
       "        text-align: right;\n",
       "    }\n",
       "</style>\n",
       "<table border=\"1\" class=\"dataframe\">\n",
       "  <thead>\n",
       "    <tr style=\"text-align: right;\">\n",
       "      <th></th>\n",
       "      <th>unit_id</th>\n",
       "      <th>left_right_ccf_coordinate</th>\n",
       "      <th>anterior_posterior_ccf_coordinate</th>\n",
       "      <th>dorsal_ventral_ccf_coordinate</th>\n",
       "      <th>firing_rate</th>\n",
       "      <th>percentile_rank</th>\n",
       "      <th>color</th>\n",
       "      <th>size_scale</th>\n",
       "    </tr>\n",
       "  </thead>\n",
       "  <tbody>\n",
       "    <tr>\n",
       "      <th>0</th>\n",
       "      <td>1157005856</td>\n",
       "      <td>6719</td>\n",
       "      <td>8453</td>\n",
       "      <td>3353</td>\n",
       "      <td>0.931674</td>\n",
       "      <td>0.262039</td>\n",
       "      <td>#cbbadc</td>\n",
       "      <td>0.046550</td>\n",
       "    </tr>\n",
       "    <tr>\n",
       "      <th>400</th>\n",
       "      <td>1157005865</td>\n",
       "      <td>6730</td>\n",
       "      <td>8443</td>\n",
       "      <td>3314</td>\n",
       "      <td>1.113203</td>\n",
       "      <td>0.283822</td>\n",
       "      <td>#c7b4d9</td>\n",
       "      <td>0.047613</td>\n",
       "    </tr>\n",
       "    <tr>\n",
       "      <th>800</th>\n",
       "      <td>1156993171</td>\n",
       "      <td>7535</td>\n",
       "      <td>8281</td>\n",
       "      <td>2245</td>\n",
       "      <td>0.140507</td>\n",
       "      <td>0.124465</td>\n",
       "      <td>#e5dcee</td>\n",
       "      <td>0.040365</td>\n",
       "    </tr>\n",
       "    <tr>\n",
       "      <th>1200</th>\n",
       "      <td>1157007398</td>\n",
       "      <td>7106</td>\n",
       "      <td>8205</td>\n",
       "      <td>2558</td>\n",
       "      <td>2.599568</td>\n",
       "      <td>0.447740</td>\n",
       "      <td>#a88bc4</td>\n",
       "      <td>0.056427</td>\n",
       "    </tr>\n",
       "    <tr>\n",
       "      <th>1600</th>\n",
       "      <td>1088118127</td>\n",
       "      <td>7470</td>\n",
       "      <td>8384</td>\n",
       "      <td>1548</td>\n",
       "      <td>24.723115</td>\n",
       "      <td>0.964070</td>\n",
       "      <td>#460a82</td>\n",
       "      <td>0.096346</td>\n",
       "    </tr>\n",
       "    <tr>\n",
       "      <th>...</th>\n",
       "      <td>...</td>\n",
       "      <td>...</td>\n",
       "      <td>...</td>\n",
       "      <td>...</td>\n",
       "      <td>...</td>\n",
       "      <td>...</td>\n",
       "      <td>...</td>\n",
       "      <td>...</td>\n",
       "    </tr>\n",
       "    <tr>\n",
       "      <th>317200</th>\n",
       "      <td>1154608183</td>\n",
       "      <td>7318</td>\n",
       "      <td>8208</td>\n",
       "      <td>1974</td>\n",
       "      <td>0.520336</td>\n",
       "      <td>0.206387</td>\n",
       "      <td>#d5c8e3</td>\n",
       "      <td>0.043942</td>\n",
       "    </tr>\n",
       "    <tr>\n",
       "      <th>317600</th>\n",
       "      <td>1154605247</td>\n",
       "      <td>8291</td>\n",
       "      <td>7709</td>\n",
       "      <td>2620</td>\n",
       "      <td>10.184565</td>\n",
       "      <td>0.829371</td>\n",
       "      <td>#602b93</td>\n",
       "      <td>0.083795</td>\n",
       "    </tr>\n",
       "    <tr>\n",
       "      <th>318000</th>\n",
       "      <td>1154605040</td>\n",
       "      <td>8889</td>\n",
       "      <td>8529</td>\n",
       "      <td>2289</td>\n",
       "      <td>1.683868</td>\n",
       "      <td>0.349911</td>\n",
       "      <td>#baa4d1</td>\n",
       "      <td>0.050987</td>\n",
       "    </tr>\n",
       "    <tr>\n",
       "      <th>318400</th>\n",
       "      <td>1154604551</td>\n",
       "      <td>8264</td>\n",
       "      <td>9496</td>\n",
       "      <td>1621</td>\n",
       "      <td>3.917288</td>\n",
       "      <td>0.564171</td>\n",
       "      <td>#926eb5</td>\n",
       "      <td>0.063662</td>\n",
       "    </tr>\n",
       "    <tr>\n",
       "      <th>318800</th>\n",
       "      <td>1154604177</td>\n",
       "      <td>7889</td>\n",
       "      <td>7865</td>\n",
       "      <td>800</td>\n",
       "      <td>0.469980</td>\n",
       "      <td>0.198042</td>\n",
       "      <td>#d7cae4</td>\n",
       "      <td>0.043563</td>\n",
       "    </tr>\n",
       "  </tbody>\n",
       "</table>\n",
       "<p>798 rows × 8 columns</p>\n",
       "</div>"
      ],
      "text/plain": [
       "           unit_id  left_right_ccf_coordinate  \\\n",
       "0       1157005856                       6719   \n",
       "400     1157005865                       6730   \n",
       "800     1156993171                       7535   \n",
       "1200    1157007398                       7106   \n",
       "1600    1088118127                       7470   \n",
       "...            ...                        ...   \n",
       "317200  1154608183                       7318   \n",
       "317600  1154605247                       8291   \n",
       "318000  1154605040                       8889   \n",
       "318400  1154604551                       8264   \n",
       "318800  1154604177                       7889   \n",
       "\n",
       "        anterior_posterior_ccf_coordinate  dorsal_ventral_ccf_coordinate  \\\n",
       "0                                    8453                           3353   \n",
       "400                                  8443                           3314   \n",
       "800                                  8281                           2245   \n",
       "1200                                 8205                           2558   \n",
       "1600                                 8384                           1548   \n",
       "...                                   ...                            ...   \n",
       "317200                               8208                           1974   \n",
       "317600                               7709                           2620   \n",
       "318000                               8529                           2289   \n",
       "318400                               9496                           1621   \n",
       "318800                               7865                            800   \n",
       "\n",
       "        firing_rate  percentile_rank    color  size_scale  \n",
       "0          0.931674         0.262039  #cbbadc    0.046550  \n",
       "400        1.113203         0.283822  #c7b4d9    0.047613  \n",
       "800        0.140507         0.124465  #e5dcee    0.040365  \n",
       "1200       2.599568         0.447740  #a88bc4    0.056427  \n",
       "1600      24.723115         0.964070  #460a82    0.096346  \n",
       "...             ...              ...      ...         ...  \n",
       "317200     0.520336         0.206387  #d5c8e3    0.043942  \n",
       "317600    10.184565         0.829371  #602b93    0.083795  \n",
       "318000     1.683868         0.349911  #baa4d1    0.050987  \n",
       "318400     3.917288         0.564171  #926eb5    0.063662  \n",
       "318800     0.469980         0.198042  #d7cae4    0.043563  \n",
       "\n",
       "[798 rows x 8 columns]"
      ]
     },
     "execution_count": 93,
     "metadata": {},
     "output_type": "execute_result"
    }
   ],
   "source": [
    "data = pd.read_csv(\"../../data/allen_visual_behavior_firing_rate.csv\")\n",
    "data = data.iloc[::400]\n",
    "data"
   ]
  },
  {
   "cell_type": "code",
   "execution_count": 88,
   "metadata": {},
   "outputs": [
    {
     "data": {
      "text/plain": [
       "array([[      112],\n",
       "       [      122],\n",
       "       [      145],\n",
       "       ...,\n",
       "       [101078466],\n",
       "       [101078476],\n",
       "       [101078494]], dtype=uint64)"
      ]
     },
     "execution_count": 88,
     "metadata": {},
     "output_type": "execute_result"
    }
   ],
   "source": [
    "times = np.load(\"../../data/spike_times.npy\")\n",
    "times"
   ]
  },
  {
   "cell_type": "code",
   "execution_count": 89,
   "metadata": {},
   "outputs": [
    {
     "data": {
      "text/plain": [
       "6643704"
      ]
     },
     "execution_count": 89,
     "metadata": {},
     "output_type": "execute_result"
    }
   ],
   "source": [
    "len(times)"
   ]
  },
  {
   "cell_type": "code",
   "execution_count": 81,
   "metadata": {},
   "outputs": [
    {
     "ename": "TypeError",
     "evalue": "'numpy.bool_' object is not iterable",
     "output_type": "error",
     "traceback": [
      "\u001b[1;31m---------------------------------------------------------------------------\u001b[0m",
      "\u001b[1;31mTypeError\u001b[0m                                 Traceback (most recent call last)",
      "Cell \u001b[1;32mIn[81], line 1\u001b[0m\n\u001b[1;32m----> 1\u001b[0m \u001b[38;5;28;43mmax\u001b[39;49m\u001b[43m(\u001b[49m\u001b[43mbinned\u001b[49m\u001b[38;5;241;43m.\u001b[39;49m\u001b[43mall\u001b[49m\u001b[43m(\u001b[49m\u001b[43m)\u001b[49m\u001b[43m)\u001b[49m\n",
      "\u001b[1;31mTypeError\u001b[0m: 'numpy.bool_' object is not iterable"
     ]
    }
   ],
   "source": [
    "max(binned.all())"
   ]
  },
  {
   "cell_type": "markdown",
   "metadata": {},
   "source": [
    "### Creating graph:"
   ]
  },
  {
   "cell_type": "code",
   "execution_count": 5,
   "metadata": {},
   "outputs": [],
   "source": [
    "import ipywidgets as widgets\n",
    "\n",
    "import numpy as np\n",
    "from matplotlib import pyplot as plt\n"
   ]
  },
  {
   "cell_type": "markdown",
   "metadata": {},
   "source": [
    "## Urchin below:"
   ]
  },
  {
   "cell_type": "code",
   "execution_count": 6,
   "metadata": {},
   "outputs": [
    {
     "name": "stdout",
     "output_type": "stream",
     "text": [
      "(URN) connected to server\n",
      "Login sent with ID: 78cfac02, copy this ID into the renderer to connect.\n"
     ]
    }
   ],
   "source": [
    "#Importing necessary libraries:\n",
    "import oursin as urchin\n",
    "import pandas as pd\n",
    "urchin.setup()"
   ]
  },
  {
   "cell_type": "code",
   "execution_count": 25,
   "metadata": {},
   "outputs": [
    {
     "name": "stdout",
     "output_type": "stream",
     "text": [
      "(Warning) Atlas was already loaded, the renderer can have issues if you try to load an atlas twice.\n"
     ]
    }
   ],
   "source": [
    "urchin.ccf25.load()"
   ]
  },
  {
   "cell_type": "code",
   "execution_count": 26,
   "metadata": {},
   "outputs": [],
   "source": [
    "urchin.ccf25.grey.set_visibility(True)\n",
    "urchin.ccf25.grey.set_material('transparent-unlit')\n",
    "urchin.ccf25.grey.set_color('#000000')\n",
    "urchin.ccf25.grey.set_alpha(0.1)"
   ]
  },
  {
   "cell_type": "code",
   "execution_count": 9,
   "metadata": {},
   "outputs": [],
   "source": [
    "#Setting positions (static):\n",
    "positions_list = []\n",
    "\n",
    "for i, row in data.iterrows():\n",
    "    position = [round(row.left_right_ccf_coordinate), round(row.anterior_posterior_ccf_coordinate), round(row.dorsal_ventral_ccf_coordinate)]\n",
    "    positions_list.append(position)    "
   ]
  },
  {
   "cell_type": "code",
   "execution_count": 10,
   "metadata": {},
   "outputs": [],
   "source": [
    "neurons = urchin.particles.create(len(data))\n",
    "urchin.particles.set_positions(neurons, positions_list) #setting the positions within the renderer"
   ]
  },
  {
   "cell_type": "code",
   "execution_count": 11,
   "metadata": {},
   "outputs": [],
   "source": [
    "urchin.particles.clear()"
   ]
  },
  {
   "cell_type": "code",
   "execution_count": 62,
   "metadata": {},
   "outputs": [],
   "source": [
    "#for more accurate/less visible numbers, divide size / 10\n",
    "def neurons_percentile(t=0):\n",
    "    global neurons\n",
    "    if(t>1):\n",
    "        t=2-t\n",
    "        \n",
    "    size_list = []\n",
    "    for i, row in data.iterrows():\n",
    "        size = (round(row.percentile_rank,1))\n",
    "        if(t != size):\n",
    "            size = 0\n",
    "        size_list.append(size)\n",
    "\n",
    "\n",
    "    urchin.particles.set_sizes(neurons, size_list)\n",
    "\n",
    "\n"
   ]
  },
  {
   "cell_type": "code",
   "execution_count": 63,
   "metadata": {},
   "outputs": [
    {
     "data": {
      "application/vnd.jupyter.widget-view+json": {
       "model_id": "9e8c73f2f41a4fefada3078e04833f5c",
       "version_major": 2,
       "version_minor": 0
      },
      "text/plain": [
       "interactive(children=(FloatSlider(value=0.0, description='t', max=2.0), Output()), _dom_classes=('widget-inter…"
      ]
     },
     "metadata": {},
     "output_type": "display_data"
    },
    {
     "data": {
      "text/plain": [
       "<function __main__.neurons_percentile(t=0)>"
      ]
     },
     "execution_count": 63,
     "metadata": {},
     "output_type": "execute_result"
    }
   ],
   "source": [
    "widgets.interact(neurons_percentile,t=(0.0,2,0.10))"
   ]
  },
  {
   "cell_type": "code",
   "execution_count": null,
   "metadata": {},
   "outputs": [],
   "source": [
    "def update_sizes_from_firing(t=0,a,b,c):\n",
    "    # set urchin sizes with the new sizes {'n1':1}\n",
    "    #directly appends dictionaries to bypass all the other functions w/in urchin\n",
    "\n",
    "urchin.ui.slider_widget(update_sizes_from_firing)\n",
    "    #function displays the actual widget + graph w/o making users import packages + slider functionality and all that"
   ]
  },
  {
   "cell_type": "code",
   "execution_count": 68,
   "metadata": {},
   "outputs": [],
   "source": [
    "x = data[\"percentile_rank\"]\n",
    "x_right = 2 - data[\"percentile_rank\"]\n",
    "#x = x[:-1]\n",
    "x = list(x)\n",
    "#x = x + list(x_right)"
   ]
  },
  {
   "cell_type": "code",
   "execution_count": 69,
   "metadata": {},
   "outputs": [],
   "source": [
    "y = list(data[\"firing_rate\"])\n",
    "#for i in range(max(data.index),0,-50):\n",
    "   # y.append(data.loc[i, 'firing_rate'])"
   ]
  },
  {
   "cell_type": "code",
   "execution_count": 74,
   "metadata": {},
   "outputs": [],
   "source": [
    "def slope_viz_neurons(t=0):\n",
    "    plt.scatter(x, y, label='Firing Rate')\n",
    "    plt.axvline(t, color='red', linestyle='--',)\n",
    "    plt.xlabel('Percentile')\n",
    "    plt.ylabel('Firing Rate')\n",
    "    plt.legend()\n",
    "    plt.show()\n",
    "    neurons_percentile(t)"
   ]
  },
  {
   "cell_type": "code",
   "execution_count": 75,
   "metadata": {},
   "outputs": [
    {
     "data": {
      "application/vnd.jupyter.widget-view+json": {
       "model_id": "27084fce96ba4a6281c214beee4546c0",
       "version_major": 2,
       "version_minor": 0
      },
      "text/plain": [
       "interactive(children=(FloatSlider(value=0.0, description='t', max=1.0), Output()), _dom_classes=('widget-inter…"
      ]
     },
     "metadata": {},
     "output_type": "display_data"
    },
    {
     "data": {
      "text/plain": [
       "<function __main__.slope_viz_neurons(t=0)>"
      ]
     },
     "execution_count": 75,
     "metadata": {},
     "output_type": "execute_result"
    }
   ],
   "source": [
    "widgets.interact(slope_viz_neurons,t=(0.0,1,0.1)) #first argument is the function information is being sent to, second is the argument"
   ]
  }
 ],
 "metadata": {
  "kernelspec": {
   "display_name": "editable-urchin-venv",
   "language": "python",
   "name": "python3"
  },
  "language_info": {
   "codemirror_mode": {
    "name": "ipython",
    "version": 3
   },
   "file_extension": ".py",
   "mimetype": "text/x-python",
   "name": "python",
   "nbconvert_exporter": "python",
   "pygments_lexer": "ipython3",
   "version": "3.8.10"
  }
 },
 "nbformat": 4,
 "nbformat_minor": 2
}
