{
 "cells": [
  {
   "cell_type": "code",
   "execution_count": 1,
   "metadata": {},
   "outputs": [],
   "source": [
    "import pandas as pd"
   ]
  },
  {
   "cell_type": "code",
   "execution_count": 2,
   "metadata": {},
   "outputs": [],
   "source": [
    "data = pd.read_csv(\"../../data/allen_visual_behavior_firing_rate.csv\")"
   ]
  },
  {
   "cell_type": "code",
   "execution_count": 3,
   "metadata": {},
   "outputs": [],
   "source": [
    "data = data.iloc[::50]"
   ]
  },
  {
   "cell_type": "code",
   "execution_count": 34,
   "metadata": {},
   "outputs": [
    {
     "data": {
      "text/html": [
       "<div>\n",
       "<style scoped>\n",
       "    .dataframe tbody tr th:only-of-type {\n",
       "        vertical-align: middle;\n",
       "    }\n",
       "\n",
       "    .dataframe tbody tr th {\n",
       "        vertical-align: top;\n",
       "    }\n",
       "\n",
       "    .dataframe thead th {\n",
       "        text-align: right;\n",
       "    }\n",
       "</style>\n",
       "<table border=\"1\" class=\"dataframe\">\n",
       "  <thead>\n",
       "    <tr style=\"text-align: right;\">\n",
       "      <th></th>\n",
       "      <th>unit_id</th>\n",
       "      <th>left_right_ccf_coordinate</th>\n",
       "      <th>anterior_posterior_ccf_coordinate</th>\n",
       "      <th>dorsal_ventral_ccf_coordinate</th>\n",
       "      <th>firing_rate</th>\n",
       "      <th>percentile_rank</th>\n",
       "      <th>color</th>\n",
       "      <th>size_scale</th>\n",
       "    </tr>\n",
       "  </thead>\n",
       "  <tbody>\n",
       "    <tr>\n",
       "      <th>0</th>\n",
       "      <td>1157005856</td>\n",
       "      <td>6719</td>\n",
       "      <td>8453</td>\n",
       "      <td>3353</td>\n",
       "      <td>0.931674</td>\n",
       "      <td>0.262039</td>\n",
       "      <td>#cbbadc</td>\n",
       "      <td>0.046550</td>\n",
       "    </tr>\n",
       "    <tr>\n",
       "      <th>50</th>\n",
       "      <td>1157006720</td>\n",
       "      <td>7383</td>\n",
       "      <td>7899</td>\n",
       "      <td>1149</td>\n",
       "      <td>1.959682</td>\n",
       "      <td>0.380405</td>\n",
       "      <td>#b59ccd</td>\n",
       "      <td>0.052624</td>\n",
       "    </tr>\n",
       "    <tr>\n",
       "      <th>100</th>\n",
       "      <td>1157006690</td>\n",
       "      <td>6908</td>\n",
       "      <td>8282</td>\n",
       "      <td>2698</td>\n",
       "      <td>0.011346</td>\n",
       "      <td>0.029358</td>\n",
       "      <td>#f7f4fa</td>\n",
       "      <td>0.036577</td>\n",
       "    </tr>\n",
       "    <tr>\n",
       "      <th>150</th>\n",
       "      <td>1157006729</td>\n",
       "      <td>7414</td>\n",
       "      <td>7877</td>\n",
       "      <td>1053</td>\n",
       "      <td>0.031252</td>\n",
       "      <td>0.052499</td>\n",
       "      <td>#f3eef7</td>\n",
       "      <td>0.037465</td>\n",
       "    </tr>\n",
       "    <tr>\n",
       "      <th>200</th>\n",
       "      <td>1157006586</td>\n",
       "      <td>7494</td>\n",
       "      <td>7809</td>\n",
       "      <td>760</td>\n",
       "      <td>1.839420</td>\n",
       "      <td>0.367358</td>\n",
       "      <td>#b79fce</td>\n",
       "      <td>0.051917</td>\n",
       "    </tr>\n",
       "    <tr>\n",
       "      <th>...</th>\n",
       "      <td>...</td>\n",
       "      <td>...</td>\n",
       "      <td>...</td>\n",
       "      <td>...</td>\n",
       "      <td>...</td>\n",
       "      <td>...</td>\n",
       "      <td>...</td>\n",
       "      <td>...</td>\n",
       "    </tr>\n",
       "    <tr>\n",
       "      <th>318800</th>\n",
       "      <td>1154604177</td>\n",
       "      <td>7889</td>\n",
       "      <td>7865</td>\n",
       "      <td>800</td>\n",
       "      <td>0.469980</td>\n",
       "      <td>0.198042</td>\n",
       "      <td>#d7cae4</td>\n",
       "      <td>0.043563</td>\n",
       "    </tr>\n",
       "    <tr>\n",
       "      <th>318850</th>\n",
       "      <td>1154604082</td>\n",
       "      <td>7883</td>\n",
       "      <td>7874</td>\n",
       "      <td>845</td>\n",
       "      <td>33.169695</td>\n",
       "      <td>0.981101</td>\n",
       "      <td>#430580</td>\n",
       "      <td>0.098061</td>\n",
       "    </tr>\n",
       "    <tr>\n",
       "      <th>318900</th>\n",
       "      <td>1154604085</td>\n",
       "      <td>7884</td>\n",
       "      <td>7872</td>\n",
       "      <td>836</td>\n",
       "      <td>0.498018</td>\n",
       "      <td>0.202732</td>\n",
       "      <td>#d6c9e4</td>\n",
       "      <td>0.043775</td>\n",
       "    </tr>\n",
       "    <tr>\n",
       "      <th>318950</th>\n",
       "      <td>1154603965</td>\n",
       "      <td>7593</td>\n",
       "      <td>8041</td>\n",
       "      <td>1608</td>\n",
       "      <td>5.407948</td>\n",
       "      <td>0.660167</td>\n",
       "      <td>#8056a9</td>\n",
       "      <td>0.070319</td>\n",
       "    </tr>\n",
       "    <tr>\n",
       "      <th>319000</th>\n",
       "      <td>1154603956</td>\n",
       "      <td>7572</td>\n",
       "      <td>8049</td>\n",
       "      <td>1647</td>\n",
       "      <td>4.030172</td>\n",
       "      <td>0.572660</td>\n",
       "      <td>#906cb4</td>\n",
       "      <td>0.064224</td>\n",
       "    </tr>\n",
       "  </tbody>\n",
       "</table>\n",
       "<p>6381 rows × 8 columns</p>\n",
       "</div>"
      ],
      "text/plain": [
       "           unit_id  left_right_ccf_coordinate  \\\n",
       "0       1157005856                       6719   \n",
       "50      1157006720                       7383   \n",
       "100     1157006690                       6908   \n",
       "150     1157006729                       7414   \n",
       "200     1157006586                       7494   \n",
       "...            ...                        ...   \n",
       "318800  1154604177                       7889   \n",
       "318850  1154604082                       7883   \n",
       "318900  1154604085                       7884   \n",
       "318950  1154603965                       7593   \n",
       "319000  1154603956                       7572   \n",
       "\n",
       "        anterior_posterior_ccf_coordinate  dorsal_ventral_ccf_coordinate  \\\n",
       "0                                    8453                           3353   \n",
       "50                                   7899                           1149   \n",
       "100                                  8282                           2698   \n",
       "150                                  7877                           1053   \n",
       "200                                  7809                            760   \n",
       "...                                   ...                            ...   \n",
       "318800                               7865                            800   \n",
       "318850                               7874                            845   \n",
       "318900                               7872                            836   \n",
       "318950                               8041                           1608   \n",
       "319000                               8049                           1647   \n",
       "\n",
       "        firing_rate  percentile_rank    color  size_scale  \n",
       "0          0.931674         0.262039  #cbbadc    0.046550  \n",
       "50         1.959682         0.380405  #b59ccd    0.052624  \n",
       "100        0.011346         0.029358  #f7f4fa    0.036577  \n",
       "150        0.031252         0.052499  #f3eef7    0.037465  \n",
       "200        1.839420         0.367358  #b79fce    0.051917  \n",
       "...             ...              ...      ...         ...  \n",
       "318800     0.469980         0.198042  #d7cae4    0.043563  \n",
       "318850    33.169695         0.981101  #430580    0.098061  \n",
       "318900     0.498018         0.202732  #d6c9e4    0.043775  \n",
       "318950     5.407948         0.660167  #8056a9    0.070319  \n",
       "319000     4.030172         0.572660  #906cb4    0.064224  \n",
       "\n",
       "[6381 rows x 8 columns]"
      ]
     },
     "execution_count": 34,
     "metadata": {},
     "output_type": "execute_result"
    }
   ],
   "source": [
    "data"
   ]
  },
  {
   "cell_type": "markdown",
   "metadata": {},
   "source": [
    "### Creating graph:"
   ]
  },
  {
   "cell_type": "code",
   "execution_count": 5,
   "metadata": {},
   "outputs": [],
   "source": [
    "import ipywidgets as widgets\n",
    "\n",
    "import numpy as np\n",
    "from matplotlib import pyplot as plt\n"
   ]
  },
  {
   "cell_type": "markdown",
   "metadata": {},
   "source": [
    "## Urchin below:"
   ]
  },
  {
   "cell_type": "code",
   "execution_count": 6,
   "metadata": {},
   "outputs": [
    {
     "name": "stdout",
     "output_type": "stream",
     "text": [
      "(URN) connected to server\n",
      "Login sent with ID: 78cfac02, copy this ID into the renderer to connect.\n"
     ]
    }
   ],
   "source": [
    "#Importing necessary libraries:\n",
    "import oursin as urchin\n",
    "import pandas as pd\n",
    "urchin.setup()"
   ]
  },
  {
   "cell_type": "code",
   "execution_count": 25,
   "metadata": {},
   "outputs": [
    {
     "name": "stdout",
     "output_type": "stream",
     "text": [
      "(Warning) Atlas was already loaded, the renderer can have issues if you try to load an atlas twice.\n"
     ]
    }
   ],
   "source": [
    "urchin.ccf25.load()"
   ]
  },
  {
   "cell_type": "code",
   "execution_count": 26,
   "metadata": {},
   "outputs": [],
   "source": [
    "urchin.ccf25.grey.set_visibility(True)\n",
    "urchin.ccf25.grey.set_material('transparent-unlit')\n",
    "urchin.ccf25.grey.set_color('#000000')\n",
    "urchin.ccf25.grey.set_alpha(0.1)"
   ]
  },
  {
   "cell_type": "code",
   "execution_count": 9,
   "metadata": {},
   "outputs": [],
   "source": [
    "#Setting positions (static):\n",
    "positions_list = []\n",
    "\n",
    "for i, row in data.iterrows():\n",
    "    position = [round(row.left_right_ccf_coordinate), round(row.anterior_posterior_ccf_coordinate), round(row.dorsal_ventral_ccf_coordinate)]\n",
    "    positions_list.append(position)    "
   ]
  },
  {
   "cell_type": "code",
   "execution_count": 10,
   "metadata": {},
   "outputs": [],
   "source": [
    "neurons = urchin.particles.create(len(data))\n",
    "urchin.particles.set_positions(neurons, positions_list) #setting the positions within the renderer"
   ]
  },
  {
   "cell_type": "code",
   "execution_count": 11,
   "metadata": {},
   "outputs": [],
   "source": [
    "urchin.particles.clear()"
   ]
  },
  {
   "cell_type": "code",
   "execution_count": 62,
   "metadata": {},
   "outputs": [],
   "source": [
    "#for more accurate/less visible numbers, divide size / 10\n",
    "def neurons_percentile(t=0):\n",
    "    global neurons\n",
    "    if(t>1):\n",
    "        t=2-t\n",
    "        \n",
    "    size_list = []\n",
    "    for i, row in data.iterrows():\n",
    "        size = (round(row.percentile_rank,1))\n",
    "        if(t != size):\n",
    "            size = 0\n",
    "        size_list.append(size)\n",
    "\n",
    "\n",
    "    urchin.particles.set_sizes(neurons, size_list)\n",
    "\n",
    "\n"
   ]
  },
  {
   "cell_type": "code",
   "execution_count": 63,
   "metadata": {},
   "outputs": [
    {
     "data": {
      "application/vnd.jupyter.widget-view+json": {
       "model_id": "9e8c73f2f41a4fefada3078e04833f5c",
       "version_major": 2,
       "version_minor": 0
      },
      "text/plain": [
       "interactive(children=(FloatSlider(value=0.0, description='t', max=2.0), Output()), _dom_classes=('widget-inter…"
      ]
     },
     "metadata": {},
     "output_type": "display_data"
    },
    {
     "data": {
      "text/plain": [
       "<function __main__.neurons_percentile(t=0)>"
      ]
     },
     "execution_count": 63,
     "metadata": {},
     "output_type": "execute_result"
    }
   ],
   "source": [
    "widgets.interact(neurons_percentile,t=(0.0,2,0.10))"
   ]
  },
  {
   "cell_type": "code",
   "execution_count": null,
   "metadata": {},
   "outputs": [],
   "source": [
    "def update_sizes_from_firing(t=0,a,b,c):\n",
    "    # set urchin sizes with the new sizes {'n1':1}\n",
    "    #directly appends dictionaries to bypass all the other functions w/in urchin\n",
    "\n",
    "urchin.ui.slider_widget(update_sizes_from_firing)\n",
    "    #function displays the actual widget + graph w/o making users import packages + slider functionality and all that"
   ]
  },
  {
   "cell_type": "code",
   "execution_count": 68,
   "metadata": {},
   "outputs": [],
   "source": [
    "x = data[\"percentile_rank\"]\n",
    "x_right = 2 - data[\"percentile_rank\"]\n",
    "#x = x[:-1]\n",
    "x = list(x)\n",
    "#x = x + list(x_right)"
   ]
  },
  {
   "cell_type": "code",
   "execution_count": 69,
   "metadata": {},
   "outputs": [],
   "source": [
    "y = list(data[\"firing_rate\"])\n",
    "#for i in range(max(data.index),0,-50):\n",
    "   # y.append(data.loc[i, 'firing_rate'])"
   ]
  },
  {
   "cell_type": "code",
   "execution_count": 74,
   "metadata": {},
   "outputs": [],
   "source": [
    "def slope_viz_neurons(t=0):\n",
    "    plt.scatter(x, y, label='Firing Rate')\n",
    "    plt.axvline(t, color='red', linestyle='--',)\n",
    "    plt.xlabel('Percentile')\n",
    "    plt.ylabel('Firing Rate')\n",
    "    plt.legend()\n",
    "    plt.show()\n",
    "    neurons_percentile(t)"
   ]
  },
  {
   "cell_type": "code",
   "execution_count": 75,
   "metadata": {},
   "outputs": [
    {
     "data": {
      "application/vnd.jupyter.widget-view+json": {
       "model_id": "27084fce96ba4a6281c214beee4546c0",
       "version_major": 2,
       "version_minor": 0
      },
      "text/plain": [
       "interactive(children=(FloatSlider(value=0.0, description='t', max=1.0), Output()), _dom_classes=('widget-inter…"
      ]
     },
     "metadata": {},
     "output_type": "display_data"
    },
    {
     "data": {
      "text/plain": [
       "<function __main__.slope_viz_neurons(t=0)>"
      ]
     },
     "execution_count": 75,
     "metadata": {},
     "output_type": "execute_result"
    }
   ],
   "source": [
    "widgets.interact(slope_viz_neurons,t=(0.0,1,0.1)) #first argument is the function information is being sent to, second is the argument"
   ]
  }
 ],
 "metadata": {
  "kernelspec": {
   "display_name": "editable-urchin-venv",
   "language": "python",
   "name": "python3"
  },
  "language_info": {
   "codemirror_mode": {
    "name": "ipython",
    "version": 3
   },
   "file_extension": ".py",
   "mimetype": "text/x-python",
   "name": "python",
   "nbconvert_exporter": "python",
   "pygments_lexer": "ipython3",
   "version": "3.8.10"
  }
 },
 "nbformat": 4,
 "nbformat_minor": 2
}
