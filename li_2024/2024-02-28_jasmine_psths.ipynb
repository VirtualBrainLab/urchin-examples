{
 "cells": [
  {
   "cell_type": "code",
   "execution_count": 4,
   "metadata": {},
   "outputs": [],
   "source": [
    "%matplotlib inline\n",
    "%reload_ext autoreload\n",
    "%autoreload 2\n",
    "\n",
    "from IPython.display import clear_output, display, HTML\n",
    "import ipywidgets\n",
    "import matplotlib.pyplot as plt\n",
    "import numpy as np\n",
    "from pathlib import Path\n",
    "import scipy"
   ]
  },
  {
   "cell_type": "code",
   "execution_count": 5,
   "metadata": {},
   "outputs": [],
   "source": [
    "dpath = Path(r'../../data/')\n",
    "st_samp = np.squeeze(np.load(dpath / 'spike_times.npy'))\n",
    "sc = np.squeeze(np.load(dpath / 'spike_clusters.npy'))\n",
    "imIDs = np.squeeze(np.load(dpath / 'natImsIDs.npy'))\n",
    "imTimes = np.squeeze(np.load(dpath / 'natImsOnTimes.npy'))\n",
    "\n",
    "st_s = st_samp / 3e4 # convert from 30khz samples to seconds\n",
    "# set up bin edges - 20 ms here\n",
    "bins_s = np.arange(np.min(st_s), np.max(st_s), 0.02)\n",
    "# make list of lists for spike times specific to each cluster\n",
    "spikes = [st_s[sc == clu] for clu in np.unique(sc)]\n",
    "# bin\n",
    "spk_mat = []\n",
    "for clu in spikes:\n",
    "    counts, _ = np.histogram(clu, bins_s)\n",
    "    spk_mat.append(counts)\n",
    "spk_mat = np.array(spk_mat) # should be [#neurons, #bins]\n",
    "# and your timestamps are the left bin edges, e.g. plot avg pop rate over time\n",
    "# plt.plot(bins_s[:-1], np.mean(spk_mat, axis=0))\n",
    "\n",
    "timestamps = bins_s[:-1]\n",
    "ts_to_ix = scipy.interpolate.interp1d(timestamps, np.arange(len(timestamps)), kind='previous')\n",
    "img_onIxs = ts_to_ix(imTimes).astype('int')"
   ]
  },
  {
   "cell_type": "code",
   "execution_count": 6,
   "metadata": {},
   "outputs": [],
   "source": [
    "window = np.r_[-8:20]\n",
    "tr_ts = window / 0.02\n",
    "\n",
    "# indexing for each trial\n",
    "tr_ixs = [window + i for i in img_onIxs]\n",
    "tr_ixs = np.array(tr_ixs)\n",
    "\n",
    "# pick these timepoints out of spike matrix\n",
    "spks_trs = spk_mat.T[tr_ixs]\n",
    "\n",
    "# separate by image identity\n",
    "im_order = [np.squeeze(np.argwhere(imIDs == i)) for i in np.unique(imIDs)]\n",
    "im_order = np.array(im_order)\n",
    "\n",
    "spks_trs = spks_trs[im_order]"
   ]
  },
  {
   "cell_type": "code",
   "execution_count": 7,
   "metadata": {},
   "outputs": [
    {
     "data": {
      "application/vnd.jupyter.widget-view+json": {
       "model_id": "127d7be239d6415db051153f046fb981",
       "version_major": 2,
       "version_minor": 0
      },
      "text/plain": [
       "interactive(children=(IntSlider(value=0, description='neuron', max=752), Output()), _dom_classes=('widget-inte…"
      ]
     },
     "metadata": {},
     "output_type": "display_data"
    }
   ],
   "source": [
    "def plotPSTH(neuron):\n",
    "    for i in range(len(np.unique(imIDs))):\n",
    "        plt.plot(tr_ts, np.mean(spks_trs[i, :, :, neuron], axis=0))\n",
    "    plt.axvspan(0, 300, color='gray', lw=0, alpha=0.3)\n",
    "    plt.xlabel('time from stimulus onset (ms)')\n",
    "    plt.ylabel('spks / bin')\n",
    "    plt.title(f'neuron {neuron}, spk rate {np.mean(spk_mat[neuron])/0.02:.1f} s$^{{-1}}$')\n",
    "w = ipywidgets.interactive(plotPSTH, neuron=ipywidgets.IntSlider(min=0, max=spk_mat.shape[0]-1, step=1, value=0))\n",
    "display(w)"
   ]
  },
  {
   "cell_type": "code",
   "execution_count": null,
   "metadata": {},
   "outputs": [],
   "source": []
  }
 ],
 "metadata": {
  "kernelspec": {
   "display_name": "anna311",
   "language": "python",
   "name": "python3"
  },
  "language_info": {
   "codemirror_mode": {
    "name": "ipython",
    "version": 3
   },
   "file_extension": ".py",
   "mimetype": "text/x-python",
   "name": "python",
   "nbconvert_exporter": "python",
   "pygments_lexer": "ipython3",
   "version": "3.8.10"
  }
 },
 "nbformat": 4,
 "nbformat_minor": 2
}
