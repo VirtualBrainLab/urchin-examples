{
 "cells": [
  {
   "cell_type": "code",
   "execution_count": 2,
   "metadata": {},
   "outputs": [],
   "source": [
    "import ipywidgets as widgets\n",
    "\n",
    "import numpy as np\n",
    "from matplotlib import pyplot as plt"
   ]
  },
  {
   "cell_type": "markdown",
   "metadata": {},
   "source": [
    "### Creating data"
   ]
  },
  {
   "cell_type": "code",
   "execution_count": 3,
   "metadata": {},
   "outputs": [],
   "source": [
    "x = np.random.uniform(0,5,size = 100)\n",
    "ep = np.random.normal(size = 100)\n",
    "\n",
    "y = 2*x + ep"
   ]
  },
  {
   "cell_type": "markdown",
   "metadata": {},
   "source": [
    "#### Slider"
   ]
  },
  {
   "cell_type": "code",
   "execution_count": 4,
   "metadata": {},
   "outputs": [],
   "source": [
    "def slope_viz(t=1):\n",
    "    plt.scatter(x,y)\n",
    "    #plt.plot(x_values, m*x_values, lw = 3, color = \"black\")\n",
    "    plt.ylim(-1.2,12.2)\n",
    "    plt.axvline(t, color='red', linestyle='--', )\n"
   ]
  },
  {
   "cell_type": "code",
   "execution_count": 5,
   "metadata": {},
   "outputs": [
    {
     "data": {
      "application/vnd.jupyter.widget-view+json": {
       "model_id": "35dabc57bfee409aa8ae0fdc1290cf68",
       "version_major": 2,
       "version_minor": 0
      },
      "text/plain": [
       "interactive(children=(FloatSlider(value=1.0, description='t', max=5.0, step=0.01), Output()), _dom_classes=('w…"
      ]
     },
     "metadata": {},
     "output_type": "display_data"
    },
    {
     "data": {
      "text/plain": [
       "<function __main__.slope_viz(t=1)>"
      ]
     },
     "execution_count": 5,
     "metadata": {},
     "output_type": "execute_result"
    }
   ],
   "source": [
    "widgets.interact(slope_viz,t=(0.0,5,0.01)) #first argument is the function information is being sent to, second is the argument"
   ]
  },
  {
   "cell_type": "markdown",
   "metadata": {},
   "source": [
    "## Incorporating Urchin:"
   ]
  },
  {
   "cell_type": "code",
   "execution_count": 2,
   "metadata": {},
   "outputs": [
    {
     "name": "stdout",
     "output_type": "stream",
     "text": [
      "(URN) connected to server\n",
      "Login sent with ID: 3ae336d2, copy this ID into the renderer to connect.\n"
     ]
    }
   ],
   "source": [
    "#Importing necessary libraries:\n",
    "import oursin as urchin\n",
    "import pandas as pd\n",
    "urchin.setup()\n",
    "# Define a quick convenience function for loading data\n",
    "def get_data(url):\n",
    "    data = url.replace(\"/edit#gid=\", \"/export?format=csv&gid=\")\n",
    "    df = pd.read_csv(data)\n",
    "    return df\n",
    "probe_data = get_data('https://docs.google.com/spreadsheets/d/1T-RG3d_MIBXZKmrGmLnsU-O7GmwY09Z0FY6yqbYyZXI/edit#gid=1457359713')\n",
    "probe_data[\"theta\"] = 90 - probe_data[\"theta\"]\n",
    "probe_data[\"phi\"] = 270 - probe_data[\"phi\"] "
   ]
  },
  {
   "cell_type": "code",
   "execution_count": 3,
   "metadata": {},
   "outputs": [],
   "source": [
    "urchin.ccf25.load()"
   ]
  },
  {
   "cell_type": "code",
   "execution_count": 4,
   "metadata": {},
   "outputs": [],
   "source": [
    "urchin.ccf25.grey.set_visibility(True)\n",
    "urchin.ccf25.grey.set_material('transparent-unlit')\n",
    "urchin.ccf25.grey.set_color('#000000')\n",
    "urchin.ccf25.grey.set_alpha(0.1)"
   ]
  },
  {
   "cell_type": "code",
   "execution_count": 5,
   "metadata": {},
   "outputs": [],
   "source": [
    "def probes_by_session(s = 1):\n",
    "    session_probes = probe_data[probe_data[\"session\"]==s]\n",
    "    probes = urchin.probes.create(len(session_probes))\n",
    "    urchin.probes.set_colors(probes,list(session_probes[\"color\"].values))\n",
    "    \n",
    "    positions_list = []\n",
    "\n",
    "    for i, row in session_probes.iterrows():\n",
    "        position = [row['ap'], row['ml'], row['dv']]\n",
    "        positions_list.append(position)\n",
    "\n",
    "    urchin.probes.set_positions(probes, positions_list) #setting the positions within the renderer\n",
    "\n",
    "    angles_list = []\n",
    "\n",
    "    for i, row in session_probes.iterrows():\n",
    "        angle = [row['phi'], row['theta'], 0] # roll is set to 0\n",
    "        angles_list.append(angle)\n",
    "\n",
    "    urchin.probes.set_angles(probes, angles_list) #setting the positions within the renderer"
   ]
  },
  {
   "cell_type": "code",
   "execution_count": 6,
   "metadata": {},
   "outputs": [
    {
     "data": {
      "application/vnd.jupyter.widget-view+json": {
       "model_id": "aac6430266414022bdbf117a165aad48",
       "version_major": 2,
       "version_minor": 0
      },
      "text/plain": [
       "interactive(children=(FloatSlider(value=1.0, description='s', max=39.0, step=1.0), Output()), _dom_classes=('w…"
      ]
     },
     "metadata": {},
     "output_type": "display_data"
    },
    {
     "data": {
      "text/plain": [
       "<function __main__.probes_by_session(s=1)>"
      ]
     },
     "execution_count": 6,
     "metadata": {},
     "output_type": "execute_result"
    }
   ],
   "source": [
    "widgets.interact(probes_by_session,s=(0.0,39,1.0))"
   ]
  },
  {
   "cell_type": "markdown",
   "metadata": {},
   "source": [
    "### ignore code below:"
   ]
  },
  {
   "cell_type": "code",
   "execution_count": null,
   "metadata": {},
   "outputs": [],
   "source": [
    "old_probes = []\n",
    "    # if(len(old_probes)!= 0):\n",
    "    #     urchin.probes.delete(old_probes)\n",
    "    #old_probes =probes"
   ]
  },
  {
   "cell_type": "code",
   "execution_count": null,
   "metadata": {},
   "outputs": [],
   "source": [
    "#old_probes = [] \n",
    "#if(len(old_probes)!= 0):\n",
    "#        old_probes.delete()\n",
    "slider = widgets.interact(probes_by_session,s=(0.0,39,1.0))\n",
    "old_probes = slider.result"
   ]
  },
  {
   "cell_type": "code",
   "execution_count": null,
   "metadata": {},
   "outputs": [],
   "source": [
    "from IPython.display import display\n",
    "from ipywidgets import interactive"
   ]
  },
  {
   "cell_type": "code",
   "execution_count": null,
   "metadata": {},
   "outputs": [],
   "source": [
    "w = interactive(probes_by_session, s=(0,39,1))"
   ]
  },
  {
   "cell_type": "code",
   "execution_count": null,
   "metadata": {},
   "outputs": [],
   "source": [
    "display(w)"
   ]
  },
  {
   "cell_type": "code",
   "execution_count": null,
   "metadata": {},
   "outputs": [],
   "source": []
  }
 ],
 "metadata": {
  "kernelspec": {
   "display_name": "editable-urchin-venv",
   "language": "python",
   "name": "python3"
  },
  "language_info": {
   "codemirror_mode": {
    "name": "ipython",
    "version": 3
   },
   "file_extension": ".py",
   "mimetype": "text/x-python",
   "name": "python",
   "nbconvert_exporter": "python",
   "pygments_lexer": "ipython3",
   "version": "3.8.10"
  }
 },
 "nbformat": 4,
 "nbformat_minor": 2
}
