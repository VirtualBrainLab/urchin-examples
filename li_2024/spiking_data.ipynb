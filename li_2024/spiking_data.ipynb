{
 "cells": [
  {
   "cell_type": "code",
   "execution_count": 1,
   "metadata": {},
   "outputs": [],
   "source": [
    "import numpy as np\n",
    "import pandas as pd\n",
    "import math\n",
    "from matplotlib import pyplot as plt\n",
    "import ipywidgets as widgets\n",
    "from matplotlib.patches import Rectangle"
   ]
  },
  {
   "cell_type": "code",
   "execution_count": 2,
   "metadata": {},
   "outputs": [],
   "source": [
    "# binning raw data\n",
    "def spikes_bin_data(spike_times_raw_data, spike_clusters_data):\n",
    "    spike_times_raw_data = np.squeeze(spike_times_raw_data)\n",
    "    spike_clusters_data = np.squeeze(spike_clusters_data)\n",
    "    spike_times_sec = spike_times_raw_data / 3e4 # convert from 30khz samples to seconds\n",
    "    # set up bin edges - 20 ms here\n",
    "    bins_seconds = np.arange(np.min(spike_times_sec), np.max(spike_times_sec), 0.02)\n",
    "    # make list of lists for spike times specific to each cluster\n",
    "    spikes = [spike_times_sec[spike_clusters_data == cluster] for cluster in np.unique(spike_clusters_data)]\n",
    "    # bin\n",
    "    binned_spikes = []\n",
    "    for cluster in spikes:\n",
    "        counts, _ = np.histogram(cluster, bins_seconds)  \n",
    "        binned_spikes.append(counts)\n",
    "    binned_spikes = np.array(binned_spikes) # should be [#neurons, #bins]\n",
    "    return binned_spikes"
   ]
  },
  {
   "cell_type": "code",
   "execution_count": 3,
   "metadata": {},
   "outputs": [],
   "source": [
    "# if prev and post aren't exact intervals, flash warning and find nearest bin\n",
    "def spikes_binned_event_average(binned_spikes, event_start, event_ids, bin_size_sec=0.02, window_start_sec = 0.1, window_end_sec = 0.5):\n",
    "    bintime_prev = int(window_start_sec * 50)\n",
    "    bintime_post = int(window_end_sec * 50 + 1)\n",
    "    windowsize = bintime_prev + bintime_post\n",
    "    bin_size = bin_size_sec * 1000\n",
    "\n",
    "    # To bin: divide by 20, floor\n",
    "    stim_binned = np.floor(event_start * 1000 / bin_size).astype(int)\n",
    "    stim_binned = np.transpose(stim_binned)\n",
    "\n",
    "\n",
    "    u_stim_ids = np.unique(event_ids)\n",
    "\n",
    "    # Initialize final_avg matrix\n",
    "    final_avg = np.empty((binned_spikes.shape[0], len(u_stim_ids), windowsize))\n",
    "\n",
    "    for neuron_id in range(binned_spikes.shape[0]):\n",
    "\n",
    "        for stim_id in u_stim_ids:\n",
    "            stim_indices = np.where(event_ids[0] == stim_id)[0]\n",
    "\n",
    "            neuron_stim_data = np.empty((len(stim_indices), windowsize))\n",
    "            \n",
    "            for i, stim_idx in enumerate(stim_indices):\n",
    "                bin_id = int(stim_binned[0][stim_idx])\n",
    "                selected_columns = binned_spikes[neuron_id, bin_id - bintime_prev: bin_id + bintime_post]\n",
    "                neuron_stim_data[i,:] = selected_columns\n",
    "\n",
    "            bin_average = np.mean(neuron_stim_data, axis=0)/bin_size_sec\n",
    "            final_avg[neuron_id, int(stim_id) - 1, :] = bin_average\n",
    "    return final_avg\n"
   ]
  },
  {
   "cell_type": "code",
   "execution_count": 4,
   "metadata": {},
   "outputs": [],
   "source": [
    "from pathlib import Path\n",
    "dpath = Path(r'../../data/')\n",
    "st_samp = np.load(dpath / 'spike_times.npy')\n",
    "sc = np.load(dpath / 'spike_clusters.npy')\n",
    "binned_spikes = spikes_bin_data(st_samp,sc)\n",
    "event_start = np.load(\"../../data/natImsOnTimes.npy\")\n",
    "event_ids = np.load(\"../../data/natImsIDs.npy\") \n",
    "test = spikes_binned_event_average(binned_spikes,event_start,event_ids)"
   ]
  },
  {
   "cell_type": "code",
   "execution_count": null,
   "metadata": {},
   "outputs": [],
   "source": [
    "# Static graph below for all stimuli per neuron\n",
    "# for i in range(0,10):\n",
    "#     y = test[36][i]\n",
    "#     x = np.arange(-100, 520, step=20)\n",
    "#     plt.plot(x,y)\n",
    "\n",
    "\n",
    "\n",
    "# plt.xlabel('Time from stimulus onset (20 ms bins)')\n",
    "\n",
    "# plt.ylabel('Number of Spikes Per Second')\n",
    "# plt.title('Neuron [36] Spiking Activity with Respect to Each Stimulus')\n",
    "\n",
    "# # Add the gray rectangle\n",
    "# plt.axvspan(0, 300, color='gray', alpha=0.3)\n",
    "\n",
    "# plt.show()\n"
   ]
  },
  {
   "cell_type": "code",
   "execution_count": null,
   "metadata": {},
   "outputs": [],
   "source": [
    "# Static graph for all neruons per stimuli\n",
    "# for i in range(0,753):\n",
    "#     y = test[i][9]\n",
    "#     x = np.arange(-100, 520, step=20)\n",
    "#     plt.plot(x,y)\n",
    "   \n",
    "\n",
    "\n",
    "# plt.xlabel('Time from Stimulus ID [0] display (20 ms bins)')\n",
    "\n",
    "# plt.ylabel('Number of Spikes Per Second')\n",
    "# plt.title('Neuron Spiking Activity with Respect to Stimulus ID [0]')\n",
    "\n",
    "# # Add the gray rectangle\n",
    "# plt.axvspan(0, 300, color='gray', alpha=0.3)\n",
    "\n",
    "# plt.show()"
   ]
  },
  {
   "cell_type": "code",
   "execution_count": null,
   "metadata": {},
   "outputs": [],
   "source": [
    "def plot_event_average_interaction(): #wrapper function\n",
    "    \n",
    "#graph: slider for time, dropdown for which id to show"
   ]
  },
  {
   "cell_type": "code",
   "execution_count": 8,
   "metadata": {},
   "outputs": [],
   "source": [
    "def slope_viz_stimuli_per_neuron(t=-100, neuron_id = 355):\n",
    "    \n",
    "    # Plotting data:\n",
    "    for i in range(0,test.shape[1]):\n",
    "        y = test[neuron_id][i]\n",
    "        x = np.arange(-100, 520, step=20)\n",
    "        plt.plot(x,y)\n",
    "\n",
    "    # Labels:\n",
    "    plt.xlabel('Time from stimulus onset')\n",
    "    plt.ylabel('Number of Spikes Per Second')\n",
    "    plt.title(f'Neuron {neuron_id} Spiking Activity with Respect to Each Stimulus')\n",
    "\n",
    "    #Accessories:\n",
    "    plt.axvspan(0, 300, color='gray', alpha=0.3)\n",
    "    plt.axvline(t, color='red', linestyle='--',)\n",
    "    # Set y-axis limits\n",
    "     # Calculate y-axis limits\n",
    "    max_y = max([max(test[neuron_id][i]) for i in range(10)])  # Maximum y-value across all lines\n",
    "    if max_y < 10:\n",
    "        max_y = 10  # Set ymax to 10 if the default max is lower than 10\n",
    "    plt.ylim(0, max_y)\n",
    "   \n",
    "    # plt.legend()\n",
    "    plt.show()"
   ]
  },
  {
   "cell_type": "code",
   "execution_count": 5,
   "metadata": {},
   "outputs": [],
   "source": [
    "def slope_viz_neurons_per_stimuli(t = -100, stim_id = 0):\n",
    "    # Plotting data:\n",
    "    for i in range(0,test.shape[0]):\n",
    "        y = test[i][stim_id]\n",
    "        x = np.arange(-100, 520, step=20)\n",
    "        plt.plot(x,y)\n",
    "    \n",
    "    # Labels:\n",
    "    plt.xlabel(f'Time from Stimulus {stim_id} display (20 ms bins)')\n",
    "    plt.ylabel('Number of Spikes Per Second')\n",
    "    plt.title(f'Neuron Spiking Activity with Respect to Stimulus ID {stim_id}')\n",
    "\n",
    "    # Accessories:\n",
    "    plt.axvspan(0, 300, color='gray', alpha=0.3)\n",
    "    plt.axvline(t, color='red', linestyle='--',)\n",
    "\n",
    "    plt.show()"
   ]
  },
  {
   "cell_type": "code",
   "execution_count": 6,
   "metadata": {},
   "outputs": [],
   "source": [
    "time_slider = widgets.IntSlider(value=-100, min=-100, max=500, step=5, description='Time')\n",
    "time_slider.layout.width = '6.55in'\n",
    "time_slider.layout.margin = '0 -15px'\n",
    "\n",
    "neuron_dropdown = widgets.Dropdown(\n",
    "    options= range(0,test.shape[0]),\n",
    "    value=355,\n",
    "    description='Neuron ID:',\n",
    ")\n",
    "neuron_dropdown.layout.margin = \"20px 20px\"\n",
    "\n",
    "stimuli_dropdown = widgets.Dropdown(\n",
    "    options= range(0,test.shape[1]),\n",
    "    value=0,\n",
    "    description='Stimulus ID:',\n",
    ")\n",
    "stimuli_dropdown.layout.margin = \"20px 20px\"\n",
    "\n",
    "# select_view_button = widgets.RadioButtons(\n",
    "#     options=[(\"Stimulus View\", \"stim\"), (\"Neuron View\", 'neuron')],\n",
    "#     value = 'stim',\n",
    "#     description='Select View:',\n",
    "# )"
   ]
  },
  {
   "cell_type": "code",
   "execution_count": 9,
   "metadata": {},
   "outputs": [
    {
     "data": {
      "application/vnd.jupyter.widget-view+json": {
       "model_id": "41b0baa9a70944b8b259f8d962270844",
       "version_major": 2,
       "version_minor": 0
      },
      "text/plain": [
       "VBox(children=(Dropdown(description='Neuron ID:', index=355, layout=Layout(margin='20px 20px'), options=(0, 1,…"
      ]
     },
     "metadata": {},
     "output_type": "display_data"
    },
    {
     "data": {
      "application/vnd.jupyter.widget-view+json": {
       "model_id": "35f6d0cced6c47a2a452f894da216869",
       "version_major": 2,
       "version_minor": 0
      },
      "text/plain": [
       "Output()"
      ]
     },
     "metadata": {},
     "output_type": "display_data"
    }
   ],
   "source": [
    "# Link the function with the interact function\n",
    "output = widgets.interactive_output(slope_viz_stimuli_per_neuron, {'t': time_slider, 'neuron_id': neuron_dropdown})\n",
    "\n",
    "# Display the widgets and the output\n",
    "display(widgets.VBox([neuron_dropdown,time_slider]))\n",
    "display(output)"
   ]
  },
  {
   "cell_type": "code",
   "execution_count": 7,
   "metadata": {},
   "outputs": [
    {
     "data": {
      "application/vnd.jupyter.widget-view+json": {
       "model_id": "c12b66c590a74dcd8a9a62045f4f9020",
       "version_major": 2,
       "version_minor": 0
      },
      "text/plain": [
       "VBox(children=(Dropdown(description='Stimulus ID:', layout=Layout(margin='20px 20px'), options=(0, 1, 2, 3, 4,…"
      ]
     },
     "metadata": {},
     "output_type": "display_data"
    },
    {
     "data": {
      "application/vnd.jupyter.widget-view+json": {
       "model_id": "fdc08a380b1442bdbb6b38ee806edff2",
       "version_major": 2,
       "version_minor": 0
      },
      "text/plain": [
       "Output()"
      ]
     },
     "metadata": {},
     "output_type": "display_data"
    }
   ],
   "source": [
    "output = widgets.interactive_output(slope_viz_neurons_per_stimuli, {'t': time_slider, 'stim_id': stimuli_dropdown})\n",
    "# Display the widgets and the output\n",
    "display(widgets.VBox([stimuli_dropdown,time_slider]))\n",
    "display(output)"
   ]
  },
  {
   "cell_type": "code",
   "execution_count": 17,
   "metadata": {},
   "outputs": [],
   "source": [
    "def plot_appropriate_graph(view=\"stim\"):\n",
    "    # plt.clf()  # Clear the current plot\n",
    "    \n",
    "    if view == \"stim\":\n",
    "        output = widgets.interactive_output(slope_viz_neurons_per_stimuli, {'t': time_slider, 'stim_id': stimuli_dropdown})\n",
    "        # Display the widgets and the output\n",
    "        display(widgets.VBox([stimuli_dropdown,time_slider]))\n",
    "        display(output)\n",
    "    \n",
    "    elif view == \"neuron\":\n",
    "        # Link the function with the interact function\n",
    "        output = widgets.interactive_output(slope_viz_stimuli_per_neuron, {'t': time_slider, 'neuron_id': neuron_dropdown})\n",
    "\n",
    "        # Display the widgets and the output\n",
    "        display(widgets.VBox([neuron_dropdown,time_slider]))\n",
    "        display(output)\n",
    "\n",
    "# Define the radio button widget\n",
    "# select_view_button = widgets.RadioButtons(\n",
    "#     options=[(\"Stimulus View\", \"stim\"), (\"Neuron View\", \"neuron\")],\n",
    "#     value='stim',\n",
    "#     description='Select View:'\n",
    "# )\n",
    "\n",
    "# Observe changes in the radio button and trigger plot_appropriate_graph\n",
    "# select_view_button.observe(lambda change: plot_appropriate_graph(change.new), names='value')\n",
    "\n",
    "# # Display the radio button widget\n",
    "# display(select_view_button)\n"
   ]
  },
  {
   "cell_type": "code",
   "execution_count": 19,
   "metadata": {},
   "outputs": [
    {
     "data": {
      "application/vnd.jupyter.widget-view+json": {
       "model_id": "a802affd918a4e6a888f7efbb6d24e00",
       "version_major": 2,
       "version_minor": 0
      },
      "text/plain": [
       "VBox(children=(Dropdown(description='Stimulus ID:', index=5, layout=Layout(margin='20px 20px'), options=(0, 1,…"
      ]
     },
     "metadata": {},
     "output_type": "display_data"
    },
    {
     "data": {
      "application/vnd.jupyter.widget-view+json": {
       "model_id": "c63de3f147b24e919b20d00f39b60560",
       "version_major": 2,
       "version_minor": 0
      },
      "text/plain": [
       "Output()"
      ]
     },
     "metadata": {},
     "output_type": "display_data"
    }
   ],
   "source": [
    "plot_appropriate_graph(\"stim\")"
   ]
  },
  {
   "cell_type": "code",
   "execution_count": null,
   "metadata": {},
   "outputs": [],
   "source": []
  }
 ],
 "metadata": {
  "kernelspec": {
   "display_name": "editable-urchin-venv",
   "language": "python",
   "name": "python3"
  },
  "language_info": {
   "codemirror_mode": {
    "name": "ipython",
    "version": 3
   },
   "file_extension": ".py",
   "mimetype": "text/x-python",
   "name": "python",
   "nbconvert_exporter": "python",
   "pygments_lexer": "ipython3",
   "version": "3.8.10"
  }
 },
 "nbformat": 4,
 "nbformat_minor": 2
}
