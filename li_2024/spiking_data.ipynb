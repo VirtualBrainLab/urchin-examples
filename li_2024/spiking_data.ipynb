{
 "cells": [
  {
   "cell_type": "code",
   "execution_count": 39,
   "metadata": {},
   "outputs": [
    {
     "name": "stdout",
     "output_type": "stream",
     "text": [
      "(urchin) Client is already connected. Use ID: 827316a5\n"
     ]
    }
   ],
   "source": [
    "import numpy as np\n",
    "from matplotlib import pyplot as plt\n",
    "import ipywidgets as widgets\n",
    "#Importing necessary libraries:\n",
    "import oursin as urchin\n",
    "import pandas as pd\n",
    "urchin.setup()\n",
    "# from matplotlib.patches import Rectangle"
   ]
  },
  {
   "cell_type": "code",
   "execution_count": 40,
   "metadata": {},
   "outputs": [],
   "source": [
    "# binning raw data\n",
    "def spikes_bin_data(spike_times_raw_data, spike_clusters_data):\n",
    "    spike_times_raw_data = np.squeeze(spike_times_raw_data)\n",
    "    spike_clusters_data = np.squeeze(spike_clusters_data)\n",
    "    spike_times_sec = spike_times_raw_data / 3e4 # convert from 30khz samples to seconds\n",
    "    # set up bin edges - 20 ms here\n",
    "    bins_seconds = np.arange(np.min(spike_times_sec), np.max(spike_times_sec), 0.02)\n",
    "    # make list of lists for spike times specific to each cluster\n",
    "    spikes = [spike_times_sec[spike_clusters_data == cluster] for cluster in np.unique(spike_clusters_data)]\n",
    "    # bin\n",
    "    binned_spikes = []\n",
    "    for cluster in spikes:\n",
    "        counts, _ = np.histogram(cluster, bins_seconds)  \n",
    "        binned_spikes.append(counts)\n",
    "    binned_spikes = np.array(binned_spikes) # should be [#neurons, #bins]\n",
    "    return binned_spikes"
   ]
  },
  {
   "cell_type": "code",
   "execution_count": 41,
   "metadata": {},
   "outputs": [],
   "source": [
    "# if prev and post aren't exact intervals, flash warning and find nearest bin\n",
    "def spikes_binned_event_average(binned_spikes, event_start, event_ids, bin_size_sec=0.02, window_start_sec = 0.1, window_end_sec = 0.5):\n",
    "    bintime_prev = int(window_start_sec * 50)\n",
    "    bintime_post = int(window_end_sec * 50 + 1)\n",
    "    windowsize = bintime_prev + bintime_post\n",
    "    bin_size = bin_size_sec * 1000\n",
    "\n",
    "    # To bin: divide by 20, floor\n",
    "    stim_binned = np.floor(event_start * 1000 / bin_size).astype(int)\n",
    "    stim_binned = np.transpose(stim_binned)\n",
    "\n",
    "\n",
    "    u_stim_ids = np.unique(event_ids)\n",
    "\n",
    "    # Initialize final_avg matrix\n",
    "    final_avg = np.empty((binned_spikes.shape[0], len(u_stim_ids), windowsize))\n",
    "\n",
    "    for neuron_id in range(binned_spikes.shape[0]):\n",
    "\n",
    "        for stim_id in u_stim_ids:\n",
    "            stim_indices = np.where(event_ids[0] == stim_id)[0]\n",
    "\n",
    "            neuron_stim_data = np.empty((len(stim_indices), windowsize))\n",
    "            \n",
    "            for i, stim_idx in enumerate(stim_indices):\n",
    "                bin_id = int(stim_binned[0][stim_idx])\n",
    "                selected_columns = binned_spikes[neuron_id, bin_id - bintime_prev: bin_id + bintime_post]\n",
    "                neuron_stim_data[i,:] = selected_columns\n",
    "\n",
    "            bin_average = np.mean(neuron_stim_data, axis=0)/bin_size_sec\n",
    "            final_avg[neuron_id, int(stim_id) - 1, :] = bin_average\n",
    "    return final_avg\n"
   ]
  },
  {
   "cell_type": "code",
   "execution_count": 42,
   "metadata": {},
   "outputs": [],
   "source": [
    "# processing data appropriately\n",
    "from pathlib import Path\n",
    "dpath = Path(r'../../data/')\n",
    "st_samp = np.load(dpath / 'spike_times.npy')\n",
    "sc = np.load(dpath / 'spike_clusters.npy')\n",
    "binned_spikes = spikes_bin_data(st_samp,sc)\n",
    "event_start = np.load(\"../../data/natImsOnTimes.npy\")\n",
    "event_ids = np.load(\"../../data/natImsIDs.npy\") \n",
    "prepped_data = spikes_binned_event_average(binned_spikes,event_start,event_ids)"
   ]
  },
  {
   "cell_type": "code",
   "execution_count": 80,
   "metadata": {},
   "outputs": [
    {
     "data": {
      "text/html": [
       "<div>\n",
       "<style scoped>\n",
       "    .dataframe tbody tr th:only-of-type {\n",
       "        vertical-align: middle;\n",
       "    }\n",
       "\n",
       "    .dataframe tbody tr th {\n",
       "        vertical-align: top;\n",
       "    }\n",
       "\n",
       "    .dataframe thead th {\n",
       "        text-align: right;\n",
       "    }\n",
       "</style>\n",
       "<table border=\"1\" class=\"dataframe\">\n",
       "  <thead>\n",
       "    <tr style=\"text-align: right;\">\n",
       "      <th></th>\n",
       "      <th>unit_id</th>\n",
       "      <th>left_right_ccf_coordinate</th>\n",
       "      <th>anterior_posterior_ccf_coordinate</th>\n",
       "      <th>dorsal_ventral_ccf_coordinate</th>\n",
       "      <th>firing_rate</th>\n",
       "      <th>percentile_rank</th>\n",
       "      <th>color</th>\n",
       "      <th>size_scale</th>\n",
       "    </tr>\n",
       "  </thead>\n",
       "  <tbody>\n",
       "    <tr>\n",
       "      <th>0</th>\n",
       "      <td>1049373121</td>\n",
       "      <td>7369</td>\n",
       "      <td>8149</td>\n",
       "      <td>3916</td>\n",
       "      <td>3.087015</td>\n",
       "      <td>0.494522</td>\n",
       "      <td>#9f7fbe</td>\n",
       "      <td>0.059229</td>\n",
       "    </tr>\n",
       "    <tr>\n",
       "      <th>1</th>\n",
       "      <td>1049374828</td>\n",
       "      <td>7522</td>\n",
       "      <td>7948</td>\n",
       "      <td>1446</td>\n",
       "      <td>0.303878</td>\n",
       "      <td>0.166482</td>\n",
       "      <td>#ddd2e8</td>\n",
       "      <td>0.042162</td>\n",
       "    </tr>\n",
       "    <tr>\n",
       "      <th>2</th>\n",
       "      <td>1049375242</td>\n",
       "      <td>7635</td>\n",
       "      <td>8838</td>\n",
       "      <td>3097</td>\n",
       "      <td>0.865969</td>\n",
       "      <td>0.254040</td>\n",
       "      <td>#ccbcdd</td>\n",
       "      <td>0.046166</td>\n",
       "    </tr>\n",
       "    <tr>\n",
       "      <th>3</th>\n",
       "      <td>1049375653</td>\n",
       "      <td>8807</td>\n",
       "      <td>8436</td>\n",
       "      <td>3000</td>\n",
       "      <td>23.292304</td>\n",
       "      <td>0.959434</td>\n",
       "      <td>#470b83</td>\n",
       "      <td>0.095884</td>\n",
       "    </tr>\n",
       "    <tr>\n",
       "      <th>4</th>\n",
       "      <td>1049376065</td>\n",
       "      <td>8010</td>\n",
       "      <td>8653</td>\n",
       "      <td>3520</td>\n",
       "      <td>4.770111</td>\n",
       "      <td>0.622959</td>\n",
       "      <td>#875fae</td>\n",
       "      <td>0.067660</td>\n",
       "    </tr>\n",
       "    <tr>\n",
       "      <th>...</th>\n",
       "      <td>...</td>\n",
       "      <td>...</td>\n",
       "      <td>...</td>\n",
       "      <td>...</td>\n",
       "      <td>...</td>\n",
       "      <td>...</td>\n",
       "      <td>...</td>\n",
       "      <td>...</td>\n",
       "    </tr>\n",
       "    <tr>\n",
       "      <th>748</th>\n",
       "      <td>1179687886</td>\n",
       "      <td>7785</td>\n",
       "      <td>8102</td>\n",
       "      <td>3279</td>\n",
       "      <td>23.573880</td>\n",
       "      <td>0.960422</td>\n",
       "      <td>#470a83</td>\n",
       "      <td>0.095982</td>\n",
       "    </tr>\n",
       "    <tr>\n",
       "      <th>749</th>\n",
       "      <td>1179688295</td>\n",
       "      <td>6774</td>\n",
       "      <td>8399</td>\n",
       "      <td>3813</td>\n",
       "      <td>17.889792</td>\n",
       "      <td>0.931918</td>\n",
       "      <td>#4c1286</td>\n",
       "      <td>0.093189</td>\n",
       "    </tr>\n",
       "    <tr>\n",
       "      <th>750</th>\n",
       "      <td>1179688724</td>\n",
       "      <td>8609</td>\n",
       "      <td>7763</td>\n",
       "      <td>1112</td>\n",
       "      <td>7.807732</td>\n",
       "      <td>0.763063</td>\n",
       "      <td>#6c3c9c</td>\n",
       "      <td>0.078231</td>\n",
       "    </tr>\n",
       "    <tr>\n",
       "      <th>751</th>\n",
       "      <td>1179689171</td>\n",
       "      <td>8946</td>\n",
       "      <td>8042</td>\n",
       "      <td>1383</td>\n",
       "      <td>0.006436</td>\n",
       "      <td>0.018244</td>\n",
       "      <td>#f9f7fb</td>\n",
       "      <td>0.036159</td>\n",
       "    </tr>\n",
       "    <tr>\n",
       "      <th>752</th>\n",
       "      <td>1179693412</td>\n",
       "      <td>7604</td>\n",
       "      <td>7698</td>\n",
       "      <td>615</td>\n",
       "      <td>7.982956</td>\n",
       "      <td>0.768962</td>\n",
       "      <td>#6b3a9b</td>\n",
       "      <td>0.078711</td>\n",
       "    </tr>\n",
       "  </tbody>\n",
       "</table>\n",
       "<p>753 rows × 8 columns</p>\n",
       "</div>"
      ],
      "text/plain": [
       "        unit_id  left_right_ccf_coordinate  anterior_posterior_ccf_coordinate  \\\n",
       "0    1049373121                       7369                               8149   \n",
       "1    1049374828                       7522                               7948   \n",
       "2    1049375242                       7635                               8838   \n",
       "3    1049375653                       8807                               8436   \n",
       "4    1049376065                       8010                               8653   \n",
       "..          ...                        ...                                ...   \n",
       "748  1179687886                       7785                               8102   \n",
       "749  1179688295                       6774                               8399   \n",
       "750  1179688724                       8609                               7763   \n",
       "751  1179689171                       8946                               8042   \n",
       "752  1179693412                       7604                               7698   \n",
       "\n",
       "     dorsal_ventral_ccf_coordinate  firing_rate  percentile_rank    color  \\\n",
       "0                             3916     3.087015         0.494522  #9f7fbe   \n",
       "1                             1446     0.303878         0.166482  #ddd2e8   \n",
       "2                             3097     0.865969         0.254040  #ccbcdd   \n",
       "3                             3000    23.292304         0.959434  #470b83   \n",
       "4                             3520     4.770111         0.622959  #875fae   \n",
       "..                             ...          ...              ...      ...   \n",
       "748                           3279    23.573880         0.960422  #470a83   \n",
       "749                           3813    17.889792         0.931918  #4c1286   \n",
       "750                           1112     7.807732         0.763063  #6c3c9c   \n",
       "751                           1383     0.006436         0.018244  #f9f7fb   \n",
       "752                            615     7.982956         0.768962  #6b3a9b   \n",
       "\n",
       "     size_scale  \n",
       "0      0.059229  \n",
       "1      0.042162  \n",
       "2      0.046166  \n",
       "3      0.095884  \n",
       "4      0.067660  \n",
       "..          ...  \n",
       "748    0.095982  \n",
       "749    0.093189  \n",
       "750    0.078231  \n",
       "751    0.036159  \n",
       "752    0.078711  \n",
       "\n",
       "[753 rows x 8 columns]"
      ]
     },
     "execution_count": 80,
     "metadata": {},
     "output_type": "execute_result"
    }
   ],
   "source": [
    "# pulling in location data\n",
    "locations = pd.read_csv(\"../../data/allen_visual_behavior_firing_rate_modified.csv\")\n",
    "locations = locations.iloc[::400]\n",
    "locations = locations.iloc[:753]\n",
    "locations.reset_index(drop=True, inplace = True)\n",
    "locations"
   ]
  },
  {
   "cell_type": "code",
   "execution_count": 64,
   "metadata": {},
   "outputs": [],
   "source": [
    "# def plot_event_average_interaction(): #wrapper function\n",
    "    \n",
    "#graph: slider for time, dropdown for which id to show"
   ]
  },
  {
   "cell_type": "code",
   "execution_count": 65,
   "metadata": {},
   "outputs": [],
   "source": [
    "def slope_viz_stimuli_per_neuron(t=-100, neuron_id = 0):\n",
    "    \n",
    "    # Plotting data:\n",
    "    for i in range(0,prepped_data.shape[1]):\n",
    "        y = prepped_data[neuron_id][i]\n",
    "        x = np.arange(-100, 520, step=20)\n",
    "        plt.plot(x,y)\n",
    "\n",
    "    # Labels:\n",
    "    plt.xlabel('Time from stimulus onset')\n",
    "    plt.ylabel('Number of Spikes Per Second')\n",
    "    plt.title(f'Neuron {neuron_id} Spiking Activity with Respect to Each Stimulus')\n",
    "\n",
    "    #Accessories:\n",
    "    plt.axvspan(0, 300, color='gray', alpha=0.3)\n",
    "    plt.axvline(t, color='red', linestyle='--',)\n",
    "    # Set y-axis limits\n",
    "     # Calculate y-axis limits\n",
    "    max_y = max([max(prepped_data[neuron_id][i]) for i in range(10)])  # Maximum y-value across all lines\n",
    "    if max_y < 10:\n",
    "        max_y = 10  # Set ymax to 10 if the default max is lower than 10\n",
    "    plt.ylim(0, max_y)\n",
    "   \n",
    "    # plt.legend()\n",
    "    plt.show()"
   ]
  },
  {
   "cell_type": "code",
   "execution_count": 66,
   "metadata": {},
   "outputs": [],
   "source": [
    "#so new version would take just the neurons that are being changed in size, and the positions that are being changed\n",
    "# [neuron][stim] stayes the same it's just time 3rd col time that's being manipulated as slider moves\n",
    "def update_neuron_sizing(stim_id, t=-100):\n",
    "    global neurons\n",
    "    \n",
    "    t = round((t+100)/20)\n",
    "        \n",
    "    size_list = []\n",
    "    for i in range(binned_spikes.shape[0]):\n",
    "        size = round(prepped_data[i][stim_id][t]/100,1)\n",
    "        # size = (round(row.percentile_rank,1))\n",
    "        size_list.append(size)\n",
    "\n",
    "\n",
    "    urchin.particles.set_sizes(neurons, size_list)"
   ]
  },
  {
   "cell_type": "code",
   "execution_count": 67,
   "metadata": {},
   "outputs": [],
   "source": [
    "def slope_viz_neurons_per_stimuli(t = -100, stim_id = 0):\n",
    "    # Plotting data:\n",
    "    for i in range(0,prepped_data.shape[0]):\n",
    "        y = prepped_data[i][stim_id]\n",
    "        x = np.arange(-100, 520, step=20)\n",
    "        plt.plot(x,y)\n",
    "    \n",
    "    # Labels:\n",
    "    plt.xlabel(f'Time from Stimulus {stim_id} display (20 ms bins)')\n",
    "    plt.ylabel('Number of Spikes Per Second')\n",
    "    plt.title(f'Neuron Spiking Activity with Respect to Stimulus ID {stim_id}')\n",
    "\n",
    "    # Accessories:\n",
    "    plt.axvspan(0, 300, color='gray', alpha=0.3)\n",
    "    plt.axvline(t, color='red', linestyle='--',)\n",
    "\n",
    "    plt.show()\n",
    "\n",
    "    update_neuron_sizing(stim_id, t)\n",
    "    "
   ]
  },
  {
   "cell_type": "code",
   "execution_count": 68,
   "metadata": {},
   "outputs": [],
   "source": [
    "# time_slider = widgets.IntSlider(value=-100, min=-100, max=500, step=5, description='Time')\n",
    "# time_slider.layout.width = '6.55in'\n",
    "# time_slider.layout.margin = '0 -15px'\n",
    "\n",
    "# neuron_dropdown = widgets.Dropdown(\n",
    "#     options= range(0,prepped_data.shape[0]),\n",
    "#     value=355,\n",
    "#     description='Neuron ID:',\n",
    "# )\n",
    "# neuron_dropdown.layout.margin = \"20px 20px\"\n",
    "\n",
    "# stimuli_dropdown = widgets.Dropdown(\n",
    "#     options= range(0,prepped_data.shape[1]),\n",
    "#     value=0,\n",
    "#     description='Stimulus ID:',\n",
    "# )\n",
    "# stimuli_dropdown.layout.margin = \"20px 20px\"\n",
    "\n",
    "# select_view_button = widgets.RadioButtons(\n",
    "#     options=[(\"Stimulus View\", \"stim\"), (\"Neuron View\", 'neuron')],\n",
    "#     value = 'stim',\n",
    "#     description='Select View:',\n",
    "# )"
   ]
  },
  {
   "cell_type": "code",
   "execution_count": 69,
   "metadata": {},
   "outputs": [],
   "source": [
    "# # Display interactive neuron graph:\n",
    "# output = widgets.interactive_output(slope_viz_stimuli_per_neuron(prepped_data), {'t': time_slider, 'neuron_id': neuron_dropdown})\n",
    "\n",
    "# # Display the widgets and the output\n",
    "# display(widgets.VBox([neuron_dropdown,time_slider]))\n",
    "# display(output)"
   ]
  },
  {
   "cell_type": "code",
   "execution_count": 70,
   "metadata": {},
   "outputs": [],
   "source": [
    "# # Display interactive stimulus graph:\n",
    "# output = widgets.interactive_output(slope_viz_neurons_per_stimuli(prepped_data), {'t': time_slider, 'stim_id': stimuli_dropdown})\n",
    "# # Display the widgets and the output\n",
    "# display(widgets.VBox([stimuli_dropdown,time_slider]))\n",
    "# display(output)"
   ]
  },
  {
   "cell_type": "code",
   "execution_count": 71,
   "metadata": {},
   "outputs": [],
   "source": [
    "def plot_appropriate_graph(view=\"stim\"):\n",
    "    time_slider = widgets.IntSlider(value=-100, min=-100, max=500, step=5, description='Time')\n",
    "    time_slider.layout.width = '6.53in'\n",
    "    time_slider.layout.margin = '0 -4px'\n",
    "    \n",
    "    if view == \"stim\":\n",
    "        stimuli_dropdown = widgets.Dropdown(\n",
    "            options= range(0,prepped_data.shape[1]),\n",
    "            value=0,\n",
    "            description='Stimulus ID:',\n",
    "        )\n",
    "        stimuli_dropdown.layout.margin = \"20px 20px\"\n",
    "        output = widgets.interactive_output(slope_viz_neurons_per_stimuli, {'t': time_slider, 'stim_id': stimuli_dropdown})\n",
    "        # Display the widgets and the output\n",
    "        display(widgets.VBox([stimuli_dropdown,time_slider]))\n",
    "        display(output)\n",
    "    \n",
    "    elif view == \"neuron\":\n",
    "        neuron_dropdown = widgets.Dropdown(\n",
    "            options= range(0,prepped_data.shape[0]),\n",
    "            value=355,\n",
    "            description='Neuron ID:',\n",
    "        )\n",
    "        neuron_dropdown.layout.margin = \"20px 20px\"\n",
    "\n",
    "        # Link the function with the interact function\n",
    "        output = widgets.interactive_output(slope_viz_stimuli_per_neuron, {'t': time_slider, 'neuron_id': neuron_dropdown})\n",
    "\n",
    "        # Display the widgets and the output\n",
    "        display(widgets.VBox([neuron_dropdown,time_slider]))\n",
    "        display(output)\n"
   ]
  },
  {
   "cell_type": "markdown",
   "metadata": {},
   "source": [
    "Incorporating Urchin portion below:"
   ]
  },
  {
   "cell_type": "code",
   "execution_count": 72,
   "metadata": {},
   "outputs": [
    {
     "name": "stdout",
     "output_type": "stream",
     "text": [
      "(Warning) Atlas was already loaded, the renderer can have issues if you try to load an atlas twice.\n"
     ]
    }
   ],
   "source": [
    "urchin.ccf25.load()"
   ]
  },
  {
   "cell_type": "code",
   "execution_count": 75,
   "metadata": {},
   "outputs": [],
   "source": [
    "urchin.ccf25.grey.set_visibility(True)\n",
    "urchin.ccf25.grey.set_material('transparent-unlit')\n",
    "urchin.ccf25.grey.set_color('#000000')\n",
    "urchin.ccf25.grey.set_alpha(0.1)"
   ]
  },
  {
   "cell_type": "code",
   "execution_count": 81,
   "metadata": {},
   "outputs": [],
   "source": [
    "#Setting positions (static):\n",
    "positions_list = []\n",
    "\n",
    "for i, row in locations.iterrows():\n",
    "    position = [round(row.left_right_ccf_coordinate), round(row.anterior_posterior_ccf_coordinate), round(row.dorsal_ventral_ccf_coordinate)]\n",
    "    positions_list.append(position)    "
   ]
  },
  {
   "cell_type": "code",
   "execution_count": 82,
   "metadata": {},
   "outputs": [],
   "source": [
    "urchin.particles.clear()"
   ]
  },
  {
   "cell_type": "code",
   "execution_count": 83,
   "metadata": {},
   "outputs": [],
   "source": [
    "urchin.particles.set_material('circle')\n",
    "neurons = urchin.particles.create(len(locations))\n",
    "urchin.particles.set_positions(neurons, positions_list) #setting the positions within the renderer"
   ]
  },
  {
   "cell_type": "code",
   "execution_count": 85,
   "metadata": {},
   "outputs": [
    {
     "data": {
      "application/vnd.jupyter.widget-view+json": {
       "model_id": "0aaf087110104c39b4736f4848e9ddcc",
       "version_major": 2,
       "version_minor": 0
      },
      "text/plain": [
       "VBox(children=(Dropdown(description='Stimulus ID:', layout=Layout(margin='20px 20px'), options=(0, 1, 2, 3, 4,…"
      ]
     },
     "metadata": {},
     "output_type": "display_data"
    },
    {
     "data": {
      "application/vnd.jupyter.widget-view+json": {
       "model_id": "3ac951e91d8743618269e6f401d575f1",
       "version_major": 2,
       "version_minor": 0
      },
      "text/plain": [
       "Output()"
      ]
     },
     "metadata": {},
     "output_type": "display_data"
    }
   ],
   "source": [
    "plot_appropriate_graph(\"stim\")"
   ]
  },
  {
   "cell_type": "code",
   "execution_count": 58,
   "metadata": {},
   "outputs": [],
   "source": [
    "## figure out at what point this gets called in the previous function, and how to feed in the stim data to the function"
   ]
  },
  {
   "cell_type": "code",
   "execution_count": 59,
   "metadata": {},
   "outputs": [],
   "source": [
    "# create initial size list, and save existing order\n",
    "\n",
    "# when slide is changed:\n",
    "    # if new size is different from initial\n",
    "        # create new sizing array to feed into urchin\n",
    "        # update size within initial size list\n",
    "\n"
   ]
  },
  {
   "cell_type": "code",
   "execution_count": null,
   "metadata": {},
   "outputs": [],
   "source": []
  }
 ],
 "metadata": {
  "kernelspec": {
   "display_name": "editable-urchin-venv",
   "language": "python",
   "name": "python3"
  },
  "language_info": {
   "codemirror_mode": {
    "name": "ipython",
    "version": 3
   },
   "file_extension": ".py",
   "mimetype": "text/x-python",
   "name": "python",
   "nbconvert_exporter": "python",
   "pygments_lexer": "ipython3",
   "version": "3.11.6"
  }
 },
 "nbformat": 4,
 "nbformat_minor": 2
}
