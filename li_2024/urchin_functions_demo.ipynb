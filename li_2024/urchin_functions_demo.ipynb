{
 "cells": [
  {
   "cell_type": "code",
   "execution_count": 4,
   "metadata": {},
   "outputs": [
    {
     "name": "stdout",
     "output_type": "stream",
     "text": [
      "(URN) connected to server\n",
      "Login sent with ID: 25919de4, copy this ID into the renderer to connect.\n"
     ]
    }
   ],
   "source": [
    "import oursin as urchin\n",
    "urchin.setup(localhost=True, standalone = True)\n",
    "import numpy as np\n",
    "from matplotlib import pyplot as plt\n",
    "import ipywidgets as widgets"
   ]
  },
  {
   "cell_type": "code",
   "execution_count": 5,
   "metadata": {},
   "outputs": [],
   "source": [
    "from pathlib import Path\n",
    "dpath = Path(r'../../data/')\n",
    "st_samp = np.load(dpath / 'spike_times.npy')\n",
    "sc = np.load(dpath / 'spike_clusters.npy')\n",
    "#binned_spikes = urchin.ui.spikes_bin_data(st_samp,sc)\n",
    "event_start = np.load(\"../../data/natImsOnTimes.npy\")\n",
    "event_ids = np.load(\"../../data/natImsIDs.npy\") \n",
    "#prepped_data = urchin.ui.spikes_binned_event_average(binned_spikes,event_start,event_ids)"
   ]
  },
  {
   "cell_type": "code",
   "execution_count": 6,
   "metadata": {},
   "outputs": [
    {
     "ename": "AttributeError",
     "evalue": "module 'oursin' has no attribute 'ui'",
     "output_type": "error",
     "traceback": [
      "\u001b[1;31m---------------------------------------------------------------------------\u001b[0m",
      "\u001b[1;31mAttributeError\u001b[0m                            Traceback (most recent call last)",
      "Cell \u001b[1;32mIn[6], line 1\u001b[0m\n\u001b[1;32m----> 1\u001b[0m binned \u001b[38;5;241m=\u001b[39m \u001b[43murchin\u001b[49m\u001b[38;5;241;43m.\u001b[39;49m\u001b[43mui\u001b[49m\u001b[38;5;241m.\u001b[39mspikes_bin_data(st_samp, sc)\n",
      "\u001b[1;31mAttributeError\u001b[0m: module 'oursin' has no attribute 'ui'"
     ]
    }
   ],
   "source": [
    "binned = urchin.ui.spikes_bin_data(st_samp, sc)"
   ]
  }
 ],
 "metadata": {
  "kernelspec": {
   "display_name": "editable-venv",
   "language": "python",
   "name": "python3"
  },
  "language_info": {
   "codemirror_mode": {
    "name": "ipython",
    "version": 3
   },
   "file_extension": ".py",
   "mimetype": "text/x-python",
   "name": "python",
   "nbconvert_exporter": "python",
   "pygments_lexer": "ipython3",
   "version": "3.11.6"
  }
 },
 "nbformat": 4,
 "nbformat_minor": 2
}
