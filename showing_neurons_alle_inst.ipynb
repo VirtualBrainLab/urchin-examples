{
 "cells": [
  {
   "cell_type": "code",
   "execution_count": 11,
   "metadata": {},
   "outputs": [
    {
     "name": "stdout",
     "output_type": "stream",
     "text": [
      "(urchin) Client is already connected\n",
      "Login sent with ID: neurons\n"
     ]
    }
   ],
   "source": [
    "import oursin as urn\n",
    "import pandas as pd\n",
    "urn.setup()\n",
    "#urn.client.change_id('neurons')\n",
    "\n",
    "\n",
    "path = '/Users/jasmineschoch/Documents/UW/VBL/Urchin/Examples/data/jasmine/'\n",
    "brain_areas = [\"VISp\", \"VISl\", \"VISal\", \"VISpm\", \"VISam\", \"VISrl\", \"LGd\", \"LP\", \"CA1\", \"CA3\", \"DG\"]"
   ]
  },
  {
   "attachments": {},
   "cell_type": "markdown",
   "metadata": {},
   "source": []
  },
  {
   "cell_type": "code",
   "execution_count": 12,
   "metadata": {},
   "outputs": [],
   "source": [
    "import pandas as pd"
   ]
  },
  {
   "cell_type": "code",
   "execution_count": 13,
   "metadata": {},
   "outputs": [],
   "source": [
    "#Generating overall brain image:\n",
    "urn.ccf.set_visibility({'grey':True})\n",
    "urn.ccf.set_material({'grey':'transparent-unlit'})\n",
    "urn.ccf.set_alpha({'grey':0.1})"
   ]
  },
  {
   "cell_type": "code",
   "execution_count": 14,
   "metadata": {},
   "outputs": [],
   "source": [
    "#Generating colored areas of the brain for specifi areas used:\n",
    "for area in brain_areas:\n",
    "    area = area + \"-rh\"\n",
    "    urn.ccf.set_visibility({area:True})\n",
    "    urn.ccf.set_material({area:'transparent-unlit'})\n",
    "    urn.ccf.set_alpha({area:0.2})"
   ]
  },
  {
   "cell_type": "code",
   "execution_count": 15,
   "metadata": {},
   "outputs": [],
   "source": [
    "ccf_data = pd.read_csv(path + \"allen_dataset_demo.csv\")"
   ]
  },
  {
   "cell_type": "code",
   "execution_count": 16,
   "metadata": {},
   "outputs": [
    {
     "name": "stderr",
     "output_type": "stream",
     "text": [
      "packet queue is empty, aborting\n"
     ]
    },
    {
     "name": "stdout",
     "output_type": "stream",
     "text": [
      "(URN) disconnected from server\n",
      "(URN) connected to server\n",
      "Login sent with ID: root\n",
      "(URN) disconnected from server\n",
      "(URN) connected to server\n",
      "Login sent with ID: root\n",
      "(URN) disconnected from server\n",
      "(URN) connected to server\n",
      "Login sent with ID: root\n",
      "(URN) disconnected from server\n",
      "(URN) connected to server\n",
      "Login sent with ID: root\n",
      "(URN) disconnected from server\n",
      "(URN) connected to server\n",
      "Login sent with ID: root\n"
     ]
    },
    {
     "name": "stderr",
     "output_type": "stream",
     "text": [
      "packet queue is empty, aborting\n"
     ]
    },
    {
     "name": "stdout",
     "output_type": "stream",
     "text": [
      "(URN) disconnected from server\n",
      "(URN) connected to server\n",
      "Login sent with ID: root\n",
      "(URN) disconnected from server\n",
      "(URN) connected to server\n",
      "Login sent with ID: root\n",
      "(URN) disconnected from server\n",
      "(URN) connected to server\n",
      "Login sent with ID: root\n"
     ]
    },
    {
     "name": "stderr",
     "output_type": "stream",
     "text": [
      "packet queue is empty, aborting\n"
     ]
    },
    {
     "name": "stdout",
     "output_type": "stream",
     "text": [
      "(URN) disconnected from server\n",
      "(URN) connected to server\n",
      "Login sent with ID: root\n",
      "(URN) disconnected from server\n",
      "(URN) connected to server\n",
      "Login sent with ID: root\n",
      "(URN) disconnected from server\n",
      "(URN) connected to server\n",
      "Login sent with ID: root\n",
      "(URN) disconnected from server\n",
      "(URN) connected to server\n",
      "Login sent with ID: root\n",
      "(URN) disconnected from server\n",
      "(URN) connected to server\n",
      "Login sent with ID: root\n",
      "(URN) disconnected from server\n",
      "(URN) connected to server\n",
      "Login sent with ID: root\n",
      "(URN) disconnected from server\n",
      "(URN) connected to server\n",
      "Login sent with ID: root\n"
     ]
    },
    {
     "name": "stderr",
     "output_type": "stream",
     "text": [
      "packet queue is empty, aborting\n"
     ]
    },
    {
     "name": "stdout",
     "output_type": "stream",
     "text": [
      "(URN) disconnected from server\n",
      "(URN) connected to server\n",
      "Login sent with ID: root\n"
     ]
    },
    {
     "name": "stderr",
     "output_type": "stream",
     "text": [
      "packet queue is empty, aborting\n"
     ]
    },
    {
     "name": "stdout",
     "output_type": "stream",
     "text": [
      "(URN) disconnected from server\n",
      "(URN) connected to server\n",
      "Login sent with ID: root\n",
      "(URN) disconnected from server\n",
      "(URN) connected to server\n",
      "Login sent with ID: root\n",
      "(URN) disconnected from server\n",
      "(URN) connected to server\n",
      "Login sent with ID: root\n"
     ]
    },
    {
     "name": "stderr",
     "output_type": "stream",
     "text": [
      "packet queue is empty, aborting\n"
     ]
    },
    {
     "name": "stdout",
     "output_type": "stream",
     "text": [
      "(URN) disconnected from server\n",
      "(URN) connected to server\n",
      "Login sent with ID: root\n"
     ]
    },
    {
     "name": "stderr",
     "output_type": "stream",
     "text": [
      "packet queue is empty, aborting\n"
     ]
    },
    {
     "name": "stdout",
     "output_type": "stream",
     "text": [
      "(URN) disconnected from server\n",
      "(URN) connected to server\n",
      "Login sent with ID: root\n",
      "(URN) disconnected from server\n",
      "(URN) connected to server\n",
      "Login sent with ID: root\n",
      "(URN) connected to server\n",
      "Login sent with ID: root\n",
      "(URN) disconnected from server\n",
      "(URN) connected to server\n",
      "Login sent with ID: root\n",
      "(URN) disconnected from server\n",
      "(URN) connected to server\n",
      "Login sent with ID: root\n",
      "(URN) disconnected from server\n",
      "(URN) connected to server\n",
      "Login sent with ID: root\n",
      "(URN) disconnected from server\n",
      "(URN) connected to server\n",
      "Login sent with ID: root\n",
      "(URN) disconnected from server\n",
      "(URN) connected to server\n",
      "Login sent with ID: root\n"
     ]
    },
    {
     "name": "stderr",
     "output_type": "stream",
     "text": [
      "packet queue is empty, aborting\n"
     ]
    },
    {
     "name": "stdout",
     "output_type": "stream",
     "text": [
      "(URN) disconnected from server\n",
      "(URN) connected to server\n",
      "Login sent with ID: root\n"
     ]
    }
   ],
   "source": [
    "#Actually importing the data into the renderor -- caps out at 50k so skipping every 100 points\n",
    "urn.clear_neurons()\n",
    "\n",
    "neuron_names = []\n",
    "neuron_pos = {}\n",
    "neuron_size = {}\n",
    "neuron_color = {}\n",
    "neuron_material = {}\n",
    "\n",
    "count = 0\n",
    "\n",
    "for (i, row) in ccf_data.iterrows():\n",
    "    \n",
    "    nn = 'n' + str(i)\n",
    "\n",
    "    neuron_names.append(nn)\n",
    "    neuron_pos[nn] = [round(row.left_right_ccf_coordinate), round(row.anterior_posterior_ccf_coordinate), round(row.dorsal_ventral_ccf_coordinate)]\n",
    "    #neuron_size[nn] = 0.02\n",
    "    neuron_size[nn] = row[\"size_scale\"]\n",
    "    neuron_color[nn] = row.color\n",
    "    neuron_material[nn] = \"unlit\"\n",
    "    \n",
    "    \n",
    "    urn.neurons.create(neuron_names)\n",
    "    urn.neurons.set_position(neuron_pos)\n",
    "    urn.neurons.set_size(neuron_size)\n",
    "    urn.neurons.set_color(neuron_color)\n",
    "    urn.neurons.set_material(neuron_material)\n",
    "    \n",
    "    neuron_names = []\n",
    "    neuron_pos = {}\n",
    "    neuron_size = {}\n",
    "    neuron_mat = {}\n",
    "    neuron_color = {}\n",
    "    neuron_material = {}"
   ]
  },
  {
   "cell_type": "code",
   "execution_count": null,
   "metadata": {},
   "outputs": [],
   "source": []
  }
 ],
 "metadata": {
  "kernelspec": {
   "display_name": "Python 3.8.0 ('.venv': venv)",
   "language": "python",
   "name": "python3"
  },
  "language_info": {
   "codemirror_mode": {
    "name": "ipython",
    "version": 3
   },
   "file_extension": ".py",
   "mimetype": "text/x-python",
   "name": "python",
   "nbconvert_exporter": "python",
   "pygments_lexer": "ipython3",
   "version": "3.9.7"
  },
  "orig_nbformat": 4,
  "vscode": {
   "interpreter": {
    "hash": "32ea15b54e020d19ecf0cdf814223e004387b284fad3dfd966fd9a9987f16990"
   }
  }
 },
 "nbformat": 4,
 "nbformat_minor": 2
}
